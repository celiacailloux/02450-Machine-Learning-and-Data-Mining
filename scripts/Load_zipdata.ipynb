{
 "cells": [
  {
   "cell_type": "code",
   "execution_count": 1,
   "id": "hindu-vacation",
   "metadata": {},
   "outputs": [],
   "source": [
    "# %load K_ex2_3_1.py\n",
    "# exercise 2.3.1"
   ]
  },
  {
   "cell_type": "markdown",
   "id": "innocent-reliance",
   "metadata": {},
   "source": [
    "# Load zipdata.mat\n",
    "---\n",
    "This script loads zipdata.mat (matlab file). zipdata.mat contains data of handwritten digits used to write zip codes.\n",
    "\n",
    "\n",
    "## Tags\n",
    "\n",
    "### Pandas \n",
    "\n",
    "drop $\\cdot$ between $\\cdot$ unique $\\cdot$ describe $\\cdot$ info $\\cdot$ value_counts() $\\cdot$ to_frame $\\cdot$ sort_index $\\cdot$ index.astype $\\cdot$ dtypes.value.counts $\\cdot$\n",
    "\n",
    "### Other Python tags\n",
    "\n",
    "* image data\n",
    "* load matlab (.mat) data file\n",
    "sort (np)\n",
    "\n",
    "## Structure\n",
    "1. Load .mat data, convert to pandas dataframe and get an overview of data\n",
    "2. Assign useful and imporant variables\n",
    "3. Different pandas operations on the data\n",
    "\n",
    "## About\n",
    "**Contact Info** 2021 celiacailloux@gmail.com\n",
    " \n",
    "**Exercise Name** exercise 2.3.1 (course 02450 DTU 2018)\n",
    "\n",
    "---"
   ]
  },
  {
   "cell_type": "code",
   "execution_count": 168,
   "id": "innocent-international",
   "metadata": {},
   "outputs": [],
   "source": [
    "# import standard modules\n",
    "import matplotlib.pyplot as plt\n",
    "from scipy.io import loadmat\n",
    "from sklearn.neighbors import KNeighborsClassifier\n",
    "import scipy.linalg as linalg\n",
    "import numpy as np\n",
    "import pandas as pd"
   ]
  },
  {
   "cell_type": "markdown",
   "id": "automatic-whole",
   "metadata": {},
   "source": [
    "# 1. Load .mat data, convert to pandas dataframe"
   ]
  },
  {
   "cell_type": "markdown",
   "id": "floating-distinction",
   "metadata": {},
   "source": [
    "## Load .mat file"
   ]
  },
  {
   "cell_type": "code",
   "execution_count": 48,
   "id": "union-torture",
   "metadata": {},
   "outputs": [],
   "source": [
    "# Load Matlab data file and extract training set and test set\n",
    "mat_data = loadmat('../Data/zipdata.mat')"
   ]
  },
  {
   "cell_type": "code",
   "execution_count": 49,
   "id": "mysterious-petersburg",
   "metadata": {},
   "outputs": [
    {
     "data": {
      "text/plain": [
       "dict_keys(['__header__', '__version__', '__globals__', 'testdata', 'traindata'])"
      ]
     },
     "execution_count": 49,
     "metadata": {},
     "output_type": "execute_result"
    }
   ],
   "source": [
    "# Compute the of the dictionary containing .mat data\n",
    "mat_data.keys()"
   ]
  },
  {
   "cell_type": "markdown",
   "id": "adequate-blanket",
   "metadata": {},
   "source": [
    "## Convert .mat dict to pandas dataframe"
   ]
  },
  {
   "cell_type": "code",
   "execution_count": 153,
   "id": "quality-vertex",
   "metadata": {},
   "outputs": [
    {
     "data": {
      "text/plain": [
       "257"
      ]
     },
     "execution_count": 153,
     "metadata": {},
     "output_type": "execute_result"
    }
   ],
   "source": [
    "# Convert to pandas dataframe and add column names\n",
    "n_cols = mat_data['testdata'].shape[1]\n",
    "col_name_y = ['class']\n",
    "n_cols"
   ]
  },
  {
   "cell_type": "code",
   "execution_count": 68,
   "id": "outside-fortune",
   "metadata": {},
   "outputs": [],
   "source": [
    "col_names_X  = ['pixel {}'.format(i) for i in range(1, n_cols)] # 0th column is the y, ie. the class\n",
    "col_names    = col_name_y + col_names_X               "
   ]
  },
  {
   "cell_type": "code",
   "execution_count": 69,
   "id": "julian-throat",
   "metadata": {},
   "outputs": [],
   "source": [
    "data_test    = pd.DataFrame(mat_data['testdata'], \n",
    "                            columns = col_names )\n",
    "data_train   = pd.DataFrame(mat_data['traindata'], \n",
    "                            columns = col_names )"
   ]
  },
  {
   "cell_type": "code",
   "execution_count": 70,
   "id": "angry-printing",
   "metadata": {},
   "outputs": [
    {
     "data": {
      "text/html": [
       "<div>\n",
       "<style scoped>\n",
       "    .dataframe tbody tr th:only-of-type {\n",
       "        vertical-align: middle;\n",
       "    }\n",
       "\n",
       "    .dataframe tbody tr th {\n",
       "        vertical-align: top;\n",
       "    }\n",
       "\n",
       "    .dataframe thead th {\n",
       "        text-align: right;\n",
       "    }\n",
       "</style>\n",
       "<table border=\"1\" class=\"dataframe\">\n",
       "  <thead>\n",
       "    <tr style=\"text-align: right;\">\n",
       "      <th></th>\n",
       "      <th>class</th>\n",
       "      <th>pixel 1</th>\n",
       "      <th>pixel 2</th>\n",
       "      <th>pixel 3</th>\n",
       "      <th>pixel 4</th>\n",
       "      <th>pixel 5</th>\n",
       "      <th>pixel 6</th>\n",
       "      <th>pixel 7</th>\n",
       "      <th>pixel 8</th>\n",
       "      <th>pixel 9</th>\n",
       "      <th>...</th>\n",
       "      <th>pixel 247</th>\n",
       "      <th>pixel 248</th>\n",
       "      <th>pixel 249</th>\n",
       "      <th>pixel 250</th>\n",
       "      <th>pixel 251</th>\n",
       "      <th>pixel 252</th>\n",
       "      <th>pixel 253</th>\n",
       "      <th>pixel 254</th>\n",
       "      <th>pixel 255</th>\n",
       "      <th>pixel 256</th>\n",
       "    </tr>\n",
       "  </thead>\n",
       "  <tbody>\n",
       "    <tr>\n",
       "      <th>0</th>\n",
       "      <td>9.0</td>\n",
       "      <td>-1.0</td>\n",
       "      <td>-1.0</td>\n",
       "      <td>-1.0</td>\n",
       "      <td>-1.000</td>\n",
       "      <td>-1.0</td>\n",
       "      <td>-0.948</td>\n",
       "      <td>-0.561</td>\n",
       "      <td>0.148</td>\n",
       "      <td>0.384</td>\n",
       "      <td>...</td>\n",
       "      <td>-1.000</td>\n",
       "      <td>-0.908</td>\n",
       "      <td>0.430</td>\n",
       "      <td>0.622</td>\n",
       "      <td>-0.973</td>\n",
       "      <td>-1.000</td>\n",
       "      <td>-1.0</td>\n",
       "      <td>-1.0</td>\n",
       "      <td>-1.0</td>\n",
       "      <td>-1.0</td>\n",
       "    </tr>\n",
       "    <tr>\n",
       "      <th>1</th>\n",
       "      <td>6.0</td>\n",
       "      <td>-1.0</td>\n",
       "      <td>-1.0</td>\n",
       "      <td>-1.0</td>\n",
       "      <td>-1.000</td>\n",
       "      <td>-1.0</td>\n",
       "      <td>-1.000</td>\n",
       "      <td>-1.000</td>\n",
       "      <td>-1.000</td>\n",
       "      <td>-1.000</td>\n",
       "      <td>...</td>\n",
       "      <td>-1.000</td>\n",
       "      <td>-1.000</td>\n",
       "      <td>-1.000</td>\n",
       "      <td>-1.000</td>\n",
       "      <td>-1.000</td>\n",
       "      <td>-1.000</td>\n",
       "      <td>-1.0</td>\n",
       "      <td>-1.0</td>\n",
       "      <td>-1.0</td>\n",
       "      <td>-1.0</td>\n",
       "    </tr>\n",
       "    <tr>\n",
       "      <th>2</th>\n",
       "      <td>3.0</td>\n",
       "      <td>-1.0</td>\n",
       "      <td>-1.0</td>\n",
       "      <td>-1.0</td>\n",
       "      <td>-0.593</td>\n",
       "      <td>0.7</td>\n",
       "      <td>1.000</td>\n",
       "      <td>1.000</td>\n",
       "      <td>1.000</td>\n",
       "      <td>1.000</td>\n",
       "      <td>...</td>\n",
       "      <td>1.000</td>\n",
       "      <td>0.717</td>\n",
       "      <td>0.333</td>\n",
       "      <td>0.162</td>\n",
       "      <td>-0.393</td>\n",
       "      <td>-1.000</td>\n",
       "      <td>-1.0</td>\n",
       "      <td>-1.0</td>\n",
       "      <td>-1.0</td>\n",
       "      <td>-1.0</td>\n",
       "    </tr>\n",
       "    <tr>\n",
       "      <th>3</th>\n",
       "      <td>6.0</td>\n",
       "      <td>-1.0</td>\n",
       "      <td>-1.0</td>\n",
       "      <td>-1.0</td>\n",
       "      <td>-1.000</td>\n",
       "      <td>-1.0</td>\n",
       "      <td>-1.000</td>\n",
       "      <td>-1.000</td>\n",
       "      <td>-1.000</td>\n",
       "      <td>-1.000</td>\n",
       "      <td>...</td>\n",
       "      <td>-1.000</td>\n",
       "      <td>-1.000</td>\n",
       "      <td>-1.000</td>\n",
       "      <td>-1.000</td>\n",
       "      <td>-1.000</td>\n",
       "      <td>-1.000</td>\n",
       "      <td>-1.0</td>\n",
       "      <td>-1.0</td>\n",
       "      <td>-1.0</td>\n",
       "      <td>-1.0</td>\n",
       "    </tr>\n",
       "    <tr>\n",
       "      <th>4</th>\n",
       "      <td>6.0</td>\n",
       "      <td>-1.0</td>\n",
       "      <td>-1.0</td>\n",
       "      <td>-1.0</td>\n",
       "      <td>-1.000</td>\n",
       "      <td>-1.0</td>\n",
       "      <td>-1.000</td>\n",
       "      <td>-1.000</td>\n",
       "      <td>-0.858</td>\n",
       "      <td>-0.106</td>\n",
       "      <td>...</td>\n",
       "      <td>0.901</td>\n",
       "      <td>0.901</td>\n",
       "      <td>0.901</td>\n",
       "      <td>0.290</td>\n",
       "      <td>-0.369</td>\n",
       "      <td>-0.867</td>\n",
       "      <td>-1.0</td>\n",
       "      <td>-1.0</td>\n",
       "      <td>-1.0</td>\n",
       "      <td>-1.0</td>\n",
       "    </tr>\n",
       "  </tbody>\n",
       "</table>\n",
       "<p>5 rows × 257 columns</p>\n",
       "</div>"
      ],
      "text/plain": [
       "   class  pixel 1  pixel 2  pixel 3  pixel 4  pixel 5  pixel 6  pixel 7  \\\n",
       "0    9.0     -1.0     -1.0     -1.0   -1.000     -1.0   -0.948   -0.561   \n",
       "1    6.0     -1.0     -1.0     -1.0   -1.000     -1.0   -1.000   -1.000   \n",
       "2    3.0     -1.0     -1.0     -1.0   -0.593      0.7    1.000    1.000   \n",
       "3    6.0     -1.0     -1.0     -1.0   -1.000     -1.0   -1.000   -1.000   \n",
       "4    6.0     -1.0     -1.0     -1.0   -1.000     -1.0   -1.000   -1.000   \n",
       "\n",
       "   pixel 8  pixel 9  ...  pixel 247  pixel 248  pixel 249  pixel 250  \\\n",
       "0    0.148    0.384  ...     -1.000     -0.908      0.430      0.622   \n",
       "1   -1.000   -1.000  ...     -1.000     -1.000     -1.000     -1.000   \n",
       "2    1.000    1.000  ...      1.000      0.717      0.333      0.162   \n",
       "3   -1.000   -1.000  ...     -1.000     -1.000     -1.000     -1.000   \n",
       "4   -0.858   -0.106  ...      0.901      0.901      0.901      0.290   \n",
       "\n",
       "   pixel 251  pixel 252  pixel 253  pixel 254  pixel 255  pixel 256  \n",
       "0     -0.973     -1.000       -1.0       -1.0       -1.0       -1.0  \n",
       "1     -1.000     -1.000       -1.0       -1.0       -1.0       -1.0  \n",
       "2     -0.393     -1.000       -1.0       -1.0       -1.0       -1.0  \n",
       "3     -1.000     -1.000       -1.0       -1.0       -1.0       -1.0  \n",
       "4     -0.369     -0.867       -1.0       -1.0       -1.0       -1.0  \n",
       "\n",
       "[5 rows x 257 columns]"
      ]
     },
     "execution_count": 70,
     "metadata": {},
     "output_type": "execute_result"
    }
   ],
   "source": [
    "data_test.head(5)"
   ]
  },
  {
   "cell_type": "code",
   "execution_count": 71,
   "id": "treated-pregnancy",
   "metadata": {},
   "outputs": [
    {
     "data": {
      "text/html": [
       "<div>\n",
       "<style scoped>\n",
       "    .dataframe tbody tr th:only-of-type {\n",
       "        vertical-align: middle;\n",
       "    }\n",
       "\n",
       "    .dataframe tbody tr th {\n",
       "        vertical-align: top;\n",
       "    }\n",
       "\n",
       "    .dataframe thead th {\n",
       "        text-align: right;\n",
       "    }\n",
       "</style>\n",
       "<table border=\"1\" class=\"dataframe\">\n",
       "  <thead>\n",
       "    <tr style=\"text-align: right;\">\n",
       "      <th></th>\n",
       "      <th>class</th>\n",
       "      <th>pixel 1</th>\n",
       "      <th>pixel 2</th>\n",
       "      <th>pixel 3</th>\n",
       "      <th>pixel 4</th>\n",
       "      <th>pixel 5</th>\n",
       "      <th>pixel 6</th>\n",
       "      <th>pixel 7</th>\n",
       "      <th>pixel 8</th>\n",
       "      <th>pixel 9</th>\n",
       "      <th>...</th>\n",
       "      <th>pixel 247</th>\n",
       "      <th>pixel 248</th>\n",
       "      <th>pixel 249</th>\n",
       "      <th>pixel 250</th>\n",
       "      <th>pixel 251</th>\n",
       "      <th>pixel 252</th>\n",
       "      <th>pixel 253</th>\n",
       "      <th>pixel 254</th>\n",
       "      <th>pixel 255</th>\n",
       "      <th>pixel 256</th>\n",
       "    </tr>\n",
       "  </thead>\n",
       "  <tbody>\n",
       "    <tr>\n",
       "      <th>0</th>\n",
       "      <td>6.0</td>\n",
       "      <td>-1.0</td>\n",
       "      <td>-1.0</td>\n",
       "      <td>-1.0</td>\n",
       "      <td>-1.000</td>\n",
       "      <td>-1.000</td>\n",
       "      <td>-1.000</td>\n",
       "      <td>-1.000</td>\n",
       "      <td>-0.631</td>\n",
       "      <td>0.862</td>\n",
       "      <td>...</td>\n",
       "      <td>0.304</td>\n",
       "      <td>0.823</td>\n",
       "      <td>1.000</td>\n",
       "      <td>0.482</td>\n",
       "      <td>-0.474</td>\n",
       "      <td>-0.991</td>\n",
       "      <td>-1.000</td>\n",
       "      <td>-1.000</td>\n",
       "      <td>-1.000</td>\n",
       "      <td>-1.0</td>\n",
       "    </tr>\n",
       "    <tr>\n",
       "      <th>1</th>\n",
       "      <td>5.0</td>\n",
       "      <td>-1.0</td>\n",
       "      <td>-1.0</td>\n",
       "      <td>-1.0</td>\n",
       "      <td>-0.813</td>\n",
       "      <td>-0.671</td>\n",
       "      <td>-0.809</td>\n",
       "      <td>-0.887</td>\n",
       "      <td>-0.671</td>\n",
       "      <td>-0.853</td>\n",
       "      <td>...</td>\n",
       "      <td>-0.671</td>\n",
       "      <td>-0.671</td>\n",
       "      <td>-0.033</td>\n",
       "      <td>0.761</td>\n",
       "      <td>0.762</td>\n",
       "      <td>0.126</td>\n",
       "      <td>-0.095</td>\n",
       "      <td>-0.671</td>\n",
       "      <td>-0.828</td>\n",
       "      <td>-1.0</td>\n",
       "    </tr>\n",
       "    <tr>\n",
       "      <th>2</th>\n",
       "      <td>4.0</td>\n",
       "      <td>-1.0</td>\n",
       "      <td>-1.0</td>\n",
       "      <td>-1.0</td>\n",
       "      <td>-1.000</td>\n",
       "      <td>-1.000</td>\n",
       "      <td>-1.000</td>\n",
       "      <td>-1.000</td>\n",
       "      <td>-1.000</td>\n",
       "      <td>-1.000</td>\n",
       "      <td>...</td>\n",
       "      <td>-1.000</td>\n",
       "      <td>-1.000</td>\n",
       "      <td>-1.000</td>\n",
       "      <td>-0.109</td>\n",
       "      <td>1.000</td>\n",
       "      <td>-0.179</td>\n",
       "      <td>-1.000</td>\n",
       "      <td>-1.000</td>\n",
       "      <td>-1.000</td>\n",
       "      <td>-1.0</td>\n",
       "    </tr>\n",
       "    <tr>\n",
       "      <th>3</th>\n",
       "      <td>7.0</td>\n",
       "      <td>-1.0</td>\n",
       "      <td>-1.0</td>\n",
       "      <td>-1.0</td>\n",
       "      <td>-1.000</td>\n",
       "      <td>-1.000</td>\n",
       "      <td>-0.273</td>\n",
       "      <td>0.684</td>\n",
       "      <td>0.960</td>\n",
       "      <td>0.450</td>\n",
       "      <td>...</td>\n",
       "      <td>-0.318</td>\n",
       "      <td>1.000</td>\n",
       "      <td>0.536</td>\n",
       "      <td>-0.987</td>\n",
       "      <td>-1.000</td>\n",
       "      <td>-1.000</td>\n",
       "      <td>-1.000</td>\n",
       "      <td>-1.000</td>\n",
       "      <td>-1.000</td>\n",
       "      <td>-1.0</td>\n",
       "    </tr>\n",
       "    <tr>\n",
       "      <th>4</th>\n",
       "      <td>3.0</td>\n",
       "      <td>-1.0</td>\n",
       "      <td>-1.0</td>\n",
       "      <td>-1.0</td>\n",
       "      <td>-1.000</td>\n",
       "      <td>-1.000</td>\n",
       "      <td>-0.928</td>\n",
       "      <td>-0.204</td>\n",
       "      <td>0.751</td>\n",
       "      <td>0.466</td>\n",
       "      <td>...</td>\n",
       "      <td>0.466</td>\n",
       "      <td>0.639</td>\n",
       "      <td>1.000</td>\n",
       "      <td>1.000</td>\n",
       "      <td>0.791</td>\n",
       "      <td>0.439</td>\n",
       "      <td>-0.199</td>\n",
       "      <td>-0.883</td>\n",
       "      <td>-1.000</td>\n",
       "      <td>-1.0</td>\n",
       "    </tr>\n",
       "  </tbody>\n",
       "</table>\n",
       "<p>5 rows × 257 columns</p>\n",
       "</div>"
      ],
      "text/plain": [
       "   class  pixel 1  pixel 2  pixel 3  pixel 4  pixel 5  pixel 6  pixel 7  \\\n",
       "0    6.0     -1.0     -1.0     -1.0   -1.000   -1.000   -1.000   -1.000   \n",
       "1    5.0     -1.0     -1.0     -1.0   -0.813   -0.671   -0.809   -0.887   \n",
       "2    4.0     -1.0     -1.0     -1.0   -1.000   -1.000   -1.000   -1.000   \n",
       "3    7.0     -1.0     -1.0     -1.0   -1.000   -1.000   -0.273    0.684   \n",
       "4    3.0     -1.0     -1.0     -1.0   -1.000   -1.000   -0.928   -0.204   \n",
       "\n",
       "   pixel 8  pixel 9  ...  pixel 247  pixel 248  pixel 249  pixel 250  \\\n",
       "0   -0.631    0.862  ...      0.304      0.823      1.000      0.482   \n",
       "1   -0.671   -0.853  ...     -0.671     -0.671     -0.033      0.761   \n",
       "2   -1.000   -1.000  ...     -1.000     -1.000     -1.000     -0.109   \n",
       "3    0.960    0.450  ...     -0.318      1.000      0.536     -0.987   \n",
       "4    0.751    0.466  ...      0.466      0.639      1.000      1.000   \n",
       "\n",
       "   pixel 251  pixel 252  pixel 253  pixel 254  pixel 255  pixel 256  \n",
       "0     -0.474     -0.991     -1.000     -1.000     -1.000       -1.0  \n",
       "1      0.762      0.126     -0.095     -0.671     -0.828       -1.0  \n",
       "2      1.000     -0.179     -1.000     -1.000     -1.000       -1.0  \n",
       "3     -1.000     -1.000     -1.000     -1.000     -1.000       -1.0  \n",
       "4      0.791      0.439     -0.199     -0.883     -1.000       -1.0  \n",
       "\n",
       "[5 rows x 257 columns]"
      ]
     },
     "execution_count": 71,
     "metadata": {},
     "output_type": "execute_result"
    }
   ],
   "source": [
    "data_train.head(5)"
   ]
  },
  {
   "cell_type": "markdown",
   "id": "explicit-gabriel",
   "metadata": {},
   "source": [
    "# 2. Get acquainted with/verify you data"
   ]
  },
  {
   "cell_type": "code",
   "execution_count": 125,
   "id": "hungarian-turkey",
   "metadata": {},
   "outputs": [
    {
     "data": {
      "text/plain": [
       "float64    257\n",
       "dtype: int64"
      ]
     },
     "execution_count": 125,
     "metadata": {},
     "output_type": "execute_result"
    }
   ],
   "source": [
    "# Quick look at statistics \n",
    "# Identify any nulls\n",
    "# Check out data types\n",
    "# List number of each data type\n",
    "data_test.describe()\n",
    "#data_test.info(verbose = True, show_counts=True)\n",
    "data_test.dtypes\n",
    "data_test.dtypes.value_counts()"
   ]
  },
  {
   "cell_type": "code",
   "execution_count": 123,
   "id": "suited-globe",
   "metadata": {},
   "outputs": [
    {
     "data": {
      "text/plain": [
       "float64    257\n",
       "dtype: int64"
      ]
     },
     "execution_count": 123,
     "metadata": {},
     "output_type": "execute_result"
    }
   ],
   "source": [
    "# Quick look at statistics \n",
    "# Identify any nulls\n",
    "data_train.describe()\n",
    "#data_train.info(verbose = True, show_counts = True)\n",
    "data_train.dtypes\n",
    "data_train.dtypes.value_counts()"
   ]
  },
  {
   "cell_type": "markdown",
   "id": "radio-prisoner",
   "metadata": {},
   "source": [
    "# 2. Assign useful and imporant variables\n",
    "\n",
    "Features and classe, length etc (X, y, N, M)"
   ]
  },
  {
   "cell_type": "markdown",
   "id": "transsexual-sympathy",
   "metadata": {},
   "source": [
    "## Assign y  - training and test"
   ]
  },
  {
   "cell_type": "code",
   "execution_count": 132,
   "id": "blank-subsection",
   "metadata": {},
   "outputs": [],
   "source": [
    "# Assign X by dropping the first column\n",
    "# axis=1 referes to it dropping a column (ie. axis=0 is dropping a row)\n",
    "# inplace=True means that it works of the original df\n",
    "\n",
    "y_train = data_train[['class']] # importan to use double []\n",
    "y_test = data_test[['class']]"
   ]
  },
  {
   "cell_type": "code",
   "execution_count": 150,
   "id": "certified-holocaust",
   "metadata": {},
   "outputs": [
    {
     "data": {
      "text/html": [
       "<div>\n",
       "<style scoped>\n",
       "    .dataframe tbody tr th:only-of-type {\n",
       "        vertical-align: middle;\n",
       "    }\n",
       "\n",
       "    .dataframe tbody tr th {\n",
       "        vertical-align: top;\n",
       "    }\n",
       "\n",
       "    .dataframe thead th {\n",
       "        text-align: right;\n",
       "    }\n",
       "</style>\n",
       "<table border=\"1\" class=\"dataframe\">\n",
       "  <thead>\n",
       "    <tr style=\"text-align: right;\">\n",
       "      <th></th>\n",
       "      <th>class</th>\n",
       "    </tr>\n",
       "  </thead>\n",
       "  <tbody>\n",
       "    <tr>\n",
       "      <th>0</th>\n",
       "      <td>9.0</td>\n",
       "    </tr>\n",
       "    <tr>\n",
       "      <th>1</th>\n",
       "      <td>6.0</td>\n",
       "    </tr>\n",
       "    <tr>\n",
       "      <th>2</th>\n",
       "      <td>3.0</td>\n",
       "    </tr>\n",
       "    <tr>\n",
       "      <th>3</th>\n",
       "      <td>6.0</td>\n",
       "    </tr>\n",
       "    <tr>\n",
       "      <th>4</th>\n",
       "      <td>6.0</td>\n",
       "    </tr>\n",
       "  </tbody>\n",
       "</table>\n",
       "</div>"
      ],
      "text/plain": [
       "   class\n",
       "0    9.0\n",
       "1    6.0\n",
       "2    3.0\n",
       "3    6.0\n",
       "4    6.0"
      ]
     },
     "execution_count": 150,
     "metadata": {},
     "output_type": "execute_result"
    }
   ],
   "source": [
    "# Show Test Data\n",
    "y_train.head(5)\n",
    "y_test.head(5)"
   ]
  },
  {
   "cell_type": "markdown",
   "id": "ordinary-thumb",
   "metadata": {},
   "source": [
    "## Class names"
   ]
  },
  {
   "cell_type": "code",
   "execution_count": 136,
   "id": "statutory-fundamental",
   "metadata": {},
   "outputs": [
    {
     "data": {
      "text/plain": [
       "[0.0, 1.0, 2.0, 3.0, 4.0, 5.0, 6.0, 7.0, 8.0, 9.0]"
      ]
     },
     "execution_count": 136,
     "metadata": {},
     "output_type": "execute_result"
    }
   ],
   "source": [
    "classNamesList = sorted(y_train['class'].unique())\n",
    "classNamesList"
   ]
  },
  {
   "cell_type": "code",
   "execution_count": 138,
   "id": "composite-processor",
   "metadata": {},
   "outputs": [
    {
     "data": {
      "text/plain": [
       "{0.0: 0,\n",
       " 1.0: 1,\n",
       " 2.0: 2,\n",
       " 3.0: 3,\n",
       " 4.0: 4,\n",
       " 5.0: 5,\n",
       " 6.0: 6,\n",
       " 7.0: 7,\n",
       " 8.0: 8,\n",
       " 9.0: 9}"
      ]
     },
     "execution_count": 138,
     "metadata": {},
     "output_type": "execute_result"
    }
   ],
   "source": [
    "classDict = dict(zip(classNamesList, range(len(classNamesList))))\n",
    "classDict"
   ]
  },
  {
   "cell_type": "code",
   "execution_count": 142,
   "id": "capable-agriculture",
   "metadata": {},
   "outputs": [
    {
     "data": {
      "text/html": [
       "<div>\n",
       "<style scoped>\n",
       "    .dataframe tbody tr th:only-of-type {\n",
       "        vertical-align: middle;\n",
       "    }\n",
       "\n",
       "    .dataframe tbody tr th {\n",
       "        vertical-align: top;\n",
       "    }\n",
       "\n",
       "    .dataframe thead th {\n",
       "        text-align: right;\n",
       "    }\n",
       "</style>\n",
       "<table border=\"1\" class=\"dataframe\">\n",
       "  <thead>\n",
       "    <tr style=\"text-align: right;\">\n",
       "      <th></th>\n",
       "      <th>class</th>\n",
       "    </tr>\n",
       "  </thead>\n",
       "  <tbody>\n",
       "    <tr>\n",
       "      <th>0</th>\n",
       "      <td>6.0</td>\n",
       "    </tr>\n",
       "    <tr>\n",
       "      <th>1</th>\n",
       "      <td>5.0</td>\n",
       "    </tr>\n",
       "    <tr>\n",
       "      <th>2</th>\n",
       "      <td>4.0</td>\n",
       "    </tr>\n",
       "    <tr>\n",
       "      <th>3</th>\n",
       "      <td>7.0</td>\n",
       "    </tr>\n",
       "    <tr>\n",
       "      <th>4</th>\n",
       "      <td>3.0</td>\n",
       "    </tr>\n",
       "    <tr>\n",
       "      <th>5</th>\n",
       "      <td>1.0</td>\n",
       "    </tr>\n",
       "    <tr>\n",
       "      <th>6</th>\n",
       "      <td>0.0</td>\n",
       "    </tr>\n",
       "    <tr>\n",
       "      <th>7</th>\n",
       "      <td>8.0</td>\n",
       "    </tr>\n",
       "    <tr>\n",
       "      <th>8</th>\n",
       "      <td>2.0</td>\n",
       "    </tr>\n",
       "    <tr>\n",
       "      <th>9</th>\n",
       "      <td>9.0</td>\n",
       "    </tr>\n",
       "  </tbody>\n",
       "</table>\n",
       "</div>"
      ],
      "text/plain": [
       "   class\n",
       "0    6.0\n",
       "1    5.0\n",
       "2    4.0\n",
       "3    7.0\n",
       "4    3.0\n",
       "5    1.0\n",
       "6    0.0\n",
       "7    8.0\n",
       "8    2.0\n",
       "9    9.0"
      ]
     },
     "execution_count": 142,
     "metadata": {},
     "output_type": "execute_result"
    }
   ],
   "source": [
    "classNames = y_train[['class']].drop_duplicates().reset_index(drop=True)\n",
    "classNames"
   ]
  },
  {
   "cell_type": "markdown",
   "id": "fiscal-reserve",
   "metadata": {},
   "source": [
    "## Assign X - training and test"
   ]
  },
  {
   "cell_type": "code",
   "execution_count": null,
   "id": "weird-window",
   "metadata": {},
   "outputs": [],
   "source": [
    "X_train = data_train.drop('class', axis = 1) \n",
    "X_test = data_test.drop('class', axis = 1)"
   ]
  },
  {
   "cell_type": "code",
   "execution_count": 145,
   "id": "circular-image",
   "metadata": {},
   "outputs": [
    {
     "name": "stdout",
     "output_type": "stream",
     "text": [
      "Good job!\n",
      "\tNumber of features (M) for both\n",
      "\ttraining and test data are equal.\n"
     ]
    }
   ],
   "source": [
    "# Check if M_train and M_test have the same length\n",
    "if M_train == M_test:\n",
    "    print('Good job!\\n\\tNumber of features (M) for both')\n",
    "    print('\\ttraining and test data are equal.')\n",
    "else:\n",
    "    print('Double check training and test data!')\n",
    "    print('\\tM_train: {}\\nM_test: {}'.format(M_train, M_test))"
   ]
  },
  {
   "cell_type": "code",
   "execution_count": 146,
   "id": "forward-telescope",
   "metadata": {},
   "outputs": [
    {
     "name": "stdout",
     "output_type": "stream",
     "text": [
      "Good job!\n",
      "\ty and X have same dimensions!\n"
     ]
    }
   ],
   "source": [
    "# Check if y and X have the same number of observations (N)\n",
    "if y_train.shape[0] == X_train.shape[0]:\n",
    "    print('Good job!\\n\\ty and X have same dimensions!')\n",
    "else:\n",
    "    print('Double check y and X!')\n",
    "    print('\\ty shape: {}\\nX shape: {}'.format(y.shape, X.shape))"
   ]
  },
  {
   "cell_type": "code",
   "execution_count": 148,
   "id": "statistical-saturday",
   "metadata": {},
   "outputs": [
    {
     "data": {
      "text/html": [
       "<div>\n",
       "<style scoped>\n",
       "    .dataframe tbody tr th:only-of-type {\n",
       "        vertical-align: middle;\n",
       "    }\n",
       "\n",
       "    .dataframe tbody tr th {\n",
       "        vertical-align: top;\n",
       "    }\n",
       "\n",
       "    .dataframe thead th {\n",
       "        text-align: right;\n",
       "    }\n",
       "</style>\n",
       "<table border=\"1\" class=\"dataframe\">\n",
       "  <thead>\n",
       "    <tr style=\"text-align: right;\">\n",
       "      <th></th>\n",
       "      <th>pixel 1</th>\n",
       "      <th>pixel 2</th>\n",
       "      <th>pixel 3</th>\n",
       "      <th>pixel 4</th>\n",
       "      <th>pixel 5</th>\n",
       "      <th>pixel 6</th>\n",
       "      <th>pixel 7</th>\n",
       "      <th>pixel 8</th>\n",
       "      <th>pixel 9</th>\n",
       "      <th>pixel 10</th>\n",
       "      <th>...</th>\n",
       "      <th>pixel 247</th>\n",
       "      <th>pixel 248</th>\n",
       "      <th>pixel 249</th>\n",
       "      <th>pixel 250</th>\n",
       "      <th>pixel 251</th>\n",
       "      <th>pixel 252</th>\n",
       "      <th>pixel 253</th>\n",
       "      <th>pixel 254</th>\n",
       "      <th>pixel 255</th>\n",
       "      <th>pixel 256</th>\n",
       "    </tr>\n",
       "  </thead>\n",
       "  <tbody>\n",
       "    <tr>\n",
       "      <th>0</th>\n",
       "      <td>-1.0</td>\n",
       "      <td>-1.0</td>\n",
       "      <td>-1.0</td>\n",
       "      <td>-1.000</td>\n",
       "      <td>-1.0</td>\n",
       "      <td>-0.948</td>\n",
       "      <td>-0.561</td>\n",
       "      <td>0.148</td>\n",
       "      <td>0.384</td>\n",
       "      <td>0.904</td>\n",
       "      <td>...</td>\n",
       "      <td>-1.000</td>\n",
       "      <td>-0.908</td>\n",
       "      <td>0.430</td>\n",
       "      <td>0.622</td>\n",
       "      <td>-0.973</td>\n",
       "      <td>-1.000</td>\n",
       "      <td>-1.0</td>\n",
       "      <td>-1.0</td>\n",
       "      <td>-1.0</td>\n",
       "      <td>-1.0</td>\n",
       "    </tr>\n",
       "    <tr>\n",
       "      <th>1</th>\n",
       "      <td>-1.0</td>\n",
       "      <td>-1.0</td>\n",
       "      <td>-1.0</td>\n",
       "      <td>-1.000</td>\n",
       "      <td>-1.0</td>\n",
       "      <td>-1.000</td>\n",
       "      <td>-1.000</td>\n",
       "      <td>-1.000</td>\n",
       "      <td>-1.000</td>\n",
       "      <td>-1.000</td>\n",
       "      <td>...</td>\n",
       "      <td>-1.000</td>\n",
       "      <td>-1.000</td>\n",
       "      <td>-1.000</td>\n",
       "      <td>-1.000</td>\n",
       "      <td>-1.000</td>\n",
       "      <td>-1.000</td>\n",
       "      <td>-1.0</td>\n",
       "      <td>-1.0</td>\n",
       "      <td>-1.0</td>\n",
       "      <td>-1.0</td>\n",
       "    </tr>\n",
       "    <tr>\n",
       "      <th>2</th>\n",
       "      <td>-1.0</td>\n",
       "      <td>-1.0</td>\n",
       "      <td>-1.0</td>\n",
       "      <td>-0.593</td>\n",
       "      <td>0.7</td>\n",
       "      <td>1.000</td>\n",
       "      <td>1.000</td>\n",
       "      <td>1.000</td>\n",
       "      <td>1.000</td>\n",
       "      <td>0.853</td>\n",
       "      <td>...</td>\n",
       "      <td>1.000</td>\n",
       "      <td>0.717</td>\n",
       "      <td>0.333</td>\n",
       "      <td>0.162</td>\n",
       "      <td>-0.393</td>\n",
       "      <td>-1.000</td>\n",
       "      <td>-1.0</td>\n",
       "      <td>-1.0</td>\n",
       "      <td>-1.0</td>\n",
       "      <td>-1.0</td>\n",
       "    </tr>\n",
       "    <tr>\n",
       "      <th>3</th>\n",
       "      <td>-1.0</td>\n",
       "      <td>-1.0</td>\n",
       "      <td>-1.0</td>\n",
       "      <td>-1.000</td>\n",
       "      <td>-1.0</td>\n",
       "      <td>-1.000</td>\n",
       "      <td>-1.000</td>\n",
       "      <td>-1.000</td>\n",
       "      <td>-1.000</td>\n",
       "      <td>-1.000</td>\n",
       "      <td>...</td>\n",
       "      <td>-1.000</td>\n",
       "      <td>-1.000</td>\n",
       "      <td>-1.000</td>\n",
       "      <td>-1.000</td>\n",
       "      <td>-1.000</td>\n",
       "      <td>-1.000</td>\n",
       "      <td>-1.0</td>\n",
       "      <td>-1.0</td>\n",
       "      <td>-1.0</td>\n",
       "      <td>-1.0</td>\n",
       "    </tr>\n",
       "    <tr>\n",
       "      <th>4</th>\n",
       "      <td>-1.0</td>\n",
       "      <td>-1.0</td>\n",
       "      <td>-1.0</td>\n",
       "      <td>-1.000</td>\n",
       "      <td>-1.0</td>\n",
       "      <td>-1.000</td>\n",
       "      <td>-1.000</td>\n",
       "      <td>-0.858</td>\n",
       "      <td>-0.106</td>\n",
       "      <td>0.802</td>\n",
       "      <td>...</td>\n",
       "      <td>0.901</td>\n",
       "      <td>0.901</td>\n",
       "      <td>0.901</td>\n",
       "      <td>0.290</td>\n",
       "      <td>-0.369</td>\n",
       "      <td>-0.867</td>\n",
       "      <td>-1.0</td>\n",
       "      <td>-1.0</td>\n",
       "      <td>-1.0</td>\n",
       "      <td>-1.0</td>\n",
       "    </tr>\n",
       "  </tbody>\n",
       "</table>\n",
       "<p>5 rows × 256 columns</p>\n",
       "</div>"
      ],
      "text/plain": [
       "   pixel 1  pixel 2  pixel 3  pixel 4  pixel 5  pixel 6  pixel 7  pixel 8  \\\n",
       "0     -1.0     -1.0     -1.0   -1.000     -1.0   -0.948   -0.561    0.148   \n",
       "1     -1.0     -1.0     -1.0   -1.000     -1.0   -1.000   -1.000   -1.000   \n",
       "2     -1.0     -1.0     -1.0   -0.593      0.7    1.000    1.000    1.000   \n",
       "3     -1.0     -1.0     -1.0   -1.000     -1.0   -1.000   -1.000   -1.000   \n",
       "4     -1.0     -1.0     -1.0   -1.000     -1.0   -1.000   -1.000   -0.858   \n",
       "\n",
       "   pixel 9  pixel 10  ...  pixel 247  pixel 248  pixel 249  pixel 250  \\\n",
       "0    0.384     0.904  ...     -1.000     -0.908      0.430      0.622   \n",
       "1   -1.000    -1.000  ...     -1.000     -1.000     -1.000     -1.000   \n",
       "2    1.000     0.853  ...      1.000      0.717      0.333      0.162   \n",
       "3   -1.000    -1.000  ...     -1.000     -1.000     -1.000     -1.000   \n",
       "4   -0.106     0.802  ...      0.901      0.901      0.901      0.290   \n",
       "\n",
       "   pixel 251  pixel 252  pixel 253  pixel 254  pixel 255  pixel 256  \n",
       "0     -0.973     -1.000       -1.0       -1.0       -1.0       -1.0  \n",
       "1     -1.000     -1.000       -1.0       -1.0       -1.0       -1.0  \n",
       "2     -0.393     -1.000       -1.0       -1.0       -1.0       -1.0  \n",
       "3     -1.000     -1.000       -1.0       -1.0       -1.0       -1.0  \n",
       "4     -0.369     -0.867       -1.0       -1.0       -1.0       -1.0  \n",
       "\n",
       "[5 rows x 256 columns]"
      ]
     },
     "execution_count": 148,
     "metadata": {},
     "output_type": "execute_result"
    }
   ],
   "source": [
    "# Show Training Data\n",
    "X_train.head(5)\n",
    "X_test.head(5)"
   ]
  },
  {
   "cell_type": "markdown",
   "id": "listed-calcium",
   "metadata": {},
   "source": [
    "## Dimensionality constants\n",
    "* Number of observations *N*\n",
    "* Number of Attributes *M*\n",
    "* Number of classes *C*"
   ]
  },
  {
   "cell_type": "code",
   "execution_count": 165,
   "id": "improving-reason",
   "metadata": {},
   "outputs": [],
   "source": [
    "# Compute values of N, M and C.\n",
    "N = len(y_train)        # number of observations\n",
    "M = X_train.shape[1]\n",
    "C = len(classNames)     # number of classes\n",
    "sqrt_M = np.sqrt(M)"
   ]
  },
  {
   "cell_type": "code",
   "execution_count": 166,
   "id": "corresponding-ireland",
   "metadata": {},
   "outputs": [],
   "source": [
    "N_train, M_train = N, M\n",
    "N_test, M_test = N, M"
   ]
  },
  {
   "cell_type": "markdown",
   "id": "optical-specification",
   "metadata": {},
   "source": [
    "# 3. Different pandas operations on the data"
   ]
  },
  {
   "cell_type": "markdown",
   "id": "moving-zealand",
   "metadata": {},
   "source": [
    "## Train data"
   ]
  },
  {
   "cell_type": "code",
   "execution_count": 13,
   "id": "retained-pendant",
   "metadata": {},
   "outputs": [
    {
     "data": {
      "text/html": [
       "<div>\n",
       "<style scoped>\n",
       "    .dataframe tbody tr th:only-of-type {\n",
       "        vertical-align: middle;\n",
       "    }\n",
       "\n",
       "    .dataframe tbody tr th {\n",
       "        vertical-align: top;\n",
       "    }\n",
       "\n",
       "    .dataframe thead th {\n",
       "        text-align: right;\n",
       "    }\n",
       "</style>\n",
       "<table border=\"1\" class=\"dataframe\">\n",
       "  <thead>\n",
       "    <tr style=\"text-align: right;\">\n",
       "      <th></th>\n",
       "      <th>class</th>\n",
       "      <th>pixel1</th>\n",
       "      <th>pixel2</th>\n",
       "      <th>pixel3</th>\n",
       "      <th>pixel4</th>\n",
       "      <th>pixel5</th>\n",
       "      <th>pixel6</th>\n",
       "      <th>pixel7</th>\n",
       "      <th>pixel8</th>\n",
       "      <th>pixel9</th>\n",
       "      <th>...</th>\n",
       "      <th>pixel247</th>\n",
       "      <th>pixel248</th>\n",
       "      <th>pixel249</th>\n",
       "      <th>pixel250</th>\n",
       "      <th>pixel251</th>\n",
       "      <th>pixel252</th>\n",
       "      <th>pixel253</th>\n",
       "      <th>pixel254</th>\n",
       "      <th>pixel255</th>\n",
       "      <th>pixel256</th>\n",
       "    </tr>\n",
       "  </thead>\n",
       "  <tbody>\n",
       "    <tr>\n",
       "      <th>0</th>\n",
       "      <td>6.0</td>\n",
       "      <td>-1.0</td>\n",
       "      <td>-1.0</td>\n",
       "      <td>-1.0</td>\n",
       "      <td>-1.000</td>\n",
       "      <td>-1.000</td>\n",
       "      <td>-1.000</td>\n",
       "      <td>-1.000</td>\n",
       "      <td>-0.631</td>\n",
       "      <td>0.862</td>\n",
       "      <td>...</td>\n",
       "      <td>0.304</td>\n",
       "      <td>0.823</td>\n",
       "      <td>1.000</td>\n",
       "      <td>0.482</td>\n",
       "      <td>-0.474</td>\n",
       "      <td>-0.991</td>\n",
       "      <td>-1.000</td>\n",
       "      <td>-1.000</td>\n",
       "      <td>-1.000</td>\n",
       "      <td>-1.0</td>\n",
       "    </tr>\n",
       "    <tr>\n",
       "      <th>1</th>\n",
       "      <td>5.0</td>\n",
       "      <td>-1.0</td>\n",
       "      <td>-1.0</td>\n",
       "      <td>-1.0</td>\n",
       "      <td>-0.813</td>\n",
       "      <td>-0.671</td>\n",
       "      <td>-0.809</td>\n",
       "      <td>-0.887</td>\n",
       "      <td>-0.671</td>\n",
       "      <td>-0.853</td>\n",
       "      <td>...</td>\n",
       "      <td>-0.671</td>\n",
       "      <td>-0.671</td>\n",
       "      <td>-0.033</td>\n",
       "      <td>0.761</td>\n",
       "      <td>0.762</td>\n",
       "      <td>0.126</td>\n",
       "      <td>-0.095</td>\n",
       "      <td>-0.671</td>\n",
       "      <td>-0.828</td>\n",
       "      <td>-1.0</td>\n",
       "    </tr>\n",
       "    <tr>\n",
       "      <th>2</th>\n",
       "      <td>4.0</td>\n",
       "      <td>-1.0</td>\n",
       "      <td>-1.0</td>\n",
       "      <td>-1.0</td>\n",
       "      <td>-1.000</td>\n",
       "      <td>-1.000</td>\n",
       "      <td>-1.000</td>\n",
       "      <td>-1.000</td>\n",
       "      <td>-1.000</td>\n",
       "      <td>-1.000</td>\n",
       "      <td>...</td>\n",
       "      <td>-1.000</td>\n",
       "      <td>-1.000</td>\n",
       "      <td>-1.000</td>\n",
       "      <td>-0.109</td>\n",
       "      <td>1.000</td>\n",
       "      <td>-0.179</td>\n",
       "      <td>-1.000</td>\n",
       "      <td>-1.000</td>\n",
       "      <td>-1.000</td>\n",
       "      <td>-1.0</td>\n",
       "    </tr>\n",
       "    <tr>\n",
       "      <th>3</th>\n",
       "      <td>7.0</td>\n",
       "      <td>-1.0</td>\n",
       "      <td>-1.0</td>\n",
       "      <td>-1.0</td>\n",
       "      <td>-1.000</td>\n",
       "      <td>-1.000</td>\n",
       "      <td>-0.273</td>\n",
       "      <td>0.684</td>\n",
       "      <td>0.960</td>\n",
       "      <td>0.450</td>\n",
       "      <td>...</td>\n",
       "      <td>-0.318</td>\n",
       "      <td>1.000</td>\n",
       "      <td>0.536</td>\n",
       "      <td>-0.987</td>\n",
       "      <td>-1.000</td>\n",
       "      <td>-1.000</td>\n",
       "      <td>-1.000</td>\n",
       "      <td>-1.000</td>\n",
       "      <td>-1.000</td>\n",
       "      <td>-1.0</td>\n",
       "    </tr>\n",
       "    <tr>\n",
       "      <th>4</th>\n",
       "      <td>3.0</td>\n",
       "      <td>-1.0</td>\n",
       "      <td>-1.0</td>\n",
       "      <td>-1.0</td>\n",
       "      <td>-1.000</td>\n",
       "      <td>-1.000</td>\n",
       "      <td>-0.928</td>\n",
       "      <td>-0.204</td>\n",
       "      <td>0.751</td>\n",
       "      <td>0.466</td>\n",
       "      <td>...</td>\n",
       "      <td>0.466</td>\n",
       "      <td>0.639</td>\n",
       "      <td>1.000</td>\n",
       "      <td>1.000</td>\n",
       "      <td>0.791</td>\n",
       "      <td>0.439</td>\n",
       "      <td>-0.199</td>\n",
       "      <td>-0.883</td>\n",
       "      <td>-1.000</td>\n",
       "      <td>-1.0</td>\n",
       "    </tr>\n",
       "  </tbody>\n",
       "</table>\n",
       "<p>5 rows × 257 columns</p>\n",
       "</div>"
      ],
      "text/plain": [
       "   class  pixel1  pixel2  pixel3  pixel4  pixel5  pixel6  pixel7  pixel8  \\\n",
       "0    6.0    -1.0    -1.0    -1.0  -1.000  -1.000  -1.000  -1.000  -0.631   \n",
       "1    5.0    -1.0    -1.0    -1.0  -0.813  -0.671  -0.809  -0.887  -0.671   \n",
       "2    4.0    -1.0    -1.0    -1.0  -1.000  -1.000  -1.000  -1.000  -1.000   \n",
       "3    7.0    -1.0    -1.0    -1.0  -1.000  -1.000  -0.273   0.684   0.960   \n",
       "4    3.0    -1.0    -1.0    -1.0  -1.000  -1.000  -0.928  -0.204   0.751   \n",
       "\n",
       "   pixel9  ...  pixel247  pixel248  pixel249  pixel250  pixel251  pixel252  \\\n",
       "0   0.862  ...     0.304     0.823     1.000     0.482    -0.474    -0.991   \n",
       "1  -0.853  ...    -0.671    -0.671    -0.033     0.761     0.762     0.126   \n",
       "2  -1.000  ...    -1.000    -1.000    -1.000    -0.109     1.000    -0.179   \n",
       "3   0.450  ...    -0.318     1.000     0.536    -0.987    -1.000    -1.000   \n",
       "4   0.466  ...     0.466     0.639     1.000     1.000     0.791     0.439   \n",
       "\n",
       "   pixel253  pixel254  pixel255  pixel256  \n",
       "0    -1.000    -1.000    -1.000      -1.0  \n",
       "1    -0.095    -0.671    -0.828      -1.0  \n",
       "2    -1.000    -1.000    -1.000      -1.0  \n",
       "3    -1.000    -1.000    -1.000      -1.0  \n",
       "4    -0.199    -0.883    -1.000      -1.0  \n",
       "\n",
       "[5 rows x 257 columns]"
      ]
     },
     "execution_count": 13,
     "metadata": {},
     "output_type": "execute_result"
    }
   ],
   "source": [
    "# show only classes between i and j\n",
    "i = 0\n",
    "j = 9\n",
    "test_between = train_data[train_data['class'].between(i,j)]\n",
    "test_between.head()"
   ]
  },
  {
   "cell_type": "code",
   "execution_count": 14,
   "id": "removed-wright",
   "metadata": {},
   "outputs": [
    {
     "data": {
      "text/plain": [
       "array([0., 1., 2., 3., 4., 5., 6., 7., 8., 9.])"
      ]
     },
     "execution_count": 14,
     "metadata": {},
     "output_type": "execute_result"
    }
   ],
   "source": [
    "# Returns the uniques without sorting is\n",
    "uniques = test_between['class'].unique()\n",
    "uniques.sort()  # uncomment to sort\n",
    "uniques"
   ]
  },
  {
   "cell_type": "code",
   "execution_count": 15,
   "id": "sharp-going",
   "metadata": {},
   "outputs": [],
   "source": [
    "# Count how many times you the unique values in 'class' apears\n",
    "unique_counts = test_between['class'].value_counts().to_frame('counts')\n",
    "# unique_counts.index.name = 'class'\n",
    "unique_counts.sort_index(inplace = True)\n",
    "unique_counts['class'] = unique_counts.index.astype('int32')"
   ]
  },
  {
   "cell_type": "code",
   "execution_count": 16,
   "id": "cooked-thompson",
   "metadata": {},
   "outputs": [
    {
     "data": {
      "text/html": [
       "<div>\n",
       "<style scoped>\n",
       "    .dataframe tbody tr th:only-of-type {\n",
       "        vertical-align: middle;\n",
       "    }\n",
       "\n",
       "    .dataframe tbody tr th {\n",
       "        vertical-align: top;\n",
       "    }\n",
       "\n",
       "    .dataframe thead th {\n",
       "        text-align: right;\n",
       "    }\n",
       "</style>\n",
       "<table border=\"1\" class=\"dataframe\">\n",
       "  <thead>\n",
       "    <tr style=\"text-align: right;\">\n",
       "      <th></th>\n",
       "      <th>counts</th>\n",
       "      <th>class</th>\n",
       "    </tr>\n",
       "  </thead>\n",
       "  <tbody>\n",
       "    <tr>\n",
       "      <th>0.0</th>\n",
       "      <td>1194</td>\n",
       "      <td>0</td>\n",
       "    </tr>\n",
       "    <tr>\n",
       "      <th>1.0</th>\n",
       "      <td>1005</td>\n",
       "      <td>1</td>\n",
       "    </tr>\n",
       "    <tr>\n",
       "      <th>2.0</th>\n",
       "      <td>731</td>\n",
       "      <td>2</td>\n",
       "    </tr>\n",
       "    <tr>\n",
       "      <th>3.0</th>\n",
       "      <td>658</td>\n",
       "      <td>3</td>\n",
       "    </tr>\n",
       "    <tr>\n",
       "      <th>4.0</th>\n",
       "      <td>652</td>\n",
       "      <td>4</td>\n",
       "    </tr>\n",
       "    <tr>\n",
       "      <th>5.0</th>\n",
       "      <td>556</td>\n",
       "      <td>5</td>\n",
       "    </tr>\n",
       "    <tr>\n",
       "      <th>6.0</th>\n",
       "      <td>664</td>\n",
       "      <td>6</td>\n",
       "    </tr>\n",
       "    <tr>\n",
       "      <th>7.0</th>\n",
       "      <td>645</td>\n",
       "      <td>7</td>\n",
       "    </tr>\n",
       "    <tr>\n",
       "      <th>8.0</th>\n",
       "      <td>542</td>\n",
       "      <td>8</td>\n",
       "    </tr>\n",
       "    <tr>\n",
       "      <th>9.0</th>\n",
       "      <td>644</td>\n",
       "      <td>9</td>\n",
       "    </tr>\n",
       "  </tbody>\n",
       "</table>\n",
       "</div>"
      ],
      "text/plain": [
       "     counts  class\n",
       "0.0    1194      0\n",
       "1.0    1005      1\n",
       "2.0     731      2\n",
       "3.0     658      3\n",
       "4.0     652      4\n",
       "5.0     556      5\n",
       "6.0     664      6\n",
       "7.0     645      7\n",
       "8.0     542      8\n",
       "9.0     644      9"
      ]
     },
     "execution_count": 16,
     "metadata": {},
     "output_type": "execute_result"
    }
   ],
   "source": [
    "unique_counts"
   ]
  },
  {
   "cell_type": "code",
   "execution_count": 172,
   "id": "excellent-brazil",
   "metadata": {},
   "outputs": [
    {
     "data": {
      "text/plain": [
       "Text(0, 0.5, 'Counts')"
      ]
     },
     "execution_count": 172,
     "metadata": {},
     "output_type": "execute_result"
    },
    {
     "data": {
      "image/png": "[encoded data removed]",
      "text/plain": [
       "<Figure size 432x288 with 1 Axes>"
      ]
     },
     "metadata": {
      "needs_background": "light"
     },
     "output_type": "display_data"
    }
   ],
   "source": [
    "plt.bar(unique_counts['class'], unique_counts['counts'])\n",
    "plt.title('Train Data')\n",
    "plt.xlabel('Digit')\n",
    "plt.ylabel('Counts')"
   ]
  },
  {
   "cell_type": "code",
   "execution_count": 18,
   "id": "approximate-invention",
   "metadata": {},
   "outputs": [],
   "source": [
    "# unique_counts.index"
   ]
  },
  {
   "cell_type": "markdown",
   "id": "pharmaceutical-dating",
   "metadata": {},
   "source": [
    "## Test data"
   ]
  },
  {
   "cell_type": "code",
   "execution_count": 182,
   "id": "affiliated-virtue",
   "metadata": {},
   "outputs": [
    {
     "data": {
      "text/html": [
       "<div>\n",
       "<style scoped>\n",
       "    .dataframe tbody tr th:only-of-type {\n",
       "        vertical-align: middle;\n",
       "    }\n",
       "\n",
       "    .dataframe tbody tr th {\n",
       "        vertical-align: top;\n",
       "    }\n",
       "\n",
       "    .dataframe thead th {\n",
       "        text-align: right;\n",
       "    }\n",
       "</style>\n",
       "<table border=\"1\" class=\"dataframe\">\n",
       "  <thead>\n",
       "    <tr style=\"text-align: right;\">\n",
       "      <th></th>\n",
       "      <th>counts</th>\n",
       "      <th>class</th>\n",
       "    </tr>\n",
       "  </thead>\n",
       "  <tbody>\n",
       "    <tr>\n",
       "      <th>0.0</th>\n",
       "      <td>359</td>\n",
       "      <td>0</td>\n",
       "    </tr>\n",
       "    <tr>\n",
       "      <th>1.0</th>\n",
       "      <td>264</td>\n",
       "      <td>1</td>\n",
       "    </tr>\n",
       "    <tr>\n",
       "      <th>2.0</th>\n",
       "      <td>198</td>\n",
       "      <td>2</td>\n",
       "    </tr>\n",
       "    <tr>\n",
       "      <th>3.0</th>\n",
       "      <td>166</td>\n",
       "      <td>3</td>\n",
       "    </tr>\n",
       "    <tr>\n",
       "      <th>4.0</th>\n",
       "      <td>200</td>\n",
       "      <td>4</td>\n",
       "    </tr>\n",
       "    <tr>\n",
       "      <th>5.0</th>\n",
       "      <td>160</td>\n",
       "      <td>5</td>\n",
       "    </tr>\n",
       "    <tr>\n",
       "      <th>6.0</th>\n",
       "      <td>170</td>\n",
       "      <td>6</td>\n",
       "    </tr>\n",
       "    <tr>\n",
       "      <th>7.0</th>\n",
       "      <td>147</td>\n",
       "      <td>7</td>\n",
       "    </tr>\n",
       "    <tr>\n",
       "      <th>8.0</th>\n",
       "      <td>166</td>\n",
       "      <td>8</td>\n",
       "    </tr>\n",
       "    <tr>\n",
       "      <th>9.0</th>\n",
       "      <td>177</td>\n",
       "      <td>9</td>\n",
       "    </tr>\n",
       "  </tbody>\n",
       "</table>\n",
       "</div>"
      ],
      "text/plain": [
       "     counts  class\n",
       "0.0     359      0\n",
       "1.0     264      1\n",
       "2.0     198      2\n",
       "3.0     166      3\n",
       "4.0     200      4\n",
       "5.0     160      5\n",
       "6.0     170      6\n",
       "7.0     147      7\n",
       "8.0     166      8\n",
       "9.0     177      9"
      ]
     },
     "execution_count": 182,
     "metadata": {},
     "output_type": "execute_result"
    }
   ],
   "source": [
    "# Returns the uniques and sort\n",
    "uniques_test = test_data['class'].unique()\n",
    "uniques_test.sort()  # uncomment to sort\n",
    "# Count how many times you the unique values in 'class' apears\n",
    "unique_counts_test = test_data['class'].value_counts().to_frame('counts')\n",
    "unique_counts_test.sort_index(inplace = True) # sort it by index\n",
    "unique_counts_test['class'] = unique_counts.index.astype('int32') # convert to integer\n",
    "unique_counts_test"
   ]
  },
  {
   "cell_type": "code",
   "execution_count": 185,
   "id": "efficient-astronomy",
   "metadata": {},
   "outputs": [
    {
     "data": {
      "text/plain": [
       "Text(0, 0.5, 'Counts')"
      ]
     },
     "execution_count": 185,
     "metadata": {},
     "output_type": "execute_result"
    },
    {
     "data": {
      "image/png": "[encoded data removed]",
      "text/plain": [
       "<Figure size 432x288 with 1 Axes>"
      ]
     },
     "metadata": {
      "needs_background": "light"
     },
     "output_type": "display_data"
    }
   ],
   "source": [
    "plt.bar(unique_counts_test['class'], unique_counts_test['counts'])\n",
    "plt.title('Test Data')\n",
    "plt.xlabel('Digit')\n",
    "plt.ylabel('Counts')"
   ]
  },
  {
   "cell_type": "markdown",
   "id": "convertible-campaign",
   "metadata": {},
   "source": [
    "## Return all digits values that appear less than 600 times"
   ]
  },
  {
   "cell_type": "code",
   "execution_count": 19,
   "id": "similar-challenge",
   "metadata": {},
   "outputs": [
    {
     "data": {
      "text/plain": [
       "[5.0, 8.0]"
      ]
     },
     "execution_count": 19,
     "metadata": {},
     "output_type": "execute_result"
    }
   ],
   "source": [
    "# find \"anomaly\" find that class, where the counts are less than 600\n",
    "[_class for _class in unique_counts.index if len(test_between[test_between['class'] == _class]) <= 600]"
   ]
  },
  {
   "cell_type": "markdown",
   "id": "abstract-trout",
   "metadata": {},
   "source": [
    "# 5. Message printet when running the script"
   ]
  },
  {
   "cell_type": "code",
   "execution_count": 32,
   "id": "ordinary-spanking",
   "metadata": {},
   "outputs": [
    {
     "name": "stdout",
     "output_type": "stream",
     "text": [
      "----------------------------------------\n",
      "Zip Data Succesfully Loaded\n",
      "Run %whos to view all imported variables\n",
      "----------------------------------------\n"
     ]
    }
   ],
   "source": [
    "print('----------------------------------------')\n",
    "print('Zip Data Succesfully Loaded')\n",
    "print('Run %whos to view all imported variables')\n",
    "print('----------------------------------------')"
   ]
  }
 ],
 "metadata": {
  "kernelspec": {
   "display_name": "Python 3",
   "language": "python",
   "name": "python3"
  },
  "language_info": {
   "codemirror_mode": {
    "name": "ipython",
    "version": 3
   },
   "file_extension": ".py",
   "mimetype": "text/x-python",
   "name": "python",
   "nbconvert_exporter": "python",
   "pygments_lexer": "ipython3",
   "version": "3.8.2"
  }
 },
 "nbformat": 4,
 "nbformat_minor": 5
}
