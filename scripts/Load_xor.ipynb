{
 "cells": [
  {
   "cell_type": "code",
   "execution_count": 97,
   "id": "hindu-vacation",
   "metadata": {},
   "outputs": [],
   "source": [
    "# %load K_ex2_3_1.py\n",
    "# exercise 2.3.1"
   ]
  },
  {
   "cell_type": "markdown",
   "id": "innocent-reliance",
   "metadata": {},
   "source": [
    "# Load zipdata.mat\n",
    "---\n",
    "This script loads xor.mat (matlab file). xor.mat contains data of ...\n",
    "\n",
    "\n",
    "## Tags\n",
    "\n",
    "### Pandas \n",
    "\n",
    "drop $\\diamond$ between $\\diamond$ unique $\\diamond$ describe $\\diamond$ info $\\diamond$ value_counts() $\\diamond$ to_frame $\\diamond$ sort_index $\\diamond$ index.astype $\\diamond$ dtypes.value.counts $\\diamond$\n",
    "\n",
    "\n",
    "### Other Python tags\n",
    "\n",
    "sort (np) $\\diamond$\n",
    "\n",
    "## Structure\n",
    "1. Load .mat data, convert to pandas dataframe \n",
    "2. Get acquainted with/verify you data\n",
    "3. Assign useful and imporant variables\n",
    "4. Different pandas operations on the data\n",
    "\n",
    "## About\n",
    "**Contact Info** 2021 celiacailloux@gmail.com\n",
    " \n",
    "**Exercise Name** exercise 2.3.1 (course 02450 DTU 2018)\n",
    "\n",
    "---"
   ]
  },
  {
   "cell_type": "code",
   "execution_count": 98,
   "id": "innocent-international",
   "metadata": {},
   "outputs": [],
   "source": [
    "# import standard modules\n",
    "import matplotlib.pyplot as plt\n",
    "from scipy.io import loadmat\n",
    "from sklearn.neighbors import KNeighborsClassifier\n",
    "import scipy.linalg as linalg\n",
    "import numpy as np\n",
    "import pandas as pd"
   ]
  },
  {
   "cell_type": "markdown",
   "id": "automatic-whole",
   "metadata": {},
   "source": [
    "# 1. Load .mat data, convert to pandas dataframe"
   ]
  },
  {
   "cell_type": "markdown",
   "id": "floating-distinction",
   "metadata": {},
   "source": [
    "## Load .mat file"
   ]
  },
  {
   "cell_type": "code",
   "execution_count": 99,
   "id": "union-torture",
   "metadata": {},
   "outputs": [],
   "source": [
    "# Load Matlab data file and extract training set and test set\n",
    "mat_data = loadmat('../Data/xor.mat')"
   ]
  },
  {
   "cell_type": "code",
   "execution_count": 100,
   "id": "mysterious-petersburg",
   "metadata": {},
   "outputs": [
    {
     "data": {
      "text/plain": [
       "dict_keys(['__header__', '__version__', '__globals__', 'X', 'classNames', 'y', 'attributeNames', 'N', 'M', 'C'])"
      ]
     },
     "execution_count": 100,
     "metadata": {},
     "output_type": "execute_result"
    }
   ],
   "source": [
    "# Compute the of the dictionary containing .mat data\n",
    "mat_data.keys()"
   ]
  },
  {
   "cell_type": "markdown",
   "id": "adequate-blanket",
   "metadata": {},
   "source": [
    "## Convert .mat dict to pandas dataframe"
   ]
  },
  {
   "cell_type": "code",
   "execution_count": 101,
   "id": "quality-vertex",
   "metadata": {},
   "outputs": [
    {
     "data": {
      "text/plain": [
       "2"
      ]
     },
     "execution_count": 101,
     "metadata": {},
     "output_type": "execute_result"
    }
   ],
   "source": [
    "# Convert to pandas dataframe and add column names\n",
    "n_cols = mat_data['X'].shape[1]\n",
    "col_name_y = ['class']\n",
    "n_cols"
   ]
  },
  {
   "cell_type": "code",
   "execution_count": 102,
   "id": "level-valuable",
   "metadata": {},
   "outputs": [],
   "source": [
    "# mat_data['X']"
   ]
  },
  {
   "cell_type": "code",
   "execution_count": 103,
   "id": "outside-fortune",
   "metadata": {},
   "outputs": [],
   "source": [
    "attributeNames  = mat_data['attributeNames'][0]\n",
    "col_names_X = list()\n",
    "for i, col_name in enumerate(attributeNames):\n",
    "    col_names_X.append(attributeNames[i][0])\n",
    "attributeNames = col_names_X\n",
    "col_names    = col_name_y + col_names_X   "
   ]
  },
  {
   "cell_type": "code",
   "execution_count": 104,
   "id": "western-possession",
   "metadata": {},
   "outputs": [],
   "source": [
    "data_np = np.concatenate((mat_data['y'], mat_data['X']), axis = 1)"
   ]
  },
  {
   "cell_type": "code",
   "execution_count": 105,
   "id": "julian-throat",
   "metadata": {},
   "outputs": [],
   "source": [
    "data = pd.DataFrame(data_np,                       \n",
    "                    columns = col_names )"
   ]
  },
  {
   "cell_type": "code",
   "execution_count": 106,
   "id": "angry-printing",
   "metadata": {},
   "outputs": [
    {
     "data": {
      "text/html": [
       "<div>\n",
       "<style scoped>\n",
       "    .dataframe tbody tr th:only-of-type {\n",
       "        vertical-align: middle;\n",
       "    }\n",
       "\n",
       "    .dataframe tbody tr th {\n",
       "        vertical-align: top;\n",
       "    }\n",
       "\n",
       "    .dataframe thead th {\n",
       "        text-align: right;\n",
       "    }\n",
       "</style>\n",
       "<table border=\"1\" class=\"dataframe\">\n",
       "  <thead>\n",
       "    <tr style=\"text-align: right;\">\n",
       "      <th></th>\n",
       "      <th>class</th>\n",
       "      <th>Attribute A</th>\n",
       "      <th>Attribute B</th>\n",
       "    </tr>\n",
       "  </thead>\n",
       "  <tbody>\n",
       "    <tr>\n",
       "      <th>0</th>\n",
       "      <td>0.0</td>\n",
       "      <td>0.925716</td>\n",
       "      <td>1.265960</td>\n",
       "    </tr>\n",
       "    <tr>\n",
       "      <th>1</th>\n",
       "      <td>0.0</td>\n",
       "      <td>1.165563</td>\n",
       "      <td>1.138794</td>\n",
       "    </tr>\n",
       "    <tr>\n",
       "      <th>2</th>\n",
       "      <td>0.0</td>\n",
       "      <td>0.976112</td>\n",
       "      <td>0.985339</td>\n",
       "    </tr>\n",
       "    <tr>\n",
       "      <th>3</th>\n",
       "      <td>0.0</td>\n",
       "      <td>0.811825</td>\n",
       "      <td>1.003557</td>\n",
       "    </tr>\n",
       "    <tr>\n",
       "      <th>4</th>\n",
       "      <td>0.0</td>\n",
       "      <td>0.964672</td>\n",
       "      <td>1.183650</td>\n",
       "    </tr>\n",
       "    <tr>\n",
       "      <th>5</th>\n",
       "      <td>0.0</td>\n",
       "      <td>1.025577</td>\n",
       "      <td>1.106523</td>\n",
       "    </tr>\n",
       "    <tr>\n",
       "      <th>6</th>\n",
       "      <td>0.0</td>\n",
       "      <td>0.979267</td>\n",
       "      <td>1.030599</td>\n",
       "    </tr>\n",
       "    <tr>\n",
       "      <th>7</th>\n",
       "      <td>0.0</td>\n",
       "      <td>1.108738</td>\n",
       "      <td>1.219585</td>\n",
       "    </tr>\n",
       "    <tr>\n",
       "      <th>8</th>\n",
       "      <td>0.0</td>\n",
       "      <td>0.821517</td>\n",
       "      <td>1.184290</td>\n",
       "    </tr>\n",
       "    <tr>\n",
       "      <th>9</th>\n",
       "      <td>0.0</td>\n",
       "      <td>0.871085</td>\n",
       "      <td>0.682706</td>\n",
       "    </tr>\n",
       "  </tbody>\n",
       "</table>\n",
       "</div>"
      ],
      "text/plain": [
       "   class  Attribute A  Attribute B\n",
       "0    0.0     0.925716     1.265960\n",
       "1    0.0     1.165563     1.138794\n",
       "2    0.0     0.976112     0.985339\n",
       "3    0.0     0.811825     1.003557\n",
       "4    0.0     0.964672     1.183650\n",
       "5    0.0     1.025577     1.106523\n",
       "6    0.0     0.979267     1.030599\n",
       "7    0.0     1.108738     1.219585\n",
       "8    0.0     0.821517     1.184290\n",
       "9    0.0     0.871085     0.682706"
      ]
     },
     "execution_count": 106,
     "metadata": {},
     "output_type": "execute_result"
    }
   ],
   "source": [
    "data.head(10)"
   ]
  },
  {
   "cell_type": "markdown",
   "id": "explicit-gabriel",
   "metadata": {},
   "source": [
    "# 2. Get acquainted with/verify you data"
   ]
  },
  {
   "cell_type": "code",
   "execution_count": 113,
   "id": "hungarian-turkey",
   "metadata": {},
   "outputs": [
    {
     "name": "stdout",
     "output_type": "stream",
     "text": [
      "<class 'pandas.core.frame.DataFrame'>\n",
      "RangeIndex: 400 entries, 0 to 399\n",
      "Data columns (total 3 columns):\n",
      " #   Column       Non-Null Count  Dtype  \n",
      "---  ------       --------------  -----  \n",
      " 0   class        400 non-null    float64\n",
      " 1   Attribute A  400 non-null    float64\n",
      " 2   Attribute B  400 non-null    float64\n",
      "dtypes: float64(3)\n",
      "memory usage: 9.5 KB\n"
     ]
    }
   ],
   "source": [
    "# Quick look at statistics \n",
    "# Identify any nulls\n",
    "# Check out data types\n",
    "# List number of each data type\n",
    "# data.describe()\n",
    "data.info(verbose = True, show_counts=True)\n",
    "# data.dtypes\n",
    "# data.dtypes.value_counts()"
   ]
  },
  {
   "cell_type": "code",
   "execution_count": null,
   "id": "expanded-xerox",
   "metadata": {},
   "outputs": [],
   "source": []
  },
  {
   "cell_type": "markdown",
   "id": "radio-prisoner",
   "metadata": {},
   "source": [
    "# 2. Assign useful and imporant variables\n",
    "\n",
    "Features and classe, length etc (X, y, N, M)"
   ]
  },
  {
   "cell_type": "markdown",
   "id": "transsexual-sympathy",
   "metadata": {},
   "source": [
    "## Assign y  - training and test"
   ]
  },
  {
   "cell_type": "code",
   "execution_count": 116,
   "id": "blank-subsection",
   "metadata": {},
   "outputs": [],
   "source": [
    "# Assign X by dropping the first column\n",
    "# axis=1 referes to it dropping a column (ie. axis=0 is dropping a row)\n",
    "# inplace=True means that it works of the original df\n",
    "\n",
    "y = data[['class']] # importan to use double []"
   ]
  },
  {
   "cell_type": "code",
   "execution_count": 117,
   "id": "certified-holocaust",
   "metadata": {},
   "outputs": [
    {
     "data": {
      "text/html": [
       "<div>\n",
       "<style scoped>\n",
       "    .dataframe tbody tr th:only-of-type {\n",
       "        vertical-align: middle;\n",
       "    }\n",
       "\n",
       "    .dataframe tbody tr th {\n",
       "        vertical-align: top;\n",
       "    }\n",
       "\n",
       "    .dataframe thead th {\n",
       "        text-align: right;\n",
       "    }\n",
       "</style>\n",
       "<table border=\"1\" class=\"dataframe\">\n",
       "  <thead>\n",
       "    <tr style=\"text-align: right;\">\n",
       "      <th></th>\n",
       "      <th>class</th>\n",
       "    </tr>\n",
       "  </thead>\n",
       "  <tbody>\n",
       "    <tr>\n",
       "      <th>0</th>\n",
       "      <td>0.0</td>\n",
       "    </tr>\n",
       "    <tr>\n",
       "      <th>1</th>\n",
       "      <td>0.0</td>\n",
       "    </tr>\n",
       "    <tr>\n",
       "      <th>2</th>\n",
       "      <td>0.0</td>\n",
       "    </tr>\n",
       "    <tr>\n",
       "      <th>3</th>\n",
       "      <td>0.0</td>\n",
       "    </tr>\n",
       "    <tr>\n",
       "      <th>4</th>\n",
       "      <td>0.0</td>\n",
       "    </tr>\n",
       "  </tbody>\n",
       "</table>\n",
       "</div>"
      ],
      "text/plain": [
       "   class\n",
       "0    0.0\n",
       "1    0.0\n",
       "2    0.0\n",
       "3    0.0\n",
       "4    0.0"
      ]
     },
     "execution_count": 117,
     "metadata": {},
     "output_type": "execute_result"
    }
   ],
   "source": [
    "# Show Test Data\n",
    "y.head(5)"
   ]
  },
  {
   "cell_type": "markdown",
   "id": "ordinary-thumb",
   "metadata": {},
   "source": [
    "## Class names"
   ]
  },
  {
   "cell_type": "code",
   "execution_count": 118,
   "id": "statutory-fundamental",
   "metadata": {},
   "outputs": [
    {
     "data": {
      "text/plain": [
       "[0.0, 1.0]"
      ]
     },
     "execution_count": 118,
     "metadata": {},
     "output_type": "execute_result"
    }
   ],
   "source": [
    "classNamesList = sorted(y['class'].unique())\n",
    "classNamesList"
   ]
  },
  {
   "cell_type": "code",
   "execution_count": 119,
   "id": "composite-processor",
   "metadata": {},
   "outputs": [
    {
     "data": {
      "text/plain": [
       "{0.0: 0, 1.0: 1}"
      ]
     },
     "execution_count": 119,
     "metadata": {},
     "output_type": "execute_result"
    }
   ],
   "source": [
    "# Returns a dict where each class is assigned to an int\n",
    "classDict = dict(zip(classNamesList, range(len(classNamesList))))\n",
    "classDict"
   ]
  },
  {
   "cell_type": "code",
   "execution_count": 121,
   "id": "capable-agriculture",
   "metadata": {},
   "outputs": [
    {
     "data": {
      "text/html": [
       "<div>\n",
       "<style scoped>\n",
       "    .dataframe tbody tr th:only-of-type {\n",
       "        vertical-align: middle;\n",
       "    }\n",
       "\n",
       "    .dataframe tbody tr th {\n",
       "        vertical-align: top;\n",
       "    }\n",
       "\n",
       "    .dataframe thead th {\n",
       "        text-align: right;\n",
       "    }\n",
       "</style>\n",
       "<table border=\"1\" class=\"dataframe\">\n",
       "  <thead>\n",
       "    <tr style=\"text-align: right;\">\n",
       "      <th></th>\n",
       "      <th>class</th>\n",
       "    </tr>\n",
       "  </thead>\n",
       "  <tbody>\n",
       "    <tr>\n",
       "      <th>0</th>\n",
       "      <td>0.0</td>\n",
       "    </tr>\n",
       "    <tr>\n",
       "      <th>1</th>\n",
       "      <td>1.0</td>\n",
       "    </tr>\n",
       "  </tbody>\n",
       "</table>\n",
       "</div>"
      ],
      "text/plain": [
       "   class\n",
       "0    0.0\n",
       "1    1.0"
      ]
     },
     "execution_count": 121,
     "metadata": {},
     "output_type": "execute_result"
    }
   ],
   "source": [
    "# Returns a pandas dataframe\n",
    "classNames = y[['class']].drop_duplicates().reset_index(drop=True)\n",
    "classNames"
   ]
  },
  {
   "cell_type": "markdown",
   "id": "fiscal-reserve",
   "metadata": {},
   "source": [
    "## Assign X - training and test"
   ]
  },
  {
   "cell_type": "code",
   "execution_count": 123,
   "id": "weird-window",
   "metadata": {},
   "outputs": [],
   "source": [
    "X = data.drop('class', axis = 1) "
   ]
  },
  {
   "cell_type": "code",
   "execution_count": 124,
   "id": "forward-telescope",
   "metadata": {},
   "outputs": [
    {
     "name": "stdout",
     "output_type": "stream",
     "text": [
      "Good job!\n",
      "\ty and X have same dimensions!\n"
     ]
    }
   ],
   "source": [
    "# Check if y and X have the same number of observations (N)\n",
    "if y.shape[0] == X.shape[0]:\n",
    "    print('Good job!\\n\\ty and X have same dimensions!')\n",
    "else:\n",
    "    print('Double check y and X!')\n",
    "    print('\\ty shape: {}\\nX shape: {}'.format(y.shape, X.shape))"
   ]
  },
  {
   "cell_type": "code",
   "execution_count": 125,
   "id": "statistical-saturday",
   "metadata": {},
   "outputs": [
    {
     "data": {
      "text/html": [
       "<div>\n",
       "<style scoped>\n",
       "    .dataframe tbody tr th:only-of-type {\n",
       "        vertical-align: middle;\n",
       "    }\n",
       "\n",
       "    .dataframe tbody tr th {\n",
       "        vertical-align: top;\n",
       "    }\n",
       "\n",
       "    .dataframe thead th {\n",
       "        text-align: right;\n",
       "    }\n",
       "</style>\n",
       "<table border=\"1\" class=\"dataframe\">\n",
       "  <thead>\n",
       "    <tr style=\"text-align: right;\">\n",
       "      <th></th>\n",
       "      <th>Attribute A</th>\n",
       "      <th>Attribute B</th>\n",
       "    </tr>\n",
       "  </thead>\n",
       "  <tbody>\n",
       "    <tr>\n",
       "      <th>0</th>\n",
       "      <td>0.925716</td>\n",
       "      <td>1.265960</td>\n",
       "    </tr>\n",
       "    <tr>\n",
       "      <th>1</th>\n",
       "      <td>1.165563</td>\n",
       "      <td>1.138794</td>\n",
       "    </tr>\n",
       "    <tr>\n",
       "      <th>2</th>\n",
       "      <td>0.976112</td>\n",
       "      <td>0.985339</td>\n",
       "    </tr>\n",
       "    <tr>\n",
       "      <th>3</th>\n",
       "      <td>0.811825</td>\n",
       "      <td>1.003557</td>\n",
       "    </tr>\n",
       "    <tr>\n",
       "      <th>4</th>\n",
       "      <td>0.964672</td>\n",
       "      <td>1.183650</td>\n",
       "    </tr>\n",
       "  </tbody>\n",
       "</table>\n",
       "</div>"
      ],
      "text/plain": [
       "   Attribute A  Attribute B\n",
       "0     0.925716     1.265960\n",
       "1     1.165563     1.138794\n",
       "2     0.976112     0.985339\n",
       "3     0.811825     1.003557\n",
       "4     0.964672     1.183650"
      ]
     },
     "execution_count": 125,
     "metadata": {},
     "output_type": "execute_result"
    }
   ],
   "source": [
    "# Show Training Data\n",
    "X.head(5)"
   ]
  },
  {
   "cell_type": "markdown",
   "id": "listed-calcium",
   "metadata": {},
   "source": [
    "## Dimensionality constants\n",
    "* Number of observations *N*\n",
    "* Number of Attributes *M*\n",
    "* Number of classes *C*"
   ]
  },
  {
   "cell_type": "code",
   "execution_count": 129,
   "id": "improving-reason",
   "metadata": {},
   "outputs": [],
   "source": [
    "# Compute values of N, M and C.\n",
    "N = len(y)        # number of observations\n",
    "M = X.shape[1]\n",
    "C = len(classNames)     # number of classes"
   ]
  },
  {
   "cell_type": "markdown",
   "id": "optical-specification",
   "metadata": {},
   "source": [
    "# 3. Different pandas operations on the data"
   ]
  },
  {
   "cell_type": "markdown",
   "id": "moving-zealand",
   "metadata": {},
   "source": [
    "## Train data"
   ]
  },
  {
   "cell_type": "code",
   "execution_count": null,
   "id": "retained-pendant",
   "metadata": {},
   "outputs": [],
   "source": [
    "# show only classes between i and j\n",
    "# i = 0\n",
    "# j = 9\n",
    "# test_between = train_data[train_data['class'].between(i,j)]\n",
    "# test_between.head()"
   ]
  },
  {
   "cell_type": "code",
   "execution_count": 134,
   "id": "removed-wright",
   "metadata": {},
   "outputs": [
    {
     "data": {
      "text/plain": [
       "array([0., 1.])"
      ]
     },
     "execution_count": 134,
     "metadata": {},
     "output_type": "execute_result"
    }
   ],
   "source": [
    "# Returns the uniques and sorts them\n",
    "uniques = y['class'].unique()\n",
    "uniques.sort()  # uncomment to sort\n",
    "uniques"
   ]
  },
  {
   "cell_type": "code",
   "execution_count": 136,
   "id": "sharp-going",
   "metadata": {},
   "outputs": [],
   "source": [
    "# Count how many times you the unique values in 'class' apears\n",
    "unique_counts = y['class'].value_counts().to_frame('counts')\n",
    "# unique_counts.index.name = 'class'\n",
    "unique_counts.sort_index(inplace = True)\n",
    "unique_counts['class'] = unique_counts.index.astype('int32')"
   ]
  },
  {
   "cell_type": "code",
   "execution_count": 137,
   "id": "cooked-thompson",
   "metadata": {},
   "outputs": [
    {
     "data": {
      "text/html": [
       "<div>\n",
       "<style scoped>\n",
       "    .dataframe tbody tr th:only-of-type {\n",
       "        vertical-align: middle;\n",
       "    }\n",
       "\n",
       "    .dataframe tbody tr th {\n",
       "        vertical-align: top;\n",
       "    }\n",
       "\n",
       "    .dataframe thead th {\n",
       "        text-align: right;\n",
       "    }\n",
       "</style>\n",
       "<table border=\"1\" class=\"dataframe\">\n",
       "  <thead>\n",
       "    <tr style=\"text-align: right;\">\n",
       "      <th></th>\n",
       "      <th>counts</th>\n",
       "      <th>class</th>\n",
       "    </tr>\n",
       "  </thead>\n",
       "  <tbody>\n",
       "    <tr>\n",
       "      <th>0.0</th>\n",
       "      <td>200</td>\n",
       "      <td>0</td>\n",
       "    </tr>\n",
       "    <tr>\n",
       "      <th>1.0</th>\n",
       "      <td>200</td>\n",
       "      <td>1</td>\n",
       "    </tr>\n",
       "  </tbody>\n",
       "</table>\n",
       "</div>"
      ],
      "text/plain": [
       "     counts  class\n",
       "0.0     200      0\n",
       "1.0     200      1"
      ]
     },
     "execution_count": 137,
     "metadata": {},
     "output_type": "execute_result"
    }
   ],
   "source": [
    "unique_counts"
   ]
  },
  {
   "cell_type": "code",
   "execution_count": 142,
   "id": "excellent-brazil",
   "metadata": {},
   "outputs": [
    {
     "data": {
      "text/plain": [
       "([<matplotlib.axis.XTick at 0x7fa0b87cce50>,\n",
       "  <matplotlib.axis.XTick at 0x7fa0b87cce20>],\n",
       " [Text(0, 0, ''), Text(0, 0, '')])"
      ]
     },
     "execution_count": 142,
     "metadata": {},
     "output_type": "execute_result"
    },
    {
     "data": {
      "image/png": "[encoded data removed]",
      "text/plain": [
       "<Figure size 432x288 with 1 Axes>"
      ]
     },
     "metadata": {
      "needs_background": "light"
     },
     "output_type": "display_data"
    }
   ],
   "source": [
    "plt.bar(unique_counts['class'], unique_counts['counts'])\n",
    "plt.title('Xor Data')\n",
    "plt.xlabel('Class')\n",
    "plt.ylabel('Counts')\n",
    "plt.xticks(range(C))"
   ]
  },
  {
   "cell_type": "code",
   "execution_count": null,
   "id": "approximate-invention",
   "metadata": {},
   "outputs": [],
   "source": [
    "# unique_counts.index"
   ]
  },
  {
   "cell_type": "markdown",
   "id": "pharmaceutical-dating",
   "metadata": {},
   "source": [
    "## Test data"
   ]
  },
  {
   "cell_type": "code",
   "execution_count": null,
   "id": "affiliated-virtue",
   "metadata": {},
   "outputs": [],
   "source": [
    "# Returns the uniques and sort\n",
    "uniques_test = test_data['class'].unique()\n",
    "uniques_test.sort()  # uncomment to sort\n",
    "# Count how many times you the unique values in 'class' apears\n",
    "unique_counts_test = test_data['class'].value_counts().to_frame('counts')\n",
    "unique_counts_test.sort_index(inplace = True) # sort it by index\n",
    "unique_counts_test['class'] = unique_counts.index.astype('int32') # convert to integer\n",
    "unique_counts_test"
   ]
  },
  {
   "cell_type": "code",
   "execution_count": null,
   "id": "efficient-astronomy",
   "metadata": {},
   "outputs": [],
   "source": [
    "plt.bar(unique_counts_test['class'], unique_counts_test['counts'])\n",
    "plt.title('Test Data')\n",
    "plt.xlabel('Digit')\n",
    "plt.ylabel('Counts')"
   ]
  },
  {
   "cell_type": "markdown",
   "id": "convertible-campaign",
   "metadata": {},
   "source": [
    "## Return all digits values that appear less than 600 times"
   ]
  },
  {
   "cell_type": "code",
   "execution_count": null,
   "id": "similar-challenge",
   "metadata": {},
   "outputs": [],
   "source": [
    "# find \"anomaly\" find that class, where the counts are less than 600\n",
    "[_class for _class in unique_counts.index if len(test_between[test_between['class'] == _class]) <= 600]"
   ]
  },
  {
   "cell_type": "markdown",
   "id": "abstract-trout",
   "metadata": {},
   "source": [
    "# 5. Message printet when running the script"
   ]
  },
  {
   "cell_type": "code",
   "execution_count": null,
   "id": "ordinary-spanking",
   "metadata": {},
   "outputs": [],
   "source": [
    "print('----------------------------------------')\n",
    "print('Zip Data Succesfully Loaded')\n",
    "print('Run %whos to view all imported variables')\n",
    "print('----------------------------------------')"
   ]
  }
 ],
 "metadata": {
  "kernelspec": {
   "display_name": "Python 3",
   "language": "python",
   "name": "python3"
  },
  "language_info": {
   "codemirror_mode": {
    "name": "ipython",
    "version": 3
   },
   "file_extension": ".py",
   "mimetype": "text/x-python",
   "name": "python",
   "nbconvert_exporter": "python",
   "pygments_lexer": "ipython3",
   "version": "3.8.2"
  }
 },
 "nbformat": 4,
 "nbformat_minor": 5
}
