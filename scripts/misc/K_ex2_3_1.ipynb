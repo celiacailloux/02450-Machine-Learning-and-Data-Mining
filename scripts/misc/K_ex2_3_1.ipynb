{
 "cells": [
  {
   "cell_type": "code",
   "execution_count": null,
   "id": "suffering-adjustment",
   "metadata": {},
   "outputs": [],
   "source": [
    "# %load K_ex2_3_1.py\n",
    "# exercise 2.3.1\n",
    "\n",
    "from matplotlib.pyplot import figure, plot, xlabel, ylabel, show\n",
    "from scipy.io import loadmat\n",
    "from sklearn.neighbors import KNeighborsClassifier\n",
    "import scipy.linalg as linalg\n",
    "import numpy as np\n",
    "\n",
    "# Number of principal components to use for classification,\n",
    "# i.e. the reduced dimensionality\n",
    "K = [8,10,15,20,30,40,50,60,100,150]\n",
    "\n",
    "# Load Matlab data file and extract training set and test set\n",
    "mat_data = loadmat('../Data/zipdata.mat')\n",
    "X = mat_data['traindata'][:,1:]\n",
    "y = mat_data['traindata'][:,0]\n",
    "Xtest = mat_data['testdata'][:,1:]\n",
    "ytest = mat_data['testdata'][:,0]\n",
    "N,M = X.shape\n",
    "Ntest = Xtest.shape[0] # or Xtest[:,0].shape\n",
    "\n",
    "# Subtract the mean from the data\n",
    "Y = X - np.ones((N,1))*X.mean(0)\n",
    "Ytest = Xtest - np.ones((Ntest,1))*X.mean(0)\n",
    "\n",
    "# Obtain the PCA solution  by calculate the SVD of Y\n",
    "U,S,V = linalg.svd(Y,full_matrices=False)\n",
    "V = V.T\n",
    "\n",
    "\n",
    "# Repeat classification for different values of K\n",
    "error_rates = []\n",
    "for k in K:\n",
    "    # Project data onto principal component space,\n",
    "    Z = Y @ V[:,:k]\n",
    "    Ztest = Ytest @ V[:,:k]\n",
    "\n",
    "    # Classify data with knn classifier\n",
    "    knn_classifier = KNeighborsClassifier(n_neighbors=1)\n",
    "    knn_classifier.fit(Z,y.ravel())\n",
    "    y_estimated = knn_classifier.predict(Ztest)\n",
    "\n",
    "    # Compute classification error rates\n",
    "    y_estimated = y_estimated.T\n",
    "    er = (sum(ytest!=y_estimated)/float(len(ytest)))*100\n",
    "    error_rates.append(er)\n",
    "    print('K={0}: Error rate: {1:.1f}%'.format(k, er))\n",
    "\n",
    "# Visualize error rates vs. number of principal components considered\n",
    "figure()\n",
    "plot(K,error_rates,'o-')\n",
    "xlabel('Number of principal components K')\n",
    "ylabel('Error rate [%]')\n",
    "show()\n",
    "\n",
    "print('Ran Exercise 2.3.1')"
   ]
  },
  {
   "cell_type": "code",
   "execution_count": null,
   "id": "palestinian-harrison",
   "metadata": {},
   "outputs": [],
   "source": []
  }
 ],
 "metadata": {
  "kernelspec": {
   "display_name": "Python 3",
   "language": "python",
   "name": "python3"
  },
  "language_info": {
   "codemirror_mode": {
    "name": "ipython",
    "version": 3
   },
   "file_extension": ".py",
   "mimetype": "text/x-python",
   "name": "python",
   "nbconvert_exporter": "python",
   "pygments_lexer": "ipython3",
   "version": "3.8.2"
  }
 },
 "nbformat": 4,
 "nbformat_minor": 5
}
