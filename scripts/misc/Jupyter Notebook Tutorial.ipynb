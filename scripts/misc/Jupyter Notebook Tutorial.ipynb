{
 "cells": [
  {
   "cell_type": "markdown",
   "id": "micro-praise",
   "metadata": {},
   "source": [
    "## Tags\n",
    "\n",
    "### Pandas \n",
    "\n",
    "* drop\n",
    "* between\n",
    "* unique\n",
    "* describe\n",
    "* value_counts()\n",
    "* sort()\n",
    "* to_dataframe()\n",
    "* sort_index()\n",
    "* index.astype()\n",
    "\n",
    "### Matplotlib.pyplot\n",
    "\n",
    "\n",
    "\n",
    "### Python / Jupyter\n",
    "* %whos \n",
    "* %load - load aux scripts, functions, modules\n",
    "* ?\n",
    "* image data\n",
    "* load matlab (.mat) data file## Tags\n",
    "\n"
   ]
  },
  {
   "cell_type": "code",
   "execution_count": 2,
   "id": "saving-pepper",
   "metadata": {},
   "outputs": [],
   "source": [
    "import matplotlib.pyplot as plt"
   ]
  },
  {
   "cell_type": "code",
   "execution_count": 3,
   "id": "theoretical-scott",
   "metadata": {},
   "outputs": [
    {
     "data": {
      "image/png": "[encoded data removed]",
      "text/plain": [
       "<Figure size 432x288 with 1 Axes>"
      ]
     },
     "metadata": {
      "needs_background": "light"
     },
     "output_type": "display_data"
    }
   ],
   "source": [
    "# Load zipdata.mat (X_train, Y_train, etc)\n",
    "%run Load_zipdata.ipynb\n"
   ]
  },
  {
   "cell_type": "markdown",
   "id": "nonprofit-facility",
   "metadata": {},
   "source": [
    "## Print all imported variables"
   ]
  },
  {
   "cell_type": "code",
   "execution_count": 4,
   "id": "economic-employer",
   "metadata": {},
   "outputs": [
    {
     "name": "stdout",
     "output_type": "stream",
     "text": [
      "Variable               Type         Data/Info\n",
      "---------------------------------------------\n",
      "KNeighborsClassifier   ABCMeta      <class 'sklearn.neighbors<...>on.KNeighborsClassifier'>\n",
      "M_train                int          256\n",
      "Mtest                  int          256\n",
      "N_test                 int          2007\n",
      "N_train                int          7291\n",
      "X_test                 DataFrame          pixel1  pixel2  pix<...>[2007 rows x 256 columns]\n",
      "X_train                DataFrame          pixel1  pixel2  pix<...>[7291 rows x 256 columns]\n",
      "bar                    function     <function bar at 0x7fc46bbb0310>\n",
      "col_name_y             list         n=1\n",
      "col_names              list         n=257\n",
      "col_names_X            list         n=256\n",
      "figure                 function     <function figure at 0x7fc46bb89f70>\n",
      "i                      int          0\n",
      "j                      int          9\n",
      "linalg                 module       <module 'scipy.linalg' fr<...>cipy/linalg/__init__.py'>\n",
      "loadmat                function     <function loadmat at 0x7fc46c034280>\n",
      "mat_data               dict         n=5\n",
      "n_cols                 int          257\n",
      "np                     module       <module 'numpy' from '/Us<...>kages/numpy/__init__.py'>\n",
      "pd                     module       <module 'pandas' from '/U<...>ages/pandas/__init__.py'>\n",
      "plot                   function     <function plot at 0x7fc46bbb25e0>\n",
      "plt                    module       <module 'matplotlib.pyplo<...>es/matplotlib/pyplot.py'>\n",
      "show                   function     <function show at 0x7fc46bb898b0>\n",
      "test_between           DataFrame          class  pixel1  pixe<...>[7291 rows x 257 columns]\n",
      "test_data              DataFrame          class  pixel1  pixe<...>[2007 rows x 257 columns]\n",
      "train_data             DataFrame          class  pixel1  pixe<...>[7291 rows x 257 columns]\n",
      "unique_counts          DataFrame         counts  class\\n0.0  <...>    8\\n9.0     644      9\n",
      "uniques                ndarray      10: 10 elems, type `float64`, 80 bytes\n",
      "xlabel                 function     <function xlabel at 0x7fc46bbb4550>\n",
      "y_test                 DataFrame          class\\n0       9.0\\<...>\\n[2007 rows x 1 columns]\n",
      "y_train                DataFrame          class\\n0       6.0\\<...>\\n[7291 rows x 1 columns]\n",
      "ylabel                 function     <function ylabel at 0x7fc46bbb45e0>\n"
     ]
    }
   ],
   "source": [
    "# print all imported variable\n",
    "%whos"
   ]
  },
  {
   "cell_type": "code",
   "execution_count": 5,
   "id": "occupied-label",
   "metadata": {},
   "outputs": [],
   "source": [
    "?plt.plot"
   ]
  },
  {
   "cell_type": "markdown",
   "id": "fourth-laptop",
   "metadata": {},
   "source": [
    "## How to load a module"
   ]
  },
  {
   "cell_type": "code",
   "execution_count": 6,
   "id": "headed-policy",
   "metadata": {},
   "outputs": [],
   "source": [
    "# %load ../mainbranch/get_function\n",
    "# %load submodules/api_appdata.py\n",
    "# %cat submodules/api_appdata.py"
   ]
  },
  {
   "cell_type": "code",
   "execution_count": 7,
   "id": "undefined-carolina",
   "metadata": {},
   "outputs": [
    {
     "name": "stdout",
     "output_type": "stream",
     "text": [
      "cat: Load_zipcode_digits_data.ipynb: No such file or directory\r\n"
     ]
    }
   ],
   "source": [
    "%cat Load_zipcode_digits_data.ipynb"
   ]
  },
  {
   "cell_type": "markdown",
   "id": "optical-specification",
   "metadata": {},
   "source": [
    "## Select specfic classes"
   ]
  },
  {
   "cell_type": "code",
   "execution_count": 8,
   "id": "retained-pendant",
   "metadata": {},
   "outputs": [],
   "source": [
    "# show only classes between i and j\n",
    "i = 0\n",
    "j = 9"
   ]
  },
  {
   "cell_type": "code",
   "execution_count": 9,
   "id": "bright-sport",
   "metadata": {},
   "outputs": [
    {
     "data": {
      "text/html": [
       "<div>\n",
       "<style scoped>\n",
       "    .dataframe tbody tr th:only-of-type {\n",
       "        vertical-align: middle;\n",
       "    }\n",
       "\n",
       "    .dataframe tbody tr th {\n",
       "        vertical-align: top;\n",
       "    }\n",
       "\n",
       "    .dataframe thead th {\n",
       "        text-align: right;\n",
       "    }\n",
       "</style>\n",
       "<table border=\"1\" class=\"dataframe\">\n",
       "  <thead>\n",
       "    <tr style=\"text-align: right;\">\n",
       "      <th></th>\n",
       "      <th>class</th>\n",
       "      <th>pixel1</th>\n",
       "      <th>pixel2</th>\n",
       "      <th>pixel3</th>\n",
       "      <th>pixel4</th>\n",
       "      <th>pixel5</th>\n",
       "      <th>pixel6</th>\n",
       "      <th>pixel7</th>\n",
       "      <th>pixel8</th>\n",
       "      <th>pixel9</th>\n",
       "      <th>...</th>\n",
       "      <th>pixel247</th>\n",
       "      <th>pixel248</th>\n",
       "      <th>pixel249</th>\n",
       "      <th>pixel250</th>\n",
       "      <th>pixel251</th>\n",
       "      <th>pixel252</th>\n",
       "      <th>pixel253</th>\n",
       "      <th>pixel254</th>\n",
       "      <th>pixel255</th>\n",
       "      <th>pixel256</th>\n",
       "    </tr>\n",
       "  </thead>\n",
       "  <tbody>\n",
       "    <tr>\n",
       "      <th>0</th>\n",
       "      <td>6.0</td>\n",
       "      <td>-1.0</td>\n",
       "      <td>-1.0</td>\n",
       "      <td>-1.0</td>\n",
       "      <td>-1.000</td>\n",
       "      <td>-1.000</td>\n",
       "      <td>-1.000</td>\n",
       "      <td>-1.000</td>\n",
       "      <td>-0.631</td>\n",
       "      <td>0.862</td>\n",
       "      <td>...</td>\n",
       "      <td>0.304</td>\n",
       "      <td>0.823</td>\n",
       "      <td>1.000</td>\n",
       "      <td>0.482</td>\n",
       "      <td>-0.474</td>\n",
       "      <td>-0.991</td>\n",
       "      <td>-1.000</td>\n",
       "      <td>-1.000</td>\n",
       "      <td>-1.000</td>\n",
       "      <td>-1.0</td>\n",
       "    </tr>\n",
       "    <tr>\n",
       "      <th>1</th>\n",
       "      <td>5.0</td>\n",
       "      <td>-1.0</td>\n",
       "      <td>-1.0</td>\n",
       "      <td>-1.0</td>\n",
       "      <td>-0.813</td>\n",
       "      <td>-0.671</td>\n",
       "      <td>-0.809</td>\n",
       "      <td>-0.887</td>\n",
       "      <td>-0.671</td>\n",
       "      <td>-0.853</td>\n",
       "      <td>...</td>\n",
       "      <td>-0.671</td>\n",
       "      <td>-0.671</td>\n",
       "      <td>-0.033</td>\n",
       "      <td>0.761</td>\n",
       "      <td>0.762</td>\n",
       "      <td>0.126</td>\n",
       "      <td>-0.095</td>\n",
       "      <td>-0.671</td>\n",
       "      <td>-0.828</td>\n",
       "      <td>-1.0</td>\n",
       "    </tr>\n",
       "    <tr>\n",
       "      <th>2</th>\n",
       "      <td>4.0</td>\n",
       "      <td>-1.0</td>\n",
       "      <td>-1.0</td>\n",
       "      <td>-1.0</td>\n",
       "      <td>-1.000</td>\n",
       "      <td>-1.000</td>\n",
       "      <td>-1.000</td>\n",
       "      <td>-1.000</td>\n",
       "      <td>-1.000</td>\n",
       "      <td>-1.000</td>\n",
       "      <td>...</td>\n",
       "      <td>-1.000</td>\n",
       "      <td>-1.000</td>\n",
       "      <td>-1.000</td>\n",
       "      <td>-0.109</td>\n",
       "      <td>1.000</td>\n",
       "      <td>-0.179</td>\n",
       "      <td>-1.000</td>\n",
       "      <td>-1.000</td>\n",
       "      <td>-1.000</td>\n",
       "      <td>-1.0</td>\n",
       "    </tr>\n",
       "    <tr>\n",
       "      <th>3</th>\n",
       "      <td>7.0</td>\n",
       "      <td>-1.0</td>\n",
       "      <td>-1.0</td>\n",
       "      <td>-1.0</td>\n",
       "      <td>-1.000</td>\n",
       "      <td>-1.000</td>\n",
       "      <td>-0.273</td>\n",
       "      <td>0.684</td>\n",
       "      <td>0.960</td>\n",
       "      <td>0.450</td>\n",
       "      <td>...</td>\n",
       "      <td>-0.318</td>\n",
       "      <td>1.000</td>\n",
       "      <td>0.536</td>\n",
       "      <td>-0.987</td>\n",
       "      <td>-1.000</td>\n",
       "      <td>-1.000</td>\n",
       "      <td>-1.000</td>\n",
       "      <td>-1.000</td>\n",
       "      <td>-1.000</td>\n",
       "      <td>-1.0</td>\n",
       "    </tr>\n",
       "    <tr>\n",
       "      <th>4</th>\n",
       "      <td>3.0</td>\n",
       "      <td>-1.0</td>\n",
       "      <td>-1.0</td>\n",
       "      <td>-1.0</td>\n",
       "      <td>-1.000</td>\n",
       "      <td>-1.000</td>\n",
       "      <td>-0.928</td>\n",
       "      <td>-0.204</td>\n",
       "      <td>0.751</td>\n",
       "      <td>0.466</td>\n",
       "      <td>...</td>\n",
       "      <td>0.466</td>\n",
       "      <td>0.639</td>\n",
       "      <td>1.000</td>\n",
       "      <td>1.000</td>\n",
       "      <td>0.791</td>\n",
       "      <td>0.439</td>\n",
       "      <td>-0.199</td>\n",
       "      <td>-0.883</td>\n",
       "      <td>-1.000</td>\n",
       "      <td>-1.0</td>\n",
       "    </tr>\n",
       "  </tbody>\n",
       "</table>\n",
       "<p>5 rows × 257 columns</p>\n",
       "</div>"
      ],
      "text/plain": [
       "   class  pixel1  pixel2  pixel3  pixel4  pixel5  pixel6  pixel7  pixel8  \\\n",
       "0    6.0    -1.0    -1.0    -1.0  -1.000  -1.000  -1.000  -1.000  -0.631   \n",
       "1    5.0    -1.0    -1.0    -1.0  -0.813  -0.671  -0.809  -0.887  -0.671   \n",
       "2    4.0    -1.0    -1.0    -1.0  -1.000  -1.000  -1.000  -1.000  -1.000   \n",
       "3    7.0    -1.0    -1.0    -1.0  -1.000  -1.000  -0.273   0.684   0.960   \n",
       "4    3.0    -1.0    -1.0    -1.0  -1.000  -1.000  -0.928  -0.204   0.751   \n",
       "\n",
       "   pixel9  ...  pixel247  pixel248  pixel249  pixel250  pixel251  pixel252  \\\n",
       "0   0.862  ...     0.304     0.823     1.000     0.482    -0.474    -0.991   \n",
       "1  -0.853  ...    -0.671    -0.671    -0.033     0.761     0.762     0.126   \n",
       "2  -1.000  ...    -1.000    -1.000    -1.000    -0.109     1.000    -0.179   \n",
       "3   0.450  ...    -0.318     1.000     0.536    -0.987    -1.000    -1.000   \n",
       "4   0.466  ...     0.466     0.639     1.000     1.000     0.791     0.439   \n",
       "\n",
       "   pixel253  pixel254  pixel255  pixel256  \n",
       "0    -1.000    -1.000    -1.000      -1.0  \n",
       "1    -0.095    -0.671    -0.828      -1.0  \n",
       "2    -1.000    -1.000    -1.000      -1.0  \n",
       "3    -1.000    -1.000    -1.000      -1.0  \n",
       "4    -0.199    -0.883    -1.000      -1.0  \n",
       "\n",
       "[5 rows x 257 columns]"
      ]
     },
     "execution_count": 9,
     "metadata": {},
     "output_type": "execute_result"
    }
   ],
   "source": [
    "test_between = train_data[train_data['class'].between(i,j)]\n",
    "test_between.head()"
   ]
  },
  {
   "cell_type": "code",
   "execution_count": 10,
   "id": "removed-wright",
   "metadata": {},
   "outputs": [
    {
     "data": {
      "text/plain": [
       "array([0., 1., 2., 3., 4., 5., 6., 7., 8., 9.])"
      ]
     },
     "execution_count": 10,
     "metadata": {},
     "output_type": "execute_result"
    }
   ],
   "source": [
    "# Returns the uniques without sorting is\n",
    "uniques = test_between['class'].unique()\n",
    "uniques.sort()  # uncomment to sort\n",
    "uniques"
   ]
  },
  {
   "cell_type": "code",
   "execution_count": 11,
   "id": "sharp-going",
   "metadata": {},
   "outputs": [],
   "source": [
    "# Count how many times you the unique values in 'class' apears\n",
    "unique_counts = test_between['class'].value_counts().to_frame('counts')\n",
    "# unique_counts.index.name = 'class'\n",
    "unique_counts.sort_index(inplace = True)\n",
    "unique_counts['class'] = unique_counts.index.astype('int32')"
   ]
  },
  {
   "cell_type": "code",
   "execution_count": 12,
   "id": "cooked-thompson",
   "metadata": {},
   "outputs": [
    {
     "data": {
      "text/html": [
       "<div>\n",
       "<style scoped>\n",
       "    .dataframe tbody tr th:only-of-type {\n",
       "        vertical-align: middle;\n",
       "    }\n",
       "\n",
       "    .dataframe tbody tr th {\n",
       "        vertical-align: top;\n",
       "    }\n",
       "\n",
       "    .dataframe thead th {\n",
       "        text-align: right;\n",
       "    }\n",
       "</style>\n",
       "<table border=\"1\" class=\"dataframe\">\n",
       "  <thead>\n",
       "    <tr style=\"text-align: right;\">\n",
       "      <th></th>\n",
       "      <th>counts</th>\n",
       "      <th>class</th>\n",
       "    </tr>\n",
       "  </thead>\n",
       "  <tbody>\n",
       "    <tr>\n",
       "      <th>0.0</th>\n",
       "      <td>1194</td>\n",
       "      <td>0</td>\n",
       "    </tr>\n",
       "    <tr>\n",
       "      <th>1.0</th>\n",
       "      <td>1005</td>\n",
       "      <td>1</td>\n",
       "    </tr>\n",
       "    <tr>\n",
       "      <th>2.0</th>\n",
       "      <td>731</td>\n",
       "      <td>2</td>\n",
       "    </tr>\n",
       "    <tr>\n",
       "      <th>3.0</th>\n",
       "      <td>658</td>\n",
       "      <td>3</td>\n",
       "    </tr>\n",
       "    <tr>\n",
       "      <th>4.0</th>\n",
       "      <td>652</td>\n",
       "      <td>4</td>\n",
       "    </tr>\n",
       "    <tr>\n",
       "      <th>5.0</th>\n",
       "      <td>556</td>\n",
       "      <td>5</td>\n",
       "    </tr>\n",
       "    <tr>\n",
       "      <th>6.0</th>\n",
       "      <td>664</td>\n",
       "      <td>6</td>\n",
       "    </tr>\n",
       "    <tr>\n",
       "      <th>7.0</th>\n",
       "      <td>645</td>\n",
       "      <td>7</td>\n",
       "    </tr>\n",
       "    <tr>\n",
       "      <th>8.0</th>\n",
       "      <td>542</td>\n",
       "      <td>8</td>\n",
       "    </tr>\n",
       "    <tr>\n",
       "      <th>9.0</th>\n",
       "      <td>644</td>\n",
       "      <td>9</td>\n",
       "    </tr>\n",
       "  </tbody>\n",
       "</table>\n",
       "</div>"
      ],
      "text/plain": [
       "     counts  class\n",
       "0.0    1194      0\n",
       "1.0    1005      1\n",
       "2.0     731      2\n",
       "3.0     658      3\n",
       "4.0     652      4\n",
       "5.0     556      5\n",
       "6.0     664      6\n",
       "7.0     645      7\n",
       "8.0     542      8\n",
       "9.0     644      9"
      ]
     },
     "execution_count": 12,
     "metadata": {},
     "output_type": "execute_result"
    }
   ],
   "source": [
    "unique_counts"
   ]
  },
  {
   "cell_type": "code",
   "execution_count": 13,
   "id": "excellent-brazil",
   "metadata": {},
   "outputs": [
    {
     "data": {
      "text/plain": [
       "Text(0.5, 1.0, 'Train Data')"
      ]
     },
     "execution_count": 13,
     "metadata": {},
     "output_type": "execute_result"
    },
    {
     "data": {
      "image/png": "[encoded data removed]",
      "text/plain": [
       "<Figure size 432x288 with 1 Axes>"
      ]
     },
     "metadata": {
      "needs_background": "light"
     },
     "output_type": "display_data"
    }
   ],
   "source": [
    "plt.bar(unique_counts['class'], unique_counts['counts'])\n",
    "plt.plot(unique_counts['class'], unique_counts['counts'], 'bo-' )\n",
    "xlabel('Zip Code Digits', fontsize = 18)\n",
    "ylabel('Occurence', fontsize = 18)\n",
    "plt.xticks(unique_counts['class'])\n",
    "plt.title('Train Data')"
   ]
  },
  {
   "cell_type": "code",
   "execution_count": 14,
   "id": "approximate-invention",
   "metadata": {},
   "outputs": [],
   "source": [
    "# unique_counts.index"
   ]
  },
  {
   "cell_type": "markdown",
   "id": "convertible-campaign",
   "metadata": {},
   "source": [
    "## Return all digits values that appear less than 600 times"
   ]
  },
  {
   "cell_type": "code",
   "execution_count": 15,
   "id": "similar-challenge",
   "metadata": {},
   "outputs": [
    {
     "data": {
      "text/plain": [
       "[5.0, 8.0]"
      ]
     },
     "execution_count": 15,
     "metadata": {},
     "output_type": "execute_result"
    }
   ],
   "source": [
    "# find \"anomaly\" find that class, where the counts are less than 600\n",
    "[_class for _class in unique_counts.index if len(test_between[test_between['class'] == _class]) <= 600]"
   ]
  },
  {
   "cell_type": "markdown",
   "id": "abstract-trout",
   "metadata": {},
   "source": [
    "## Visualize Data to get acquainted with it"
   ]
  },
  {
   "cell_type": "code",
   "execution_count": null,
   "id": "coordinated-supervision",
   "metadata": {},
   "outputs": [],
   "source": []
  },
  {
   "cell_type": "markdown",
   "id": "structural-thought",
   "metadata": {},
   "source": [
    "## Exporting Notebook\n",
    "\n",
    "1. jupyter nbconvert _filename_.ipynm --to --template (default is full)\n",
    "2. pdf - download as -> nbconvert io webpage"
   ]
  },
  {
   "cell_type": "code",
   "execution_count": null,
   "id": "floral-bikini",
   "metadata": {},
   "outputs": [],
   "source": []
  }
 ],
 "metadata": {
  "kernelspec": {
   "display_name": "Python 3",
   "language": "python",
   "name": "python3"
  },
  "language_info": {
   "codemirror_mode": {
    "name": "ipython",
    "version": 3
   },
   "file_extension": ".py",
   "mimetype": "text/x-python",
   "name": "python",
   "nbconvert_exporter": "python",
   "pygments_lexer": "ipython3",
   "version": "3.8.2"
  }
 },
 "nbformat": 4,
 "nbformat_minor": 5
}
