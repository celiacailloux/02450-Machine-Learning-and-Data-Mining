{
 "cells": [
  {
   "cell_type": "markdown",
   "id": "removed-digit",
   "metadata": {},
   "source": [
    "# Python for Data Visualization\n",
    "---\n",
    "Exercises based on LinkedIn's *Python for Data Visualization* course found in LinkedIn Learning.\n",
    "\n",
    "## Tags\n",
    "\n",
    "### Python\n",
    "Matplotlib $\\diamond$ Seaborn $\\diamond$ Numpy\n",
    "\n",
    "### Jupyter Notebook\n",
    "%run\n",
    "\n",
    "### Pandas\n",
    "dtypes $\\diamond$ loc $\\diamond$ help"
   ]
  },
  {
   "cell_type": "markdown",
   "id": "incorporate-preservation",
   "metadata": {},
   "source": [
    "# 1. Load Data"
   ]
  },
  {
   "cell_type": "code",
   "execution_count": 137,
   "id": "checked-vault",
   "metadata": {},
   "outputs": [
    {
     "name": "stdout",
     "output_type": "stream",
     "text": [
      "Good job!\n",
      "\ty and X have same dimensions!\n",
      "----------------------------------------\n",
      "Nanonose Data Succesfully Loaded\n",
      "Run %whos to view all imported variables\n"
     ]
    }
   ],
   "source": [
    "# Load nannose data from\n",
    "%run Load_nanonose.ipynb"
   ]
  },
  {
   "cell_type": "code",
   "execution_count": 138,
   "id": "legendary-merchandise",
   "metadata": {},
   "outputs": [
    {
     "name": "stdout",
     "output_type": "stream",
     "text": [
      "Variable               Type           Data/Info\n",
      "-----------------------------------------------\n",
      "C                      int            5\n",
      "KNeighborsClassifier   ABCMeta        <class 'sklearn.neighbors<...>on.KNeighborsClassifier'>\n",
      "M                      int            8\n",
      "M_train                int            256\n",
      "Mtest                  int            256\n",
      "N                      int            90\n",
      "N_test                 int            2007\n",
      "N_train                int            7291\n",
      "X                      DataFrame               A          B    <...>\\n\\n[90 rows x 8 columns]\n",
      "X_heatmap              ndarray        16x16: 256 elems, type `float64`, 2048 bytes\n",
      "X_test                 DataFrame            pixel1  pixel2  pix<...>[2007 rows x 256 columns]\n",
      "X_train                DataFrame            pixel1  pixel2  pix<...>[7291 rows x 256 columns]\n",
      "Xdict                  dict           n=5\n",
      "a                      int            3\n",
      "attributeNames         list           n=8\n",
      "axes                   AxesSubplot    AxesSubplot(0.125,0.125;0.775x0.755)\n",
      "b                      int            9\n",
      "bar                    function       <function bar at 0x7fddc4429430>\n",
      "basename               function       <function basename at 0x7fddbfa3db80>\n",
      "classDict              dict           n=5\n",
      "className              str            Pentanol\n",
      "classNames             DataFrame            class\\n0     Water\\<...>n3   Heptane\\n4  Pentanol\n",
      "classNamesList         list           n=5\n",
      "col_name_y             list           n=1\n",
      "col_names              list           n=257\n",
      "col_names_X            list           n=256\n",
      "doc                    DataFrame             Nanonose     Unnam<...>n\\n[91 rows x 11 columns]\n",
      "dpi                    int            300\n",
      "fig                    Figure         Figure(576x396)\n",
      "figure                 function       <function figure at 0x7fddc440c160>\n",
      "file_path              str            ../Data/nanonose.xls\n",
      "i                      int            0\n",
      "is_null_filter         Series         0     False\\n1     False\\<...>, Length: 90, dtype: bool\n",
      "j                      int            9\n",
      "join                   function       <function join at 0x7fddbfa3d940>\n",
      "linalg                 module         <module 'scipy.linalg' fr<...>cipy/linalg/__init__.py'>\n",
      "loadmat                function       <function loadmat at 0x7fddc5e36940>\n",
      "mat_data               dict           n=5\n",
      "n                      int            4\n",
      "n_cols                 int            257\n",
      "np                     module         <module 'numpy' from '/Us<...>kages/numpy/__init__.py'>\n",
      "pd                     module         <module 'pandas' from '/U<...>ages/pandas/__init__.py'>\n",
      "plot                   function       <function plot at 0x7fddc442b700>\n",
      "plt                    module         <module 'matplotlib.pyplo<...>es/matplotlib/pyplot.py'>\n",
      "row_filter             Series         0     False\\n1     False\\<...>, Length: 90, dtype: bool\n",
      "row_filter2            Series         0     False\\n1     False\\<...>, Length: 90, dtype: bool\n",
      "show                   function       <function show at 0x7fddc440aa60>\n",
      "sns                    module         <module 'seaborn' from '/<...>ges/seaborn/__init__.py'>\n",
      "splitext               function       <function splitext at 0x7fddbfa3da60>\n",
      "sqrt_M                 int            16\n",
      "test_between           DataFrame            class  pixel1  pixe<...>[7291 rows x 257 columns]\n",
      "test_data              DataFrame            class  pixel1  pixe<...>[2007 rows x 257 columns]\n",
      "train_data             DataFrame            class  pixel1  pixe<...>[7291 rows x 257 columns]\n",
      "unique_counts          DataFrame           counts  class\\n0.0  <...>    8\\n9.0     644      9\n",
      "uniques                ndarray        10: 10 elems, type `float64`, 80 bytes\n",
      "xlabel                 function       <function xlabel at 0x7fddc442c670>\n",
      "y                      DataFrame             class\\n0      Wate<...>\\n\\n[90 rows x 1 columns]\n",
      "y_test                 DataFrame            class\\n0       9.0\\<...>\\n[2007 rows x 1 columns]\n",
      "y_train                DataFrame            class\\n0       6.0\\<...>\\n[7291 rows x 1 columns]\n",
      "ylabel                 function       <function ylabel at 0x7fddc442c700>\n"
     ]
    }
   ],
   "source": [
    "%whos"
   ]
  },
  {
   "cell_type": "markdown",
   "id": "living-advertiser",
   "metadata": {},
   "source": [
    "# 2. Get acquainted with/verify you data"
   ]
  },
  {
   "cell_type": "code",
   "execution_count": 139,
   "id": "proud-pulse",
   "metadata": {},
   "outputs": [
    {
     "data": {
      "text/plain": [
       "A    float64\n",
       "B    float64\n",
       "C    float64\n",
       "D    float64\n",
       "E    float64\n",
       "F    float64\n",
       "G    float64\n",
       "H    float64\n",
       "dtype: object"
      ]
     },
     "execution_count": 139,
     "metadata": {},
     "output_type": "execute_result"
    }
   ],
   "source": [
    "X.dtypes"
   ]
  },
  {
   "cell_type": "markdown",
   "id": "precious-scout",
   "metadata": {},
   "source": [
    "### .info() is usefull to check if the columns contain null-values\n",
    "All columns should contain the same numbr of non-null values"
   ]
  },
  {
   "cell_type": "code",
   "execution_count": 140,
   "id": "everyday-warren",
   "metadata": {},
   "outputs": [
    {
     "name": "stdout",
     "output_type": "stream",
     "text": [
      "<class 'pandas.core.frame.DataFrame'>\n",
      "RangeIndex: 90 entries, 0 to 89\n",
      "Data columns (total 8 columns):\n",
      " #   Column  Non-Null Count  Dtype  \n",
      "---  ------  --------------  -----  \n",
      " 0   A       90 non-null     float64\n",
      " 1   B       90 non-null     float64\n",
      " 2   C       90 non-null     float64\n",
      " 3   D       90 non-null     float64\n",
      " 4   E       90 non-null     float64\n",
      " 5   F       90 non-null     float64\n",
      " 6   G       90 non-null     float64\n",
      " 7   H       90 non-null     float64\n",
      "dtypes: float64(8)\n",
      "memory usage: 5.8 KB\n"
     ]
    }
   ],
   "source": [
    "# you can see how many non-null values you have\n",
    "X.info()"
   ]
  },
  {
   "cell_type": "code",
   "execution_count": 141,
   "id": "eligible-albuquerque",
   "metadata": {},
   "outputs": [
    {
     "data": {
      "text/plain": [
       "(90, 8)"
      ]
     },
     "execution_count": 141,
     "metadata": {},
     "output_type": "execute_result"
    }
   ],
   "source": [
    "X.shape"
   ]
  },
  {
   "cell_type": "markdown",
   "id": "subsequent-exercise",
   "metadata": {},
   "source": [
    "## Slicing Data"
   ]
  },
  {
   "cell_type": "markdown",
   "id": "maritime-childhood",
   "metadata": {},
   "source": [
    "Series means you can slice!"
   ]
  },
  {
   "cell_type": "markdown",
   "id": "stupid-consensus",
   "metadata": {},
   "source": [
    "### Index slicing"
   ]
  },
  {
   "cell_type": "code",
   "execution_count": 142,
   "id": "floral-slave",
   "metadata": {},
   "outputs": [
    {
     "data": {
      "text/plain": [
       "0    95.5\n",
       "1    94.5\n",
       "2    92.0\n",
       "3    53.0\n",
       "4    51.0\n",
       "Name: A, dtype: float64"
      ]
     },
     "execution_count": 142,
     "metadata": {},
     "output_type": "execute_result"
    }
   ],
   "source": [
    "X['A'][0:10].head()"
   ]
  },
  {
   "cell_type": "code",
   "execution_count": 143,
   "id": "destroyed-leonard",
   "metadata": {},
   "outputs": [
    {
     "data": {
      "text/html": [
       "<div>\n",
       "<style scoped>\n",
       "    .dataframe tbody tr th:only-of-type {\n",
       "        vertical-align: middle;\n",
       "    }\n",
       "\n",
       "    .dataframe tbody tr th {\n",
       "        vertical-align: top;\n",
       "    }\n",
       "\n",
       "    .dataframe thead th {\n",
       "        text-align: right;\n",
       "    }\n",
       "</style>\n",
       "<table border=\"1\" class=\"dataframe\">\n",
       "  <thead>\n",
       "    <tr style=\"text-align: right;\">\n",
       "      <th></th>\n",
       "      <th>A</th>\n",
       "    </tr>\n",
       "  </thead>\n",
       "  <tbody>\n",
       "    <tr>\n",
       "      <th>0</th>\n",
       "      <td>95.5</td>\n",
       "    </tr>\n",
       "    <tr>\n",
       "      <th>1</th>\n",
       "      <td>94.5</td>\n",
       "    </tr>\n",
       "    <tr>\n",
       "      <th>2</th>\n",
       "      <td>92.0</td>\n",
       "    </tr>\n",
       "    <tr>\n",
       "      <th>3</th>\n",
       "      <td>53.0</td>\n",
       "    </tr>\n",
       "    <tr>\n",
       "      <th>4</th>\n",
       "      <td>51.0</td>\n",
       "    </tr>\n",
       "  </tbody>\n",
       "</table>\n",
       "</div>"
      ],
      "text/plain": [
       "      A\n",
       "0  95.5\n",
       "1  94.5\n",
       "2  92.0\n",
       "3  53.0\n",
       "4  51.0"
      ]
     },
     "execution_count": 143,
     "metadata": {},
     "output_type": "execute_result"
    }
   ],
   "source": [
    "X[['A']][0:10].head()"
   ]
  },
  {
   "cell_type": "code",
   "execution_count": null,
   "id": "failing-chamber",
   "metadata": {},
   "outputs": [],
   "source": [
    "# columns slicing by index\n",
    "# all columns but the last column\n",
    "X.columsn[:-1]"
   ]
  },
  {
   "cell_type": "markdown",
   "id": "separated-sphere",
   "metadata": {},
   "source": [
    "### loc slicing\n",
    "Recommended way of selecting columns"
   ]
  },
  {
   "cell_type": "code",
   "execution_count": 144,
   "id": "behavioral-album",
   "metadata": {},
   "outputs": [
    {
     "data": {
      "text/html": [
       "<div>\n",
       "<style scoped>\n",
       "    .dataframe tbody tr th:only-of-type {\n",
       "        vertical-align: middle;\n",
       "    }\n",
       "\n",
       "    .dataframe tbody tr th {\n",
       "        vertical-align: top;\n",
       "    }\n",
       "\n",
       "    .dataframe thead th {\n",
       "        text-align: right;\n",
       "    }\n",
       "</style>\n",
       "<table border=\"1\" class=\"dataframe\">\n",
       "  <thead>\n",
       "    <tr style=\"text-align: right;\">\n",
       "      <th></th>\n",
       "      <th>A</th>\n",
       "    </tr>\n",
       "  </thead>\n",
       "  <tbody>\n",
       "    <tr>\n",
       "      <th>0</th>\n",
       "      <td>95.5</td>\n",
       "    </tr>\n",
       "    <tr>\n",
       "      <th>1</th>\n",
       "      <td>94.5</td>\n",
       "    </tr>\n",
       "    <tr>\n",
       "      <th>2</th>\n",
       "      <td>92.0</td>\n",
       "    </tr>\n",
       "    <tr>\n",
       "      <th>3</th>\n",
       "      <td>53.0</td>\n",
       "    </tr>\n",
       "    <tr>\n",
       "      <th>4</th>\n",
       "      <td>51.0</td>\n",
       "    </tr>\n",
       "  </tbody>\n",
       "</table>\n",
       "</div>"
      ],
      "text/plain": [
       "      A\n",
       "0  95.5\n",
       "1  94.5\n",
       "2  92.0\n",
       "3  53.0\n",
       "4  51.0"
      ]
     },
     "execution_count": 144,
     "metadata": {},
     "output_type": "execute_result"
    }
   ],
   "source": [
    "# select all rows in column A\n",
    "# return dataframe\n",
    "X.loc[:, ['A']].head()"
   ]
  },
  {
   "cell_type": "code",
   "execution_count": 145,
   "id": "amber-taiwan",
   "metadata": {},
   "outputs": [
    {
     "data": {
      "text/plain": [
       "0    95.5\n",
       "1    94.5\n",
       "2    92.0\n",
       "3    53.0\n",
       "4    51.0\n",
       "Name: A, dtype: float64"
      ]
     },
     "execution_count": 145,
     "metadata": {},
     "output_type": "execute_result"
    }
   ],
   "source": [
    "# select all rows in column A\n",
    "# return series\n",
    "X.loc[:, 'A'].head()"
   ]
  },
  {
   "cell_type": "markdown",
   "id": "vanilla-sudan",
   "metadata": {},
   "source": [
    "## Filtering data"
   ]
  },
  {
   "cell_type": "markdown",
   "id": "hindu-seeking",
   "metadata": {},
   "source": [
    "### count row values"
   ]
  },
  {
   "cell_type": "code",
   "execution_count": 146,
   "id": "unknown-rebound",
   "metadata": {},
   "outputs": [
    {
     "data": {
      "text/plain": [
       "0.000    13\n",
       "1.000     7\n",
       "1.500     6\n",
       "0.500     5\n",
       "0.416     3\n",
       "Name: A, dtype: int64"
      ]
     },
     "execution_count": 146,
     "metadata": {},
     "output_type": "execute_result"
    }
   ],
   "source": [
    "X['A'].value_counts().head()"
   ]
  },
  {
   "cell_type": "markdown",
   "id": "direct-consent",
   "metadata": {},
   "source": [
    "### filer rows"
   ]
  },
  {
   "cell_type": "code",
   "execution_count": 147,
   "id": "broken-blowing",
   "metadata": {},
   "outputs": [
    {
     "data": {
      "text/html": [
       "<div>\n",
       "<style scoped>\n",
       "    .dataframe tbody tr th:only-of-type {\n",
       "        vertical-align: middle;\n",
       "    }\n",
       "\n",
       "    .dataframe tbody tr th {\n",
       "        vertical-align: top;\n",
       "    }\n",
       "\n",
       "    .dataframe thead th {\n",
       "        text-align: right;\n",
       "    }\n",
       "</style>\n",
       "<table border=\"1\" class=\"dataframe\">\n",
       "  <thead>\n",
       "    <tr style=\"text-align: right;\">\n",
       "      <th></th>\n",
       "      <th>A</th>\n",
       "      <th>B</th>\n",
       "      <th>C</th>\n",
       "      <th>D</th>\n",
       "      <th>E</th>\n",
       "      <th>F</th>\n",
       "      <th>G</th>\n",
       "      <th>H</th>\n",
       "    </tr>\n",
       "  </thead>\n",
       "  <tbody>\n",
       "    <tr>\n",
       "      <th>33</th>\n",
       "      <td>0.0</td>\n",
       "      <td>5.5</td>\n",
       "      <td>1.5</td>\n",
       "      <td>1.687500</td>\n",
       "      <td>12.093750</td>\n",
       "      <td>0.939706</td>\n",
       "      <td>5.744118</td>\n",
       "      <td>1.738983</td>\n",
       "    </tr>\n",
       "    <tr>\n",
       "      <th>34</th>\n",
       "      <td>0.0</td>\n",
       "      <td>5.7</td>\n",
       "      <td>1.5</td>\n",
       "      <td>1.687500</td>\n",
       "      <td>12.375000</td>\n",
       "      <td>1.469118</td>\n",
       "      <td>5.856618</td>\n",
       "      <td>1.522286</td>\n",
       "    </tr>\n",
       "    <tr>\n",
       "      <th>35</th>\n",
       "      <td>0.0</td>\n",
       "      <td>5.5</td>\n",
       "      <td>1.8</td>\n",
       "      <td>2.250000</td>\n",
       "      <td>12.656250</td>\n",
       "      <td>1.204412</td>\n",
       "      <td>5.697794</td>\n",
       "      <td>1.910615</td>\n",
       "    </tr>\n",
       "    <tr>\n",
       "      <th>48</th>\n",
       "      <td>0.0</td>\n",
       "      <td>29.0</td>\n",
       "      <td>8.0</td>\n",
       "      <td>16.666667</td>\n",
       "      <td>17.291667</td>\n",
       "      <td>2.293023</td>\n",
       "      <td>11.969186</td>\n",
       "      <td>9.605241</td>\n",
       "    </tr>\n",
       "    <tr>\n",
       "      <th>51</th>\n",
       "      <td>0.0</td>\n",
       "      <td>14.0</td>\n",
       "      <td>4.0</td>\n",
       "      <td>8.673469</td>\n",
       "      <td>7.806122</td>\n",
       "      <td>0.602907</td>\n",
       "      <td>6.454070</td>\n",
       "      <td>3.932056</td>\n",
       "    </tr>\n",
       "  </tbody>\n",
       "</table>\n",
       "</div>"
      ],
      "text/plain": [
       "      A     B    C          D          E         F          G         H\n",
       "33  0.0   5.5  1.5   1.687500  12.093750  0.939706   5.744118  1.738983\n",
       "34  0.0   5.7  1.5   1.687500  12.375000  1.469118   5.856618  1.522286\n",
       "35  0.0   5.5  1.8   2.250000  12.656250  1.204412   5.697794  1.910615\n",
       "48  0.0  29.0  8.0  16.666667  17.291667  2.293023  11.969186  9.605241\n",
       "51  0.0  14.0  4.0   8.673469   7.806122  0.602907   6.454070  3.932056"
      ]
     },
     "execution_count": 147,
     "metadata": {},
     "output_type": "execute_result"
    }
   ],
   "source": [
    "row_filter = X['A'] == 0.000\n",
    "X[row_filter].head()"
   ]
  },
  {
   "cell_type": "code",
   "execution_count": 148,
   "id": "pacific-plain",
   "metadata": {},
   "outputs": [
    {
     "data": {
      "text/html": [
       "<div>\n",
       "<style scoped>\n",
       "    .dataframe tbody tr th:only-of-type {\n",
       "        vertical-align: middle;\n",
       "    }\n",
       "\n",
       "    .dataframe tbody tr th {\n",
       "        vertical-align: top;\n",
       "    }\n",
       "\n",
       "    .dataframe thead th {\n",
       "        text-align: right;\n",
       "    }\n",
       "</style>\n",
       "<table border=\"1\" class=\"dataframe\">\n",
       "  <thead>\n",
       "    <tr style=\"text-align: right;\">\n",
       "      <th></th>\n",
       "      <th>A</th>\n",
       "      <th>B</th>\n",
       "      <th>C</th>\n",
       "      <th>D</th>\n",
       "      <th>E</th>\n",
       "      <th>F</th>\n",
       "      <th>G</th>\n",
       "      <th>H</th>\n",
       "    </tr>\n",
       "  </thead>\n",
       "  <tbody>\n",
       "    <tr>\n",
       "      <th>33</th>\n",
       "      <td>0.0</td>\n",
       "      <td>5.5</td>\n",
       "      <td>1.5</td>\n",
       "      <td>1.687500</td>\n",
       "      <td>12.093750</td>\n",
       "      <td>0.939706</td>\n",
       "      <td>5.744118</td>\n",
       "      <td>1.738983</td>\n",
       "    </tr>\n",
       "    <tr>\n",
       "      <th>34</th>\n",
       "      <td>0.0</td>\n",
       "      <td>5.7</td>\n",
       "      <td>1.5</td>\n",
       "      <td>1.687500</td>\n",
       "      <td>12.375000</td>\n",
       "      <td>1.469118</td>\n",
       "      <td>5.856618</td>\n",
       "      <td>1.522286</td>\n",
       "    </tr>\n",
       "    <tr>\n",
       "      <th>35</th>\n",
       "      <td>0.0</td>\n",
       "      <td>5.5</td>\n",
       "      <td>1.8</td>\n",
       "      <td>2.250000</td>\n",
       "      <td>12.656250</td>\n",
       "      <td>1.204412</td>\n",
       "      <td>5.697794</td>\n",
       "      <td>1.910615</td>\n",
       "    </tr>\n",
       "    <tr>\n",
       "      <th>48</th>\n",
       "      <td>0.0</td>\n",
       "      <td>29.0</td>\n",
       "      <td>8.0</td>\n",
       "      <td>16.666667</td>\n",
       "      <td>17.291667</td>\n",
       "      <td>2.293023</td>\n",
       "      <td>11.969186</td>\n",
       "      <td>9.605241</td>\n",
       "    </tr>\n",
       "    <tr>\n",
       "      <th>51</th>\n",
       "      <td>0.0</td>\n",
       "      <td>14.0</td>\n",
       "      <td>4.0</td>\n",
       "      <td>8.673469</td>\n",
       "      <td>7.806122</td>\n",
       "      <td>0.602907</td>\n",
       "      <td>6.454070</td>\n",
       "      <td>3.932056</td>\n",
       "    </tr>\n",
       "  </tbody>\n",
       "</table>\n",
       "</div>"
      ],
      "text/plain": [
       "      A     B    C          D          E         F          G         H\n",
       "33  0.0   5.5  1.5   1.687500  12.093750  0.939706   5.744118  1.738983\n",
       "34  0.0   5.7  1.5   1.687500  12.375000  1.469118   5.856618  1.522286\n",
       "35  0.0   5.5  1.8   2.250000  12.656250  1.204412   5.697794  1.910615\n",
       "48  0.0  29.0  8.0  16.666667  17.291667  2.293023  11.969186  9.605241\n",
       "51  0.0  14.0  4.0   8.673469   7.806122  0.602907   6.454070  3.932056"
      ]
     },
     "execution_count": 148,
     "metadata": {},
     "output_type": "execute_result"
    }
   ],
   "source": [
    "# using loc (: means all columns)\n",
    "X.loc[row_filter,:].head()"
   ]
  },
  {
   "cell_type": "markdown",
   "id": "conscious-walter",
   "metadata": {},
   "source": [
    "### using a double row filter"
   ]
  },
  {
   "cell_type": "code",
   "execution_count": 149,
   "id": "affiliated-invasion",
   "metadata": {},
   "outputs": [
    {
     "data": {
      "text/plain": [
       "0.0     10\n",
       "0.5      4\n",
       "4.0      3\n",
       "5.5      3\n",
       "14.0     2\n",
       "Name: B, dtype: int64"
      ]
     },
     "execution_count": 149,
     "metadata": {},
     "output_type": "execute_result"
    }
   ],
   "source": [
    "X['B'].value_counts().head()"
   ]
  },
  {
   "cell_type": "code",
   "execution_count": 150,
   "id": "functioning-soviet",
   "metadata": {},
   "outputs": [],
   "source": [
    "row_filter2 = X['B'] == 0.000"
   ]
  },
  {
   "cell_type": "code",
   "execution_count": 151,
   "id": "classical-momentum",
   "metadata": {},
   "outputs": [
    {
     "data": {
      "text/html": [
       "<div>\n",
       "<style scoped>\n",
       "    .dataframe tbody tr th:only-of-type {\n",
       "        vertical-align: middle;\n",
       "    }\n",
       "\n",
       "    .dataframe tbody tr th {\n",
       "        vertical-align: top;\n",
       "    }\n",
       "\n",
       "    .dataframe thead th {\n",
       "        text-align: right;\n",
       "    }\n",
       "</style>\n",
       "<table border=\"1\" class=\"dataframe\">\n",
       "  <thead>\n",
       "    <tr style=\"text-align: right;\">\n",
       "      <th></th>\n",
       "      <th>A</th>\n",
       "      <th>B</th>\n",
       "      <th>C</th>\n",
       "      <th>D</th>\n",
       "      <th>E</th>\n",
       "      <th>F</th>\n",
       "      <th>G</th>\n",
       "      <th>H</th>\n",
       "    </tr>\n",
       "  </thead>\n",
       "  <tbody>\n",
       "    <tr>\n",
       "      <th>69</th>\n",
       "      <td>0.0</td>\n",
       "      <td>0.0</td>\n",
       "      <td>0.5</td>\n",
       "      <td>0.0</td>\n",
       "      <td>0.0</td>\n",
       "      <td>0.104667</td>\n",
       "      <td>0.080244</td>\n",
       "      <td>0.30</td>\n",
       "    </tr>\n",
       "    <tr>\n",
       "      <th>70</th>\n",
       "      <td>0.0</td>\n",
       "      <td>0.0</td>\n",
       "      <td>1.0</td>\n",
       "      <td>0.0</td>\n",
       "      <td>0.0</td>\n",
       "      <td>0.153511</td>\n",
       "      <td>0.362844</td>\n",
       "      <td>0.33</td>\n",
       "    </tr>\n",
       "    <tr>\n",
       "      <th>71</th>\n",
       "      <td>0.0</td>\n",
       "      <td>0.0</td>\n",
       "      <td>1.5</td>\n",
       "      <td>0.0</td>\n",
       "      <td>0.0</td>\n",
       "      <td>0.069778</td>\n",
       "      <td>0.366333</td>\n",
       "      <td>0.28</td>\n",
       "    </tr>\n",
       "  </tbody>\n",
       "</table>\n",
       "</div>"
      ],
      "text/plain": [
       "      A    B    C    D    E         F         G     H\n",
       "69  0.0  0.0  0.5  0.0  0.0  0.104667  0.080244  0.30\n",
       "70  0.0  0.0  1.0  0.0  0.0  0.153511  0.362844  0.33\n",
       "71  0.0  0.0  1.5  0.0  0.0  0.069778  0.366333  0.28"
      ]
     },
     "execution_count": 151,
     "metadata": {},
     "output_type": "execute_result"
    }
   ],
   "source": [
    "X.loc[row_filter & row_filter2, :]"
   ]
  },
  {
   "cell_type": "markdown",
   "id": "adverse-friendly",
   "metadata": {},
   "source": [
    "## Managing Columns"
   ]
  },
  {
   "cell_type": "markdown",
   "id": "recovered-volunteer",
   "metadata": {},
   "source": [
    "### Rename column using 'rename'"
   ]
  },
  {
   "cell_type": "code",
   "execution_count": 152,
   "id": "innocent-london",
   "metadata": {},
   "outputs": [
    {
     "data": {
      "text/html": [
       "<div>\n",
       "<style scoped>\n",
       "    .dataframe tbody tr th:only-of-type {\n",
       "        vertical-align: middle;\n",
       "    }\n",
       "\n",
       "    .dataframe tbody tr th {\n",
       "        vertical-align: top;\n",
       "    }\n",
       "\n",
       "    .dataframe thead th {\n",
       "        text-align: right;\n",
       "    }\n",
       "</style>\n",
       "<table border=\"1\" class=\"dataframe\">\n",
       "  <thead>\n",
       "    <tr style=\"text-align: right;\">\n",
       "      <th></th>\n",
       "      <th>Z</th>\n",
       "      <th>B</th>\n",
       "      <th>C</th>\n",
       "      <th>D</th>\n",
       "      <th>E</th>\n",
       "      <th>F</th>\n",
       "      <th>G</th>\n",
       "      <th>H</th>\n",
       "    </tr>\n",
       "  </thead>\n",
       "  <tbody>\n",
       "    <tr>\n",
       "      <th>0</th>\n",
       "      <td>95.5</td>\n",
       "      <td>21.0</td>\n",
       "      <td>6.0</td>\n",
       "      <td>11.942308</td>\n",
       "      <td>64.134615</td>\n",
       "      <td>21.498560</td>\n",
       "      <td>5.567840</td>\n",
       "      <td>1.174135</td>\n",
       "    </tr>\n",
       "    <tr>\n",
       "      <th>1</th>\n",
       "      <td>94.5</td>\n",
       "      <td>17.0</td>\n",
       "      <td>5.0</td>\n",
       "      <td>5.484615</td>\n",
       "      <td>63.205769</td>\n",
       "      <td>19.658560</td>\n",
       "      <td>4.968000</td>\n",
       "      <td>1.883444</td>\n",
       "    </tr>\n",
       "    <tr>\n",
       "      <th>2</th>\n",
       "      <td>92.0</td>\n",
       "      <td>16.0</td>\n",
       "      <td>3.0</td>\n",
       "      <td>11.057692</td>\n",
       "      <td>62.586538</td>\n",
       "      <td>19.813120</td>\n",
       "      <td>5.192480</td>\n",
       "      <td>0.564835</td>\n",
       "    </tr>\n",
       "    <tr>\n",
       "      <th>3</th>\n",
       "      <td>53.0</td>\n",
       "      <td>7.5</td>\n",
       "      <td>2.5</td>\n",
       "      <td>3.538462</td>\n",
       "      <td>35.163462</td>\n",
       "      <td>6.876207</td>\n",
       "      <td>1.641724</td>\n",
       "      <td>0.144654</td>\n",
       "    </tr>\n",
       "    <tr>\n",
       "      <th>4</th>\n",
       "      <td>51.0</td>\n",
       "      <td>7.5</td>\n",
       "      <td>2.5</td>\n",
       "      <td>4.865385</td>\n",
       "      <td>34.057692</td>\n",
       "      <td>6.757241</td>\n",
       "      <td>1.613966</td>\n",
       "      <td>0.059663</td>\n",
       "    </tr>\n",
       "  </tbody>\n",
       "</table>\n",
       "</div>"
      ],
      "text/plain": [
       "      Z     B    C          D          E          F         G         H\n",
       "0  95.5  21.0  6.0  11.942308  64.134615  21.498560  5.567840  1.174135\n",
       "1  94.5  17.0  5.0   5.484615  63.205769  19.658560  4.968000  1.883444\n",
       "2  92.0  16.0  3.0  11.057692  62.586538  19.813120  5.192480  0.564835\n",
       "3  53.0   7.5  2.5   3.538462  35.163462   6.876207  1.641724  0.144654\n",
       "4  51.0   7.5  2.5   4.865385  34.057692   6.757241  1.613966  0.059663"
      ]
     },
     "execution_count": 152,
     "metadata": {},
     "output_type": "execute_result"
    }
   ],
   "source": [
    "# X = X.rename(columns = {'A' : 'Z'})\n",
    "X.rename(columns = {'A' : 'Z'}, inplace = True)\n",
    "X.head()"
   ]
  },
  {
   "cell_type": "markdown",
   "id": "dense-decrease",
   "metadata": {},
   "source": [
    "### List Replacement"
   ]
  },
  {
   "cell_type": "code",
   "execution_count": 153,
   "id": "future-quality",
   "metadata": {},
   "outputs": [],
   "source": [
    "# write all columns as a list\n",
    "# downside is that you need to list all the columns\n",
    "# X.columns = ['A', 'B', 'C', ...]"
   ]
  },
  {
   "cell_type": "markdown",
   "id": "identical-allen",
   "metadata": {},
   "source": [
    "### Remove column  by 'drop'"
   ]
  },
  {
   "cell_type": "code",
   "execution_count": 154,
   "id": "crazy-liver",
   "metadata": {},
   "outputs": [
    {
     "data": {
      "text/html": [
       "<div>\n",
       "<style scoped>\n",
       "    .dataframe tbody tr th:only-of-type {\n",
       "        vertical-align: middle;\n",
       "    }\n",
       "\n",
       "    .dataframe tbody tr th {\n",
       "        vertical-align: top;\n",
       "    }\n",
       "\n",
       "    .dataframe thead th {\n",
       "        text-align: right;\n",
       "    }\n",
       "</style>\n",
       "<table border=\"1\" class=\"dataframe\">\n",
       "  <thead>\n",
       "    <tr style=\"text-align: right;\">\n",
       "      <th></th>\n",
       "      <th>Z</th>\n",
       "      <th>C</th>\n",
       "      <th>D</th>\n",
       "      <th>E</th>\n",
       "      <th>F</th>\n",
       "      <th>G</th>\n",
       "      <th>H</th>\n",
       "    </tr>\n",
       "  </thead>\n",
       "  <tbody>\n",
       "    <tr>\n",
       "      <th>0</th>\n",
       "      <td>95.500</td>\n",
       "      <td>6.000000</td>\n",
       "      <td>11.942308</td>\n",
       "      <td>64.134615</td>\n",
       "      <td>21.498560</td>\n",
       "      <td>5.567840</td>\n",
       "      <td>1.174135</td>\n",
       "    </tr>\n",
       "    <tr>\n",
       "      <th>1</th>\n",
       "      <td>94.500</td>\n",
       "      <td>5.000000</td>\n",
       "      <td>5.484615</td>\n",
       "      <td>63.205769</td>\n",
       "      <td>19.658560</td>\n",
       "      <td>4.968000</td>\n",
       "      <td>1.883444</td>\n",
       "    </tr>\n",
       "    <tr>\n",
       "      <th>2</th>\n",
       "      <td>92.000</td>\n",
       "      <td>3.000000</td>\n",
       "      <td>11.057692</td>\n",
       "      <td>62.586538</td>\n",
       "      <td>19.813120</td>\n",
       "      <td>5.192480</td>\n",
       "      <td>0.564835</td>\n",
       "    </tr>\n",
       "    <tr>\n",
       "      <th>3</th>\n",
       "      <td>53.000</td>\n",
       "      <td>2.500000</td>\n",
       "      <td>3.538462</td>\n",
       "      <td>35.163462</td>\n",
       "      <td>6.876207</td>\n",
       "      <td>1.641724</td>\n",
       "      <td>0.144654</td>\n",
       "    </tr>\n",
       "    <tr>\n",
       "      <th>4</th>\n",
       "      <td>51.000</td>\n",
       "      <td>2.500000</td>\n",
       "      <td>4.865385</td>\n",
       "      <td>34.057692</td>\n",
       "      <td>6.757241</td>\n",
       "      <td>1.613966</td>\n",
       "      <td>0.059663</td>\n",
       "    </tr>\n",
       "    <tr>\n",
       "      <th>...</th>\n",
       "      <td>...</td>\n",
       "      <td>...</td>\n",
       "      <td>...</td>\n",
       "      <td>...</td>\n",
       "      <td>...</td>\n",
       "      <td>...</td>\n",
       "      <td>...</td>\n",
       "    </tr>\n",
       "    <tr>\n",
       "      <th>85</th>\n",
       "      <td>0.192</td>\n",
       "      <td>9.120000</td>\n",
       "      <td>-0.250000</td>\n",
       "      <td>1.300000</td>\n",
       "      <td>4.787200</td>\n",
       "      <td>11.219200</td>\n",
       "      <td>0.000000</td>\n",
       "    </tr>\n",
       "    <tr>\n",
       "      <th>86</th>\n",
       "      <td>0.192</td>\n",
       "      <td>8.736000</td>\n",
       "      <td>-0.250000</td>\n",
       "      <td>1.125000</td>\n",
       "      <td>5.068800</td>\n",
       "      <td>12.044800</td>\n",
       "      <td>0.000000</td>\n",
       "    </tr>\n",
       "    <tr>\n",
       "      <th>87</th>\n",
       "      <td>0.000</td>\n",
       "      <td>5.579167</td>\n",
       "      <td>0.000000</td>\n",
       "      <td>0.650000</td>\n",
       "      <td>1.845417</td>\n",
       "      <td>6.695000</td>\n",
       "      <td>0.000000</td>\n",
       "    </tr>\n",
       "    <tr>\n",
       "      <th>88</th>\n",
       "      <td>0.000</td>\n",
       "      <td>4.935417</td>\n",
       "      <td>0.000000</td>\n",
       "      <td>0.800000</td>\n",
       "      <td>2.288889</td>\n",
       "      <td>7.024028</td>\n",
       "      <td>0.000000</td>\n",
       "    </tr>\n",
       "    <tr>\n",
       "      <th>89</th>\n",
       "      <td>0.000</td>\n",
       "      <td>6.437500</td>\n",
       "      <td>0.000000</td>\n",
       "      <td>0.800000</td>\n",
       "      <td>1.945556</td>\n",
       "      <td>7.066944</td>\n",
       "      <td>0.000000</td>\n",
       "    </tr>\n",
       "  </tbody>\n",
       "</table>\n",
       "<p>90 rows × 7 columns</p>\n",
       "</div>"
      ],
      "text/plain": [
       "         Z         C          D          E          F          G         H\n",
       "0   95.500  6.000000  11.942308  64.134615  21.498560   5.567840  1.174135\n",
       "1   94.500  5.000000   5.484615  63.205769  19.658560   4.968000  1.883444\n",
       "2   92.000  3.000000  11.057692  62.586538  19.813120   5.192480  0.564835\n",
       "3   53.000  2.500000   3.538462  35.163462   6.876207   1.641724  0.144654\n",
       "4   51.000  2.500000   4.865385  34.057692   6.757241   1.613966  0.059663\n",
       "..     ...       ...        ...        ...        ...        ...       ...\n",
       "85   0.192  9.120000  -0.250000   1.300000   4.787200  11.219200  0.000000\n",
       "86   0.192  8.736000  -0.250000   1.125000   5.068800  12.044800  0.000000\n",
       "87   0.000  5.579167   0.000000   0.650000   1.845417   6.695000  0.000000\n",
       "88   0.000  4.935417   0.000000   0.800000   2.288889   7.024028  0.000000\n",
       "89   0.000  6.437500   0.000000   0.800000   1.945556   7.066944  0.000000\n",
       "\n",
       "[90 rows x 7 columns]"
      ]
     },
     "execution_count": 154,
     "metadata": {},
     "output_type": "execute_result"
    }
   ],
   "source": [
    "# X = X.drop(columns = ['Z'])\n",
    "X.drop(columns = 'B', inplace=True)\n",
    "X"
   ]
  },
  {
   "cell_type": "markdown",
   "id": "described-nomination",
   "metadata": {},
   "source": [
    "### Remove column by 'del'"
   ]
  },
  {
   "cell_type": "code",
   "execution_count": 155,
   "id": "dirty-approval",
   "metadata": {},
   "outputs": [
    {
     "data": {
      "text/html": [
       "<div>\n",
       "<style scoped>\n",
       "    .dataframe tbody tr th:only-of-type {\n",
       "        vertical-align: middle;\n",
       "    }\n",
       "\n",
       "    .dataframe tbody tr th {\n",
       "        vertical-align: top;\n",
       "    }\n",
       "\n",
       "    .dataframe thead th {\n",
       "        text-align: right;\n",
       "    }\n",
       "</style>\n",
       "<table border=\"1\" class=\"dataframe\">\n",
       "  <thead>\n",
       "    <tr style=\"text-align: right;\">\n",
       "      <th></th>\n",
       "      <th>C</th>\n",
       "      <th>D</th>\n",
       "      <th>E</th>\n",
       "      <th>F</th>\n",
       "      <th>G</th>\n",
       "      <th>H</th>\n",
       "    </tr>\n",
       "  </thead>\n",
       "  <tbody>\n",
       "    <tr>\n",
       "      <th>0</th>\n",
       "      <td>6.000000</td>\n",
       "      <td>11.942308</td>\n",
       "      <td>64.134615</td>\n",
       "      <td>21.498560</td>\n",
       "      <td>5.567840</td>\n",
       "      <td>1.174135</td>\n",
       "    </tr>\n",
       "    <tr>\n",
       "      <th>1</th>\n",
       "      <td>5.000000</td>\n",
       "      <td>5.484615</td>\n",
       "      <td>63.205769</td>\n",
       "      <td>19.658560</td>\n",
       "      <td>4.968000</td>\n",
       "      <td>1.883444</td>\n",
       "    </tr>\n",
       "    <tr>\n",
       "      <th>2</th>\n",
       "      <td>3.000000</td>\n",
       "      <td>11.057692</td>\n",
       "      <td>62.586538</td>\n",
       "      <td>19.813120</td>\n",
       "      <td>5.192480</td>\n",
       "      <td>0.564835</td>\n",
       "    </tr>\n",
       "    <tr>\n",
       "      <th>3</th>\n",
       "      <td>2.500000</td>\n",
       "      <td>3.538462</td>\n",
       "      <td>35.163462</td>\n",
       "      <td>6.876207</td>\n",
       "      <td>1.641724</td>\n",
       "      <td>0.144654</td>\n",
       "    </tr>\n",
       "    <tr>\n",
       "      <th>4</th>\n",
       "      <td>2.500000</td>\n",
       "      <td>4.865385</td>\n",
       "      <td>34.057692</td>\n",
       "      <td>6.757241</td>\n",
       "      <td>1.613966</td>\n",
       "      <td>0.059663</td>\n",
       "    </tr>\n",
       "    <tr>\n",
       "      <th>...</th>\n",
       "      <td>...</td>\n",
       "      <td>...</td>\n",
       "      <td>...</td>\n",
       "      <td>...</td>\n",
       "      <td>...</td>\n",
       "      <td>...</td>\n",
       "    </tr>\n",
       "    <tr>\n",
       "      <th>85</th>\n",
       "      <td>9.120000</td>\n",
       "      <td>-0.250000</td>\n",
       "      <td>1.300000</td>\n",
       "      <td>4.787200</td>\n",
       "      <td>11.219200</td>\n",
       "      <td>0.000000</td>\n",
       "    </tr>\n",
       "    <tr>\n",
       "      <th>86</th>\n",
       "      <td>8.736000</td>\n",
       "      <td>-0.250000</td>\n",
       "      <td>1.125000</td>\n",
       "      <td>5.068800</td>\n",
       "      <td>12.044800</td>\n",
       "      <td>0.000000</td>\n",
       "    </tr>\n",
       "    <tr>\n",
       "      <th>87</th>\n",
       "      <td>5.579167</td>\n",
       "      <td>0.000000</td>\n",
       "      <td>0.650000</td>\n",
       "      <td>1.845417</td>\n",
       "      <td>6.695000</td>\n",
       "      <td>0.000000</td>\n",
       "    </tr>\n",
       "    <tr>\n",
       "      <th>88</th>\n",
       "      <td>4.935417</td>\n",
       "      <td>0.000000</td>\n",
       "      <td>0.800000</td>\n",
       "      <td>2.288889</td>\n",
       "      <td>7.024028</td>\n",
       "      <td>0.000000</td>\n",
       "    </tr>\n",
       "    <tr>\n",
       "      <th>89</th>\n",
       "      <td>6.437500</td>\n",
       "      <td>0.000000</td>\n",
       "      <td>0.800000</td>\n",
       "      <td>1.945556</td>\n",
       "      <td>7.066944</td>\n",
       "      <td>0.000000</td>\n",
       "    </tr>\n",
       "  </tbody>\n",
       "</table>\n",
       "<p>90 rows × 6 columns</p>\n",
       "</div>"
      ],
      "text/plain": [
       "           C          D          E          F          G         H\n",
       "0   6.000000  11.942308  64.134615  21.498560   5.567840  1.174135\n",
       "1   5.000000   5.484615  63.205769  19.658560   4.968000  1.883444\n",
       "2   3.000000  11.057692  62.586538  19.813120   5.192480  0.564835\n",
       "3   2.500000   3.538462  35.163462   6.876207   1.641724  0.144654\n",
       "4   2.500000   4.865385  34.057692   6.757241   1.613966  0.059663\n",
       "..       ...        ...        ...        ...        ...       ...\n",
       "85  9.120000  -0.250000   1.300000   4.787200  11.219200  0.000000\n",
       "86  8.736000  -0.250000   1.125000   5.068800  12.044800  0.000000\n",
       "87  5.579167   0.000000   0.650000   1.845417   6.695000  0.000000\n",
       "88  4.935417   0.000000   0.800000   2.288889   7.024028  0.000000\n",
       "89  6.437500   0.000000   0.800000   1.945556   7.066944  0.000000\n",
       "\n",
       "[90 rows x 6 columns]"
      ]
     },
     "execution_count": 155,
     "metadata": {},
     "output_type": "execute_result"
    }
   ],
   "source": [
    "del X['Z']\n",
    "X"
   ]
  },
  {
   "cell_type": "markdown",
   "id": "initial-marketplace",
   "metadata": {},
   "source": [
    "## Summary statistics"
   ]
  },
  {
   "cell_type": "code",
   "execution_count": 156,
   "id": "assumed-clearing",
   "metadata": {},
   "outputs": [
    {
     "data": {
      "text/plain": [
       "944.8440833333334"
      ]
     },
     "execution_count": 156,
     "metadata": {},
     "output_type": "execute_result"
    }
   ],
   "source": [
    "X['C'].sum()"
   ]
  },
  {
   "cell_type": "code",
   "execution_count": 157,
   "id": "assumed-bottle",
   "metadata": {},
   "outputs": [
    {
     "data": {
      "text/plain": [
       "C     944.844083\n",
       "D    2108.703756\n",
       "E    2494.273122\n",
       "F    1378.963484\n",
       "G    1442.349382\n",
       "H    1808.462777\n",
       "dtype: float64"
      ]
     },
     "execution_count": 157,
     "metadata": {},
     "output_type": "execute_result"
    }
   ],
   "source": [
    "X.sum()"
   ]
  },
  {
   "cell_type": "code",
   "execution_count": 158,
   "id": "technological-yeast",
   "metadata": {},
   "outputs": [
    {
     "name": "stdout",
     "output_type": "stream",
     "text": [
      "Help on method sum in module pandas.core.generic:\n",
      "\n",
      "sum(axis=None, skipna=None, level=None, numeric_only=None, min_count=0, **kwargs) method of pandas.core.series.Series instance\n",
      "    Return the sum of the values over the requested axis.\n",
      "    \n",
      "    This is equivalent to the method ``numpy.sum``.\n",
      "    \n",
      "    Parameters\n",
      "    ----------\n",
      "    axis : {index (0)}\n",
      "        Axis for the function to be applied on.\n",
      "    skipna : bool, default True\n",
      "        Exclude NA/null values when computing the result.\n",
      "    level : int or level name, default None\n",
      "        If the axis is a MultiIndex (hierarchical), count along a\n",
      "        particular level, collapsing into a scalar.\n",
      "    numeric_only : bool, default None\n",
      "        Include only float, int, boolean columns. If None, will attempt to use\n",
      "        everything, then use only numeric data. Not implemented for Series.\n",
      "    min_count : int, default 0\n",
      "        The required number of valid values to perform the operation. If fewer than\n",
      "        ``min_count`` non-NA values are present the result will be NA.\n",
      "    **kwargs\n",
      "        Additional keyword arguments to be passed to the function.\n",
      "    \n",
      "    Returns\n",
      "    -------\n",
      "    scalar or Series (if level specified)\n",
      "    \n",
      "    See Also\n",
      "    --------\n",
      "    Series.sum : Return the sum.\n",
      "    Series.min : Return the minimum.\n",
      "    Series.max : Return the maximum.\n",
      "    Series.idxmin : Return the index of the minimum.\n",
      "    Series.idxmax : Return the index of the maximum.\n",
      "    DataFrame.sum : Return the sum over the requested axis.\n",
      "    DataFrame.min : Return the minimum over the requested axis.\n",
      "    DataFrame.max : Return the maximum over the requested axis.\n",
      "    DataFrame.idxmin : Return the index of the minimum over the requested axis.\n",
      "    DataFrame.idxmax : Return the index of the maximum over the requested axis.\n",
      "    \n",
      "    Examples\n",
      "    --------\n",
      "    >>> idx = pd.MultiIndex.from_arrays([\n",
      "    ...     ['warm', 'warm', 'cold', 'cold'],\n",
      "    ...     ['dog', 'falcon', 'fish', 'spider']],\n",
      "    ...     names=['blooded', 'animal'])\n",
      "    >>> s = pd.Series([4, 2, 0, 8], name='legs', index=idx)\n",
      "    >>> s\n",
      "    blooded  animal\n",
      "    warm     dog       4\n",
      "             falcon    2\n",
      "    cold     fish      0\n",
      "             spider    8\n",
      "    Name: legs, dtype: int64\n",
      "    \n",
      "    >>> s.sum()\n",
      "    14\n",
      "    \n",
      "    Sum using level names, as well as indices.\n",
      "    \n",
      "    >>> s.sum(level='blooded')\n",
      "    blooded\n",
      "    warm    6\n",
      "    cold    8\n",
      "    Name: legs, dtype: int64\n",
      "    \n",
      "    >>> s.sum(level=0)\n",
      "    blooded\n",
      "    warm    6\n",
      "    cold    8\n",
      "    Name: legs, dtype: int64\n",
      "    \n",
      "    By default, the sum of an empty or all-NA Series is ``0``.\n",
      "    \n",
      "    >>> pd.Series([]).sum()  # min_count=0 is the default\n",
      "    0.0\n",
      "    \n",
      "    This can be controlled with the ``min_count`` parameter. For example, if\n",
      "    you'd like the sum of an empty series to be NaN, pass ``min_count=1``.\n",
      "    \n",
      "    >>> pd.Series([]).sum(min_count=1)\n",
      "    nan\n",
      "    \n",
      "    Thanks to the ``skipna`` parameter, ``min_count`` handles all-NA and\n",
      "    empty series identically.\n",
      "    \n",
      "    >>> pd.Series([np.nan]).sum()\n",
      "    0.0\n",
      "    \n",
      "    >>> pd.Series([np.nan]).sum(min_count=1)\n",
      "    nan\n",
      "\n"
     ]
    }
   ],
   "source": [
    "help(X['C'].sum)"
   ]
  },
  {
   "cell_type": "markdown",
   "id": "pleased-principle",
   "metadata": {},
   "source": [
    "## Find Nan or Nones"
   ]
  },
  {
   "cell_type": "code",
   "execution_count": 159,
   "id": "attractive-premium",
   "metadata": {},
   "outputs": [
    {
     "data": {
      "text/plain": [
       "0    False\n",
       "1    False\n",
       "2    False\n",
       "3    False\n",
       "4    False\n",
       "Name: D, dtype: bool"
      ]
     },
     "execution_count": 159,
     "metadata": {},
     "output_type": "execute_result"
    }
   ],
   "source": [
    "#X['D'].isna().head()\n",
    "X['D'].isnull().head()"
   ]
  },
  {
   "cell_type": "code",
   "execution_count": 160,
   "id": "recorded-rally",
   "metadata": {},
   "outputs": [
    {
     "data": {
      "text/html": [
       "<div>\n",
       "<style scoped>\n",
       "    .dataframe tbody tr th:only-of-type {\n",
       "        vertical-align: middle;\n",
       "    }\n",
       "\n",
       "    .dataframe tbody tr th {\n",
       "        vertical-align: top;\n",
       "    }\n",
       "\n",
       "    .dataframe thead th {\n",
       "        text-align: right;\n",
       "    }\n",
       "</style>\n",
       "<table border=\"1\" class=\"dataframe\">\n",
       "  <thead>\n",
       "    <tr style=\"text-align: right;\">\n",
       "      <th></th>\n",
       "      <th>C</th>\n",
       "      <th>D</th>\n",
       "      <th>E</th>\n",
       "      <th>F</th>\n",
       "      <th>G</th>\n",
       "      <th>H</th>\n",
       "    </tr>\n",
       "  </thead>\n",
       "  <tbody>\n",
       "  </tbody>\n",
       "</table>\n",
       "</div>"
      ],
      "text/plain": [
       "Empty DataFrame\n",
       "Columns: [C, D, E, F, G, H]\n",
       "Index: []"
      ]
     },
     "execution_count": 160,
     "metadata": {},
     "output_type": "execute_result"
    }
   ],
   "source": [
    "is_null_filter = X['D'].isnull()\n",
    "X[is_null_filter]"
   ]
  },
  {
   "cell_type": "code",
   "execution_count": 161,
   "id": "quiet-helicopter",
   "metadata": {},
   "outputs": [
    {
     "data": {
      "text/html": [
       "<div>\n",
       "<style scoped>\n",
       "    .dataframe tbody tr th:only-of-type {\n",
       "        vertical-align: middle;\n",
       "    }\n",
       "\n",
       "    .dataframe tbody tr th {\n",
       "        vertical-align: top;\n",
       "    }\n",
       "\n",
       "    .dataframe thead th {\n",
       "        text-align: right;\n",
       "    }\n",
       "</style>\n",
       "<table border=\"1\" class=\"dataframe\">\n",
       "  <thead>\n",
       "    <tr style=\"text-align: right;\">\n",
       "      <th></th>\n",
       "      <th>C</th>\n",
       "      <th>D</th>\n",
       "      <th>E</th>\n",
       "      <th>F</th>\n",
       "      <th>G</th>\n",
       "      <th>H</th>\n",
       "    </tr>\n",
       "  </thead>\n",
       "  <tbody>\n",
       "    <tr>\n",
       "      <th>0</th>\n",
       "      <td>6.0</td>\n",
       "      <td>11.942308</td>\n",
       "      <td>64.134615</td>\n",
       "      <td>21.498560</td>\n",
       "      <td>5.567840</td>\n",
       "      <td>1.174135</td>\n",
       "    </tr>\n",
       "    <tr>\n",
       "      <th>1</th>\n",
       "      <td>5.0</td>\n",
       "      <td>5.484615</td>\n",
       "      <td>63.205769</td>\n",
       "      <td>19.658560</td>\n",
       "      <td>4.968000</td>\n",
       "      <td>1.883444</td>\n",
       "    </tr>\n",
       "    <tr>\n",
       "      <th>2</th>\n",
       "      <td>3.0</td>\n",
       "      <td>11.057692</td>\n",
       "      <td>62.586538</td>\n",
       "      <td>19.813120</td>\n",
       "      <td>5.192480</td>\n",
       "      <td>0.564835</td>\n",
       "    </tr>\n",
       "    <tr>\n",
       "      <th>3</th>\n",
       "      <td>2.5</td>\n",
       "      <td>3.538462</td>\n",
       "      <td>35.163462</td>\n",
       "      <td>6.876207</td>\n",
       "      <td>1.641724</td>\n",
       "      <td>0.144654</td>\n",
       "    </tr>\n",
       "    <tr>\n",
       "      <th>4</th>\n",
       "      <td>2.5</td>\n",
       "      <td>4.865385</td>\n",
       "      <td>34.057692</td>\n",
       "      <td>6.757241</td>\n",
       "      <td>1.613966</td>\n",
       "      <td>0.059663</td>\n",
       "    </tr>\n",
       "    <tr>\n",
       "      <th>5</th>\n",
       "      <td>2.5</td>\n",
       "      <td>3.980769</td>\n",
       "      <td>33.615385</td>\n",
       "      <td>6.773103</td>\n",
       "      <td>1.776552</td>\n",
       "      <td>0.075509</td>\n",
       "    </tr>\n",
       "    <tr>\n",
       "      <th>6</th>\n",
       "      <td>1.5</td>\n",
       "      <td>2.200000</td>\n",
       "      <td>18.355769</td>\n",
       "      <td>2.798333</td>\n",
       "      <td>0.563500</td>\n",
       "      <td>0.030383</td>\n",
       "    </tr>\n",
       "    <tr>\n",
       "      <th>7</th>\n",
       "      <td>1.5</td>\n",
       "      <td>2.200000</td>\n",
       "      <td>17.250000</td>\n",
       "      <td>2.629667</td>\n",
       "      <td>0.854833</td>\n",
       "      <td>0.000000</td>\n",
       "    </tr>\n",
       "    <tr>\n",
       "      <th>8</th>\n",
       "      <td>1.5</td>\n",
       "      <td>3.100000</td>\n",
       "      <td>17.471154</td>\n",
       "      <td>2.645000</td>\n",
       "      <td>0.624833</td>\n",
       "      <td>0.000000</td>\n",
       "    </tr>\n",
       "    <tr>\n",
       "      <th>9</th>\n",
       "      <td>0.0</td>\n",
       "      <td>1.769231</td>\n",
       "      <td>9.730769</td>\n",
       "      <td>1.114062</td>\n",
       "      <td>0.495937</td>\n",
       "      <td>0.000000</td>\n",
       "    </tr>\n",
       "  </tbody>\n",
       "</table>\n",
       "</div>"
      ],
      "text/plain": [
       "     C          D          E          F         G         H\n",
       "0  6.0  11.942308  64.134615  21.498560  5.567840  1.174135\n",
       "1  5.0   5.484615  63.205769  19.658560  4.968000  1.883444\n",
       "2  3.0  11.057692  62.586538  19.813120  5.192480  0.564835\n",
       "3  2.5   3.538462  35.163462   6.876207  1.641724  0.144654\n",
       "4  2.5   4.865385  34.057692   6.757241  1.613966  0.059663\n",
       "5  2.5   3.980769  33.615385   6.773103  1.776552  0.075509\n",
       "6  1.5   2.200000  18.355769   2.798333  0.563500  0.030383\n",
       "7  1.5   2.200000  17.250000   2.629667  0.854833  0.000000\n",
       "8  1.5   3.100000  17.471154   2.645000  0.624833  0.000000\n",
       "9  0.0   1.769231   9.730769   1.114062  0.495937  0.000000"
      ]
     },
     "execution_count": 161,
     "metadata": {},
     "output_type": "execute_result"
    }
   ],
   "source": [
    "# the filter can also be negated\n",
    "X[~is_null_filter].head(10)"
   ]
  },
  {
   "cell_type": "markdown",
   "id": "digital-factory",
   "metadata": {},
   "source": [
    "Count the number of *null* values"
   ]
  },
  {
   "cell_type": "code",
   "execution_count": 162,
   "id": "vocal-plain",
   "metadata": {},
   "outputs": [
    {
     "data": {
      "text/plain": [
       "0"
      ]
     },
     "execution_count": 162,
     "metadata": {},
     "output_type": "execute_result"
    }
   ],
   "source": [
    "is_null_filter.sum()"
   ]
  },
  {
   "cell_type": "markdown",
   "id": "light-forth",
   "metadata": {},
   "source": [
    "## Remove or fill in data"
   ]
  },
  {
   "cell_type": "code",
   "execution_count": 163,
   "id": "passing-sampling",
   "metadata": {},
   "outputs": [
    {
     "name": "stdout",
     "output_type": "stream",
     "text": [
      "<class 'pandas.core.frame.DataFrame'>\n",
      "RangeIndex: 90 entries, 0 to 89\n",
      "Data columns (total 6 columns):\n",
      " #   Column  Non-Null Count  Dtype  \n",
      "---  ------  --------------  -----  \n",
      " 0   C       90 non-null     float64\n",
      " 1   D       90 non-null     float64\n",
      " 2   E       90 non-null     float64\n",
      " 3   F       90 non-null     float64\n",
      " 4   G       90 non-null     float64\n",
      " 5   H       90 non-null     float64\n",
      "dtypes: float64(6)\n",
      "memory usage: 4.3 KB\n"
     ]
    }
   ],
   "source": [
    "X.info()"
   ]
  },
  {
   "cell_type": "code",
   "execution_count": 164,
   "id": "lesser-connectivity",
   "metadata": {
    "scrolled": true
   },
   "outputs": [
    {
     "data": {
      "text/html": [
       "<div>\n",
       "<style scoped>\n",
       "    .dataframe tbody tr th:only-of-type {\n",
       "        vertical-align: middle;\n",
       "    }\n",
       "\n",
       "    .dataframe tbody tr th {\n",
       "        vertical-align: top;\n",
       "    }\n",
       "\n",
       "    .dataframe thead th {\n",
       "        text-align: right;\n",
       "    }\n",
       "</style>\n",
       "<table border=\"1\" class=\"dataframe\">\n",
       "  <thead>\n",
       "    <tr style=\"text-align: right;\">\n",
       "      <th></th>\n",
       "      <th>C</th>\n",
       "      <th>D</th>\n",
       "      <th>E</th>\n",
       "      <th>F</th>\n",
       "      <th>G</th>\n",
       "      <th>H</th>\n",
       "    </tr>\n",
       "  </thead>\n",
       "  <tbody>\n",
       "    <tr>\n",
       "      <th>10</th>\n",
       "      <td>0.50</td>\n",
       "      <td>2.653846</td>\n",
       "      <td>10.615385</td>\n",
       "      <td>1.078125</td>\n",
       "      <td>0.452813</td>\n",
       "      <td>0.000000</td>\n",
       "    </tr>\n",
       "    <tr>\n",
       "      <th>11</th>\n",
       "      <td>0.25</td>\n",
       "      <td>2.653846</td>\n",
       "      <td>8.846154</td>\n",
       "      <td>0.424063</td>\n",
       "      <td>0.115000</td>\n",
       "      <td>0.000000</td>\n",
       "    </tr>\n",
       "    <tr>\n",
       "      <th>12</th>\n",
       "      <td>0.00</td>\n",
       "      <td>0.442308</td>\n",
       "      <td>2.432692</td>\n",
       "      <td>0.651667</td>\n",
       "      <td>0.529000</td>\n",
       "      <td>0.000000</td>\n",
       "    </tr>\n",
       "    <tr>\n",
       "      <th>13</th>\n",
       "      <td>0.00</td>\n",
       "      <td>0.884615</td>\n",
       "      <td>3.671154</td>\n",
       "      <td>0.406333</td>\n",
       "      <td>0.348833</td>\n",
       "      <td>0.000000</td>\n",
       "    </tr>\n",
       "    <tr>\n",
       "      <th>14</th>\n",
       "      <td>0.00</td>\n",
       "      <td>1.326923</td>\n",
       "      <td>3.759615</td>\n",
       "      <td>0.329667</td>\n",
       "      <td>0.253000</td>\n",
       "      <td>0.000000</td>\n",
       "    </tr>\n",
       "    <tr>\n",
       "      <th>15</th>\n",
       "      <td>0.00</td>\n",
       "      <td>0.000000</td>\n",
       "      <td>1.107692</td>\n",
       "      <td>0.132324</td>\n",
       "      <td>0.144000</td>\n",
       "      <td>0.000000</td>\n",
       "    </tr>\n",
       "    <tr>\n",
       "      <th>16</th>\n",
       "      <td>0.00</td>\n",
       "      <td>0.000000</td>\n",
       "      <td>1.329231</td>\n",
       "      <td>-0.062270</td>\n",
       "      <td>0.054486</td>\n",
       "      <td>0.000000</td>\n",
       "    </tr>\n",
       "    <tr>\n",
       "      <th>17</th>\n",
       "      <td>0.00</td>\n",
       "      <td>0.000000</td>\n",
       "      <td>1.506462</td>\n",
       "      <td>0.350270</td>\n",
       "      <td>0.548757</td>\n",
       "      <td>0.000000</td>\n",
       "    </tr>\n",
       "    <tr>\n",
       "      <th>18</th>\n",
       "      <td>25.00</td>\n",
       "      <td>96.000000</td>\n",
       "      <td>142.500000</td>\n",
       "      <td>69.529091</td>\n",
       "      <td>38.951818</td>\n",
       "      <td>35.426599</td>\n",
       "    </tr>\n",
       "    <tr>\n",
       "      <th>19</th>\n",
       "      <td>30.20</td>\n",
       "      <td>129.000000</td>\n",
       "      <td>142.000000</td>\n",
       "      <td>65.558182</td>\n",
       "      <td>39.282727</td>\n",
       "      <td>35.482343</td>\n",
       "    </tr>\n",
       "  </tbody>\n",
       "</table>\n",
       "</div>"
      ],
      "text/plain": [
       "        C           D           E          F          G          H\n",
       "10   0.50    2.653846   10.615385   1.078125   0.452813   0.000000\n",
       "11   0.25    2.653846    8.846154   0.424063   0.115000   0.000000\n",
       "12   0.00    0.442308    2.432692   0.651667   0.529000   0.000000\n",
       "13   0.00    0.884615    3.671154   0.406333   0.348833   0.000000\n",
       "14   0.00    1.326923    3.759615   0.329667   0.253000   0.000000\n",
       "15   0.00    0.000000    1.107692   0.132324   0.144000   0.000000\n",
       "16   0.00    0.000000    1.329231  -0.062270   0.054486   0.000000\n",
       "17   0.00    0.000000    1.506462   0.350270   0.548757   0.000000\n",
       "18  25.00   96.000000  142.500000  69.529091  38.951818  35.426599\n",
       "19  30.20  129.000000  142.000000  65.558182  39.282727  35.482343"
      ]
     },
     "execution_count": 164,
     "metadata": {},
     "output_type": "execute_result"
    }
   ],
   "source": [
    "# Remove missing values\n",
    "# any means any NaNs\n",
    "X[10:20].dropna(how = 'any').head(15)"
   ]
  },
  {
   "cell_type": "markdown",
   "id": "changed-martial",
   "metadata": {},
   "source": [
    "### Fill Nan with zeros"
   ]
  },
  {
   "cell_type": "code",
   "execution_count": 165,
   "id": "compliant-integration",
   "metadata": {},
   "outputs": [
    {
     "data": {
      "text/plain": [
       "0    11.942308\n",
       "1     5.484615\n",
       "2    11.057692\n",
       "3     3.538462\n",
       "4     4.865385\n",
       "Name: D, dtype: float64"
      ]
     },
     "execution_count": 165,
     "metadata": {},
     "output_type": "execute_result"
    }
   ],
   "source": [
    "# fills any NaN with a zero\n",
    "X['D'].fillna(0).head()"
   ]
  },
  {
   "cell_type": "markdown",
   "id": "interior-delta",
   "metadata": {},
   "source": [
    "### backfill & forfill Nan values"
   ]
  },
  {
   "cell_type": "code",
   "execution_count": 166,
   "id": "tutorial-perfume",
   "metadata": {},
   "outputs": [
    {
     "data": {
      "text/plain": [
       "0    11.942308\n",
       "1     5.484615\n",
       "2    11.057692\n",
       "3     3.538462\n",
       "4     4.865385\n",
       "Name: D, dtype: float64"
      ]
     },
     "execution_count": 166,
     "metadata": {},
     "output_type": "execute_result"
    }
   ],
   "source": [
    "# fill the NaN value with the previous value\n",
    "X['D'].fillna(method='bfill').head()"
   ]
  },
  {
   "cell_type": "code",
   "execution_count": 167,
   "id": "digital-scale",
   "metadata": {},
   "outputs": [
    {
     "data": {
      "text/plain": [
       "0    11.942308\n",
       "1     5.484615\n",
       "2    11.057692\n",
       "3     3.538462\n",
       "4     4.865385\n",
       "Name: D, dtype: float64"
      ]
     },
     "execution_count": 167,
     "metadata": {},
     "output_type": "execute_result"
    }
   ],
   "source": [
    "X['D'].fillna(method='ffill').head()"
   ]
  },
  {
   "cell_type": "code",
   "execution_count": 168,
   "id": "suspended-rugby",
   "metadata": {},
   "outputs": [
    {
     "data": {
      "text/plain": [
       "0    False\n",
       "1    False\n",
       "2    False\n",
       "3    False\n",
       "4    False\n",
       "5     True\n",
       "6    False\n",
       "7    False\n",
       "8    False\n",
       "9    False\n",
       "Name: D, dtype: bool"
      ]
     },
     "execution_count": 168,
     "metadata": {},
     "output_type": "execute_result"
    }
   ],
   "source": [
    "X['D'].loc[5]=None\n",
    "X['D'].isna().head(10)"
   ]
  },
  {
   "cell_type": "markdown",
   "id": "unknown-panel",
   "metadata": {},
   "source": [
    "### Fill in by linear interpolation"
   ]
  },
  {
   "cell_type": "code",
   "execution_count": 169,
   "id": "third-distance",
   "metadata": {},
   "outputs": [
    {
     "data": {
      "text/plain": [
       "0    11.942308\n",
       "1     5.484615\n",
       "2    11.057692\n",
       "3     3.538462\n",
       "4     4.865385\n",
       "5          NaN\n",
       "6     2.200000\n",
       "7     2.200000\n",
       "8     3.100000\n",
       "9     1.769231\n",
       "Name: D, dtype: float64"
      ]
     },
     "execution_count": 169,
     "metadata": {},
     "output_type": "execute_result"
    }
   ],
   "source": [
    "X['D'].head(10)"
   ]
  },
  {
   "cell_type": "code",
   "execution_count": 170,
   "id": "actual-kelly",
   "metadata": {},
   "outputs": [
    {
     "data": {
      "text/plain": [
       "0    11.942308\n",
       "1     5.484615\n",
       "2    11.057692\n",
       "3     3.538462\n",
       "4     4.865385\n",
       "5     3.532692\n",
       "6     2.200000\n",
       "7     2.200000\n",
       "8     3.100000\n",
       "9     1.769231\n",
       "Name: D, dtype: float64"
      ]
     },
     "execution_count": 170,
     "metadata": {},
     "output_type": "execute_result"
    }
   ],
   "source": [
    "X['D'].interpolate(method = 'linear').head(10)"
   ]
  },
  {
   "cell_type": "code",
   "execution_count": 171,
   "id": "formal-straight",
   "metadata": {},
   "outputs": [
    {
     "data": {
      "text/plain": [
       "2104.722986894656"
      ]
     },
     "execution_count": 171,
     "metadata": {},
     "output_type": "execute_result"
    }
   ],
   "source": [
    "X['D'].sum()"
   ]
  },
  {
   "cell_type": "markdown",
   "id": "finished-pressure",
   "metadata": {},
   "source": [
    "### Fill in a specific value where there is a Nan"
   ]
  },
  {
   "cell_type": "code",
   "execution_count": 172,
   "id": "adapted-valentine",
   "metadata": {},
   "outputs": [
    {
     "data": {
      "text/html": [
       "<div>\n",
       "<style scoped>\n",
       "    .dataframe tbody tr th:only-of-type {\n",
       "        vertical-align: middle;\n",
       "    }\n",
       "\n",
       "    .dataframe tbody tr th {\n",
       "        vertical-align: top;\n",
       "    }\n",
       "\n",
       "    .dataframe thead th {\n",
       "        text-align: right;\n",
       "    }\n",
       "</style>\n",
       "<table border=\"1\" class=\"dataframe\">\n",
       "  <thead>\n",
       "    <tr style=\"text-align: right;\">\n",
       "      <th></th>\n",
       "      <th>C</th>\n",
       "      <th>D</th>\n",
       "      <th>E</th>\n",
       "      <th>F</th>\n",
       "      <th>G</th>\n",
       "      <th>H</th>\n",
       "    </tr>\n",
       "  </thead>\n",
       "  <tbody>\n",
       "    <tr>\n",
       "      <th>5</th>\n",
       "      <td>2.5</td>\n",
       "      <td>NaN</td>\n",
       "      <td>33.615385</td>\n",
       "      <td>6.773103</td>\n",
       "      <td>1.776552</td>\n",
       "      <td>0.075509</td>\n",
       "    </tr>\n",
       "  </tbody>\n",
       "</table>\n",
       "</div>"
      ],
      "text/plain": [
       "     C   D          E         F         G         H\n",
       "5  2.5 NaN  33.615385  6.773103  1.776552  0.075509"
      ]
     },
     "execution_count": 172,
     "metadata": {},
     "output_type": "execute_result"
    }
   ],
   "source": [
    "is_null_filter = X['D'].isnull()\n",
    "X[is_null_filter]"
   ]
  },
  {
   "cell_type": "code",
   "execution_count": 173,
   "id": "south-riverside",
   "metadata": {},
   "outputs": [
    {
     "data": {
      "text/html": [
       "<div>\n",
       "<style scoped>\n",
       "    .dataframe tbody tr th:only-of-type {\n",
       "        vertical-align: middle;\n",
       "    }\n",
       "\n",
       "    .dataframe tbody tr th {\n",
       "        vertical-align: top;\n",
       "    }\n",
       "\n",
       "    .dataframe thead th {\n",
       "        text-align: right;\n",
       "    }\n",
       "</style>\n",
       "<table border=\"1\" class=\"dataframe\">\n",
       "  <thead>\n",
       "    <tr style=\"text-align: right;\">\n",
       "      <th></th>\n",
       "      <th>C</th>\n",
       "      <th>D</th>\n",
       "      <th>E</th>\n",
       "      <th>F</th>\n",
       "      <th>G</th>\n",
       "      <th>H</th>\n",
       "    </tr>\n",
       "  </thead>\n",
       "  <tbody>\n",
       "    <tr>\n",
       "      <th>0</th>\n",
       "      <td>6.0</td>\n",
       "      <td>11.942308</td>\n",
       "      <td>64.134615</td>\n",
       "      <td>21.498560</td>\n",
       "      <td>5.567840</td>\n",
       "      <td>1.174135</td>\n",
       "    </tr>\n",
       "    <tr>\n",
       "      <th>1</th>\n",
       "      <td>5.0</td>\n",
       "      <td>5.484615</td>\n",
       "      <td>63.205769</td>\n",
       "      <td>19.658560</td>\n",
       "      <td>4.968000</td>\n",
       "      <td>1.883444</td>\n",
       "    </tr>\n",
       "    <tr>\n",
       "      <th>2</th>\n",
       "      <td>3.0</td>\n",
       "      <td>11.057692</td>\n",
       "      <td>62.586538</td>\n",
       "      <td>19.813120</td>\n",
       "      <td>5.192480</td>\n",
       "      <td>0.564835</td>\n",
       "    </tr>\n",
       "    <tr>\n",
       "      <th>3</th>\n",
       "      <td>2.5</td>\n",
       "      <td>3.538462</td>\n",
       "      <td>35.163462</td>\n",
       "      <td>6.876207</td>\n",
       "      <td>1.641724</td>\n",
       "      <td>0.144654</td>\n",
       "    </tr>\n",
       "    <tr>\n",
       "      <th>4</th>\n",
       "      <td>2.5</td>\n",
       "      <td>4.865385</td>\n",
       "      <td>34.057692</td>\n",
       "      <td>6.757241</td>\n",
       "      <td>1.613966</td>\n",
       "      <td>0.059663</td>\n",
       "    </tr>\n",
       "    <tr>\n",
       "      <th>5</th>\n",
       "      <td>2.5</td>\n",
       "      <td>90.000000</td>\n",
       "      <td>33.615385</td>\n",
       "      <td>6.773103</td>\n",
       "      <td>1.776552</td>\n",
       "      <td>0.075509</td>\n",
       "    </tr>\n",
       "    <tr>\n",
       "      <th>6</th>\n",
       "      <td>1.5</td>\n",
       "      <td>2.200000</td>\n",
       "      <td>18.355769</td>\n",
       "      <td>2.798333</td>\n",
       "      <td>0.563500</td>\n",
       "      <td>0.030383</td>\n",
       "    </tr>\n",
       "    <tr>\n",
       "      <th>7</th>\n",
       "      <td>1.5</td>\n",
       "      <td>2.200000</td>\n",
       "      <td>17.250000</td>\n",
       "      <td>2.629667</td>\n",
       "      <td>0.854833</td>\n",
       "      <td>0.000000</td>\n",
       "    </tr>\n",
       "    <tr>\n",
       "      <th>8</th>\n",
       "      <td>1.5</td>\n",
       "      <td>3.100000</td>\n",
       "      <td>17.471154</td>\n",
       "      <td>2.645000</td>\n",
       "      <td>0.624833</td>\n",
       "      <td>0.000000</td>\n",
       "    </tr>\n",
       "    <tr>\n",
       "      <th>9</th>\n",
       "      <td>0.0</td>\n",
       "      <td>1.769231</td>\n",
       "      <td>9.730769</td>\n",
       "      <td>1.114062</td>\n",
       "      <td>0.495937</td>\n",
       "      <td>0.000000</td>\n",
       "    </tr>\n",
       "  </tbody>\n",
       "</table>\n",
       "</div>"
      ],
      "text/plain": [
       "     C          D          E          F         G         H\n",
       "0  6.0  11.942308  64.134615  21.498560  5.567840  1.174135\n",
       "1  5.0   5.484615  63.205769  19.658560  4.968000  1.883444\n",
       "2  3.0  11.057692  62.586538  19.813120  5.192480  0.564835\n",
       "3  2.5   3.538462  35.163462   6.876207  1.641724  0.144654\n",
       "4  2.5   4.865385  34.057692   6.757241  1.613966  0.059663\n",
       "5  2.5  90.000000  33.615385   6.773103  1.776552  0.075509\n",
       "6  1.5   2.200000  18.355769   2.798333  0.563500  0.030383\n",
       "7  1.5   2.200000  17.250000   2.629667  0.854833  0.000000\n",
       "8  1.5   3.100000  17.471154   2.645000  0.624833  0.000000\n",
       "9  0.0   1.769231   9.730769   1.114062  0.495937  0.000000"
      ]
     },
     "execution_count": 173,
     "metadata": {},
     "output_type": "execute_result"
    }
   ],
   "source": [
    "X.loc[is_null_filter, 'D'] = 90 \n",
    "X.head(10)"
   ]
  },
  {
   "cell_type": "code",
   "execution_count": 174,
   "id": "steady-lawsuit",
   "metadata": {},
   "outputs": [],
   "source": [
    "# you can alway use .sum() to check if the Nan values were filled out!"
   ]
  },
  {
   "cell_type": "markdown",
   "id": "blessed-gamma",
   "metadata": {},
   "source": [
    "# 2. Matplotlib"
   ]
  },
  {
   "cell_type": "code",
   "execution_count": 175,
   "id": "polish-tower",
   "metadata": {},
   "outputs": [],
   "source": [
    "# import matplotlib inline\n",
    "%matplotlib inline\n",
    "import matplotlib.pyplot as plt\n",
    "import seaborn as sns"
   ]
  },
  {
   "cell_type": "code",
   "execution_count": 176,
   "id": "attached-antibody",
   "metadata": {},
   "outputs": [
    {
     "name": "stdout",
     "output_type": "stream",
     "text": [
      "Good job!\n",
      "\ty and X have same dimensions!\n",
      "----------------------------------------\n",
      "Nanonose Data Succesfully Loaded\n",
      "Run %whos to view all imported variables\n"
     ]
    }
   ],
   "source": [
    "# import data\n",
    "%run Load_nanonose.ipynb"
   ]
  },
  {
   "cell_type": "code",
   "execution_count": 177,
   "id": "thermal-effectiveness",
   "metadata": {},
   "outputs": [
    {
     "data": {
      "text/plain": [
       "[<matplotlib.lines.Line2D at 0x7fdd96a00760>]"
      ]
     },
     "execution_count": 177,
     "metadata": {},
     "output_type": "execute_result"
    },
    {
     "data": {
      "image/png": "[encoded data removed]",
      "text/plain": [
       "<Figure size 432x288 with 1 Axes>"
      ]
     },
     "metadata": {
      "needs_background": "light"
     },
     "output_type": "display_data"
    }
   ],
   "source": [
    "plt.plot(X['A'], X['B'])\n",
    "plt.plot(X['B'], X['D'])"
   ]
  },
  {
   "cell_type": "markdown",
   "id": "equal-springfield",
   "metadata": {},
   "source": [
    "## matplotlib styles\n",
    "To make the graph more estaetically pleasing"
   ]
  },
  {
   "cell_type": "code",
   "execution_count": 178,
   "id": "wrapped-advisory",
   "metadata": {},
   "outputs": [
    {
     "data": {
      "text/plain": [
       "['Solarize_Light2',\n",
       " '_classic_test_patch',\n",
       " 'bmh',\n",
       " 'classic',\n",
       " 'dark_background',\n",
       " 'fast',\n",
       " 'fivethirtyeight',\n",
       " 'ggplot',\n",
       " 'grayscale',\n",
       " 'seaborn',\n",
       " 'seaborn-bright',\n",
       " 'seaborn-colorblind',\n",
       " 'seaborn-dark',\n",
       " 'seaborn-dark-palette',\n",
       " 'seaborn-darkgrid',\n",
       " 'seaborn-deep',\n",
       " 'seaborn-muted',\n",
       " 'seaborn-notebook',\n",
       " 'seaborn-paper',\n",
       " 'seaborn-pastel',\n",
       " 'seaborn-poster',\n",
       " 'seaborn-talk',\n",
       " 'seaborn-ticks',\n",
       " 'seaborn-white',\n",
       " 'seaborn-whitegrid',\n",
       " 'tableau-colorblind10']"
      ]
     },
     "execution_count": 178,
     "metadata": {},
     "output_type": "execute_result"
    }
   ],
   "source": [
    "plt.style.available"
   ]
  },
  {
   "cell_type": "code",
   "execution_count": 179,
   "id": "responsible-substance",
   "metadata": {},
   "outputs": [
    {
     "data": {
      "text/plain": [
       "[<matplotlib.lines.Line2D at 0x7fdd914cb0d0>]"
      ]
     },
     "execution_count": 179,
     "metadata": {},
     "output_type": "execute_result"
    },
    {
     "data": {
      "image/png": "[encoded data removed]",
      "text/plain": [
       "<Figure size 432x288 with 1 Axes>"
      ]
     },
     "metadata": {},
     "output_type": "display_data"
    }
   ],
   "source": [
    "plt.style.use('ggplot')\n",
    "plt.plot(X['A'], X['B'])\n",
    "plt.plot(X['B'], X['D'])"
   ]
  },
  {
   "cell_type": "markdown",
   "id": "utility-indonesian",
   "metadata": {},
   "source": [
    "## Markerstyle"
   ]
  },
  {
   "cell_type": "code",
   "execution_count": 180,
   "id": "personal-travel",
   "metadata": {},
   "outputs": [
    {
     "data": {
      "text/plain": [
       "[<matplotlib.lines.Line2D at 0x7fdd96958a00>]"
      ]
     },
     "execution_count": 180,
     "metadata": {},
     "output_type": "execute_result"
    },
    {
     "data": {
      "image/png": "[encoded data removed]",
      "text/plain": [
       "<Figure size 432x288 with 1 Axes>"
      ]
     },
     "metadata": {},
     "output_type": "display_data"
    }
   ],
   "source": [
    "plt.plot(X['A'], X['B'], marker = '.', markersize = 10)\n",
    "plt.plot(X['B'], X['D'], '--o')"
   ]
  },
  {
   "cell_type": "markdown",
   "id": "turkish-chapel",
   "metadata": {},
   "source": [
    "## Object-oriented style"
   ]
  },
  {
   "cell_type": "code",
   "execution_count": 181,
   "id": "muslim-sitting",
   "metadata": {},
   "outputs": [],
   "source": [
    "# tuple unpacking\n",
    "a, b = (3,9)"
   ]
  },
  {
   "cell_type": "code",
   "execution_count": 182,
   "id": "alternative-messenger",
   "metadata": {},
   "outputs": [
    {
     "data": {
      "text/plain": [
       "Text(0, 0.5, 'Column 2')"
      ]
     },
     "execution_count": 182,
     "metadata": {},
     "output_type": "execute_result"
    },
    {
     "data": {
      "image/png": "[encoded data removed]",
      "text/plain": [
       "<Figure size 432x288 with 1 Axes>"
      ]
     },
     "metadata": {},
     "output_type": "display_data"
    }
   ],
   "source": [
    "fig, axes = plt.subplots(nrows = 1, ncols = 1)# returns a tuple\n",
    "axes.plot(X['A'], X['B'], marker = '.', markersize = 10, label = 'A vs. B')\n",
    "axes.plot(X['B'], X['D'], '--o',  label = 'A vs. B')\n",
    "axes.set_xlabel('Column 1', size = 14)\n",
    "axes.set_ylabel('Column 2', fontsize = 14)"
   ]
  },
  {
   "cell_type": "markdown",
   "id": "according-homeless",
   "metadata": {},
   "source": [
    "## MATLAB-style\n",
    "* title\n",
    "* fontsizes\n",
    "* xticks\n",
    "* grid lines"
   ]
  },
  {
   "cell_type": "code",
   "execution_count": 183,
   "id": "forward-furniture",
   "metadata": {},
   "outputs": [
    {
     "data": {
      "text/plain": [
       "Text(0.5, 1.0, 'this is title')"
      ]
     },
     "execution_count": 183,
     "metadata": {},
     "output_type": "execute_result"
    },
    {
     "data": {
      "image/png": "[encoded data removed]",
      "text/plain": [
       "<Figure size 576x396 with 1 Axes>"
      ]
     },
     "metadata": {},
     "output_type": "display_data"
    }
   ],
   "source": [
    "plt.style.use('seaborn')\n",
    "plt.plot(X['A'], X['B'], marker = '.', markersize = 10)\n",
    "plt.plot(X['B'], X['D'], '--o')\n",
    "plt.title('this is title', fontsize = 24)"
   ]
  },
  {
   "cell_type": "markdown",
   "id": "thermal-words",
   "metadata": {},
   "source": [
    "## Saving a plot\n",
    "### object-oriented\n",
    "* plt.savefig()\n",
    "* plt.tight_layout() (automatically adjusts subplots paramters to fit into figure area)\n",
    "\n",
    "### Matlab-style\n",
    "* fig.savefig()\n",
    "* fig.tight_layout()"
   ]
  },
  {
   "cell_type": "code",
   "execution_count": 184,
   "id": "interesting-landscape",
   "metadata": {},
   "outputs": [
    {
     "ename": "SyntaxError",
     "evalue": "invalid syntax (<ipython-input-184-bd84c4d0d762>, line 7)",
     "output_type": "error",
     "traceback": [
      "\u001b[0;36m  File \u001b[0;32m\"<ipython-input-184-bd84c4d0d762>\"\u001b[0;36m, line \u001b[0;32m7\u001b[0m\n\u001b[0;31m    fig.savefig('cols_vs_cols.png', dpi = )\u001b[0m\n\u001b[0m                                          ^\u001b[0m\n\u001b[0;31mSyntaxError\u001b[0m\u001b[0;31m:\u001b[0m invalid syntax\n"
     ]
    }
   ],
   "source": [
    "# Matlab-style\n",
    "fig, axes = plt.subplots(nrows = 1, ncols = 1)# returns a tuple\n",
    "axes.plot(X['A'], X['B'], marker = '.', markersize = 10, label = 'A vs. B')\n",
    "axes.plot(X['B'], X['D'], '--o',  label = 'A vs. B')\n",
    "axes.set_xlabel('Column 1', size = 14)\n",
    "axes.set_ylabel('Column 2', fontsize = 14)\n",
    "fig.savefig('cols_vs_cols.png', dpi = )"
   ]
  },
  {
   "cell_type": "code",
   "execution_count": null,
   "id": "functional-celebrity",
   "metadata": {},
   "outputs": [],
   "source": [
    "# Object-oriented\n",
    "# Make the plot\n",
    "dpi = 300\n",
    "plt.tight_layout() #shoudl be used!\n",
    "plt.savefig('nanonose_boxplot_dpi_{}.png'.format(dpi), dpi = dpi)"
   ]
  },
  {
   "cell_type": "markdown",
   "id": "united-wrestling",
   "metadata": {},
   "source": [
    "## Matplotlib wrappers"
   ]
  },
  {
   "cell_type": "markdown",
   "id": "assumed-greene",
   "metadata": {},
   "source": [
    "### Boxplot - matplotlib"
   ]
  },
  {
   "cell_type": "code",
   "execution_count": null,
   "id": "capable-croatia",
   "metadata": {},
   "outputs": [],
   "source": [
    "Xdict = {}\n",
    "for n,className in enumerate(classNames['class']):\n",
    "    Xdict[className] = X[y['class'] == className]\n",
    "Xdict['Ethanol'].head()"
   ]
  },
  {
   "cell_type": "markdown",
   "id": "ultimate-venice",
   "metadata": {},
   "source": [
    "### Boxplot - pandas\n",
    "Requires that the data is all in the same dataframe aka the command y.join(X)"
   ]
  },
  {
   "cell_type": "code",
   "execution_count": null,
   "id": "therapeutic-salad",
   "metadata": {},
   "outputs": [],
   "source": [
    "y.join(X).boxplot(column = 'A', by = 'class')\n",
    "# to remove titles\n",
    "plt.title('')\n",
    "plt.suptitle('')"
   ]
  },
  {
   "cell_type": "code",
   "execution_count": null,
   "id": "flush-swiss",
   "metadata": {},
   "outputs": [],
   "source": [
    "plt.boxplot([Xdict['Water']['A'].values, Xdict['Ethanol']['A'].values], labels = ['Water', 'Ethanol'])"
   ]
  },
  {
   "cell_type": "code",
   "execution_count": null,
   "id": "amateur-salad",
   "metadata": {},
   "outputs": [],
   "source": [
    "plt.boxplot(Xdict['Water']['A'].values)\n",
    "plt.boxplot(Xdict['Ethanol']['A'].values)"
   ]
  },
  {
   "cell_type": "markdown",
   "id": "personalized-queen",
   "metadata": {},
   "source": [
    "### Seaborn - boxplot\n",
    "Requires that the data is all in the same dataframe aka the command y.join(X)"
   ]
  },
  {
   "cell_type": "code",
   "execution_count": null,
   "id": "nuclear-escape",
   "metadata": {},
   "outputs": [],
   "source": [
    "sns.boxplot(x = 'class', y = 'A', data = y.join(X))"
   ]
  },
  {
   "cell_type": "markdown",
   "id": "utility-bracelet",
   "metadata": {},
   "source": [
    "# 6. Heatmaps\n",
    "\n",
    "Using the Zip Code data\n",
    "\n",
    "* %matplot inline\n"
   ]
  },
  {
   "cell_type": "code",
   "execution_count": 264,
   "id": "novel-fleece",
   "metadata": {
    "scrolled": false
   },
   "outputs": [
    {
     "data": {
      "image/png": "[encoded data removed]",
      "text/plain": [
       "<Figure size 576x396 with 1 Axes>"
      ]
     },
     "metadata": {},
     "output_type": "display_data"
    },
    {
     "name": "stdout",
     "output_type": "stream",
     "text": [
      "Variable               Type           Data/Info\n",
      "-----------------------------------------------\n",
      "C                      int            5\n",
      "KNeighborsClassifier   ABCMeta        <class 'sklearn.neighbors<...>on.KNeighborsClassifier'>\n",
      "M                      int            256\n",
      "M_train                int            256\n",
      "Mtest                  int            256\n",
      "N                      int            2007\n",
      "N_test                 int            2007\n",
      "N_train                int            7291\n",
      "X                      DataFrame               A          B    <...>\\n\\n[90 rows x 8 columns]\n",
      "X_heatmap              ndarray        16x16: 256 elems, type `float64`, 2048 bytes\n",
      "X_test                 DataFrame            pixel1  pixel2  pix<...>[2007 rows x 256 columns]\n",
      "X_train                DataFrame            pixel1  pixel2  pix<...>[7291 rows x 256 columns]\n",
      "Xdict                  dict           n=5\n",
      "a                      int            3\n",
      "attributeNames         list           n=8\n",
      "axes                   AxesSubplot    AxesSubplot(0.125,0.125;0.775x0.755)\n",
      "b                      int            9\n",
      "bar                    function       <function bar at 0x7fddc4429430>\n",
      "basename               function       <function basename at 0x7fddbfa3db80>\n",
      "classDict              dict           n=5\n",
      "className              str            Pentanol\n",
      "classNames             DataFrame            class\\n0     Water\\<...>n3   Heptane\\n4  Pentanol\n",
      "classNamesList         list           n=5\n",
      "col_name_y             list           n=1\n",
      "col_names              list           n=257\n",
      "col_names_X            list           n=256\n",
      "digit                  ndarray        16x16: 256 elems, type `float64`, 2048 bytes\n",
      "digit1                 ndarray        16x16: 256 elems, type `float64`, 2048 bytes\n",
      "digits                 dict           n=10\n",
      "doc                    DataFrame             Nanonose     Unnam<...>n\\n[91 rows x 11 columns]\n",
      "dpi                    int            300\n",
      "fig                    Figure         Figure(432x288)\n",
      "figure                 function       <function figure at 0x7fddc440c160>\n",
      "file_path              str            ../Data/nanonose.xls\n",
      "i                      int            0\n",
      "is_null_filter         Series         0     False\\n1     False\\<...>, Length: 90, dtype: bool\n",
      "j                      int            9\n",
      "join                   function       <function join at 0x7fddbfa3d940>\n",
      "linalg                 module         <module 'scipy.linalg' fr<...>cipy/linalg/__init__.py'>\n",
      "loadmat                function       <function loadmat at 0x7fddc5e36940>\n",
      "mat_data               dict           n=5\n",
      "n                      int            9\n",
      "n_cols                 int            257\n",
      "np                     module         <module 'numpy' from '/Us<...>kages/numpy/__init__.py'>\n",
      "pd                     module         <module 'pandas' from '/U<...>ages/pandas/__init__.py'>\n",
      "plot                   function       <function plot at 0x7fddc442b700>\n",
      "plt                    module         <module 'matplotlib.pyplo<...>es/matplotlib/pyplot.py'>\n",
      "row_filter             Series         0     False\\n1     False\\<...>, Length: 90, dtype: bool\n",
      "row_filter2            Series         0     False\\n1     False\\<...>, Length: 90, dtype: bool\n",
      "show                   function       <function show at 0x7fddc440aa60>\n",
      "sns                    module         <module 'seaborn' from '/<...>ges/seaborn/__init__.py'>\n",
      "splitext               function       <function splitext at 0x7fddbfa3da60>\n",
      "sqrt_M                 int            16\n",
      "test_between           DataFrame            class  pixel1  pixe<...>[7291 rows x 257 columns]\n",
      "test_data              DataFrame            class  pixel1  pixe<...>[2007 rows x 257 columns]\n",
      "train_data             DataFrame            class  pixel1  pixe<...>[7291 rows x 257 columns]\n",
      "unique_counts          DataFrame           counts  class\\n0.0  <...>    8\\n9.0     644      9\n",
      "unique_filter          Series         0       False\\n1       Fa<...>Length: 2007, dtype: bool\n",
      "uniques                ndarray        10: 10 elems, type `float64`, 80 bytes\n",
      "xlabel                 function       <function xlabel at 0x7fddc442c670>\n",
      "y                      DataFrame             class\\n0      Wate<...>\\n\\n[90 rows x 1 columns]\n",
      "y_test                 DataFrame            class\\n0       9.0\\<...>\\n[2007 rows x 1 columns]\n",
      "y_train                DataFrame            class\\n0       6.0\\<...>\\n[7291 rows x 1 columns]\n",
      "ylabel                 function       <function ylabel at 0x7fddc442c700>\n"
     ]
    }
   ],
   "source": [
    "# Load zipdata.mat (X_train, Y_train, etc)\n",
    "%run Load_zipdata.ipynb\n",
    "%whos"
   ]
  },
  {
   "cell_type": "code",
   "execution_count": null,
   "id": "incredible-barbados",
   "metadata": {},
   "outputs": [],
   "source": [
    "X_test.head()"
   ]
  },
  {
   "cell_type": "code",
   "execution_count": null,
   "id": "advance-valuable",
   "metadata": {},
   "outputs": [],
   "source": [
    "y_test.head()"
   ]
  },
  {
   "cell_type": "code",
   "execution_count": null,
   "id": "designed-castle",
   "metadata": {},
   "outputs": [],
   "source": [
    "X_test.iloc[[1]]"
   ]
  },
  {
   "cell_type": "code",
   "execution_count": 185,
   "id": "sweet-windsor",
   "metadata": {},
   "outputs": [
    {
     "data": {
      "text/plain": [
       "<AxesSubplot:>"
      ]
     },
     "execution_count": 185,
     "metadata": {},
     "output_type": "execute_result"
    },
    {
     "data": {
      "image/png": "[encoded data removed]",
      "text/plain": [
       "<Figure size 432x432 with 2 Axes>"
      ]
     },
     "metadata": {},
     "output_type": "display_data"
    }
   ],
   "source": [
    "plt.figure(figsize = (6,6))\n",
    "\n",
    "N, M        = X_test.shape\n",
    "sqrt_M = int(np.sqrt(M))\n",
    "X_heatmap = X_test.iloc[[1]].values.reshape(sqrt_M,sqrt_M) \n",
    "# sns.heatmap(X_heatmap, annot = True)\n",
    "# annot annotates (= forsyne med noter) each pixel\n",
    "sns.heatmap(X_heatmap, cmap = 'Pastel1')"
   ]
  },
  {
   "cell_type": "markdown",
   "id": "built-curtis",
   "metadata": {},
   "source": [
    "# 7. Histograms\n"
   ]
  },
  {
   "cell_type": "code",
   "execution_count": 202,
   "id": "apparent-journey",
   "metadata": {},
   "outputs": [
    {
     "data": {
      "text/plain": [
       "<AxesSubplot:>"
      ]
     },
     "execution_count": 202,
     "metadata": {},
     "output_type": "execute_result"
    },
    {
     "data": {
      "image/png": "[encoded data removed]",
      "text/plain": [
       "<Figure size 576x396 with 1 Axes>"
      ]
     },
     "metadata": {},
     "output_type": "display_data"
    }
   ],
   "source": [
    "plt.style.use('ggplot')\n",
    "y_test['class'].hist()\n",
    "# if you want fewer bins/bars than the number of uniques, then use 'bins'\n",
    "# y_test['class'].hist(bins = 3)\n"
   ]
  },
  {
   "cell_type": "code",
   "execution_count": 211,
   "id": "timely-jason",
   "metadata": {},
   "outputs": [
    {
     "data": {
      "text/plain": [
       "<AxesSubplot:>"
      ]
     },
     "execution_count": 211,
     "metadata": {},
     "output_type": "execute_result"
    },
    {
     "data": {
      "image/png": "[encoded data removed]",
      "text/plain": [
       "<Figure size 576x396 with 1 Axes>"
      ]
     },
     "metadata": {},
     "output_type": "display_data"
    }
   ],
   "source": [
    "# show only certain unique values\n",
    "unique_filter = y_test.loc[:, 'class'] <= 5\n",
    "y_test['class'][unique_filter].hist(bins = 6)"
   ]
  },
  {
   "cell_type": "code",
   "execution_count": 214,
   "id": "welcome-wells",
   "metadata": {},
   "outputs": [
    {
     "data": {
      "text/plain": [
       "<AxesSubplot:>"
      ]
     },
     "execution_count": 214,
     "metadata": {},
     "output_type": "execute_result"
    },
    {
     "data": {
      "image/png": "[encoded data removed]",
      "text/plain": [
       "<Figure size 576x396 with 1 Axes>"
      ]
     },
     "metadata": {},
     "output_type": "display_data"
    }
   ],
   "source": [
    "# include edgecolor\n",
    "unique_filter = y_test.loc[:, 'class'] <= 5\n",
    "y_test['class'][unique_filter].hist(bins = 6,\n",
    "                                   edgecolor = 'k')"
   ]
  },
  {
   "cell_type": "code",
   "execution_count": 215,
   "id": "emotional-algeria",
   "metadata": {},
   "outputs": [],
   "source": [
    "# plt.style.available"
   ]
  },
  {
   "cell_type": "markdown",
   "id": "judicial-kelly",
   "metadata": {},
   "source": [
    "# 8. Subplots of images"
   ]
  },
  {
   "cell_type": "code",
   "execution_count": 216,
   "id": "brilliant-congo",
   "metadata": {},
   "outputs": [
    {
     "data": {
      "text/html": [
       "<div>\n",
       "<style scoped>\n",
       "    .dataframe tbody tr th:only-of-type {\n",
       "        vertical-align: middle;\n",
       "    }\n",
       "\n",
       "    .dataframe tbody tr th {\n",
       "        vertical-align: top;\n",
       "    }\n",
       "\n",
       "    .dataframe thead th {\n",
       "        text-align: right;\n",
       "    }\n",
       "</style>\n",
       "<table border=\"1\" class=\"dataframe\">\n",
       "  <thead>\n",
       "    <tr style=\"text-align: right;\">\n",
       "      <th></th>\n",
       "      <th>pixel1</th>\n",
       "      <th>pixel2</th>\n",
       "      <th>pixel3</th>\n",
       "      <th>pixel4</th>\n",
       "      <th>pixel5</th>\n",
       "      <th>pixel6</th>\n",
       "      <th>pixel7</th>\n",
       "      <th>pixel8</th>\n",
       "      <th>pixel9</th>\n",
       "      <th>pixel10</th>\n",
       "      <th>...</th>\n",
       "      <th>pixel247</th>\n",
       "      <th>pixel248</th>\n",
       "      <th>pixel249</th>\n",
       "      <th>pixel250</th>\n",
       "      <th>pixel251</th>\n",
       "      <th>pixel252</th>\n",
       "      <th>pixel253</th>\n",
       "      <th>pixel254</th>\n",
       "      <th>pixel255</th>\n",
       "      <th>pixel256</th>\n",
       "    </tr>\n",
       "  </thead>\n",
       "  <tbody>\n",
       "    <tr>\n",
       "      <th>0</th>\n",
       "      <td>-1.0</td>\n",
       "      <td>-1.0</td>\n",
       "      <td>-1.0</td>\n",
       "      <td>-1.000</td>\n",
       "      <td>-1.0</td>\n",
       "      <td>-0.948</td>\n",
       "      <td>-0.561</td>\n",
       "      <td>0.148</td>\n",
       "      <td>0.384</td>\n",
       "      <td>0.904</td>\n",
       "      <td>...</td>\n",
       "      <td>-1.000</td>\n",
       "      <td>-0.908</td>\n",
       "      <td>0.430</td>\n",
       "      <td>0.622</td>\n",
       "      <td>-0.973</td>\n",
       "      <td>-1.000</td>\n",
       "      <td>-1.0</td>\n",
       "      <td>-1.0</td>\n",
       "      <td>-1.0</td>\n",
       "      <td>-1.0</td>\n",
       "    </tr>\n",
       "    <tr>\n",
       "      <th>1</th>\n",
       "      <td>-1.0</td>\n",
       "      <td>-1.0</td>\n",
       "      <td>-1.0</td>\n",
       "      <td>-1.000</td>\n",
       "      <td>-1.0</td>\n",
       "      <td>-1.000</td>\n",
       "      <td>-1.000</td>\n",
       "      <td>-1.000</td>\n",
       "      <td>-1.000</td>\n",
       "      <td>-1.000</td>\n",
       "      <td>...</td>\n",
       "      <td>-1.000</td>\n",
       "      <td>-1.000</td>\n",
       "      <td>-1.000</td>\n",
       "      <td>-1.000</td>\n",
       "      <td>-1.000</td>\n",
       "      <td>-1.000</td>\n",
       "      <td>-1.0</td>\n",
       "      <td>-1.0</td>\n",
       "      <td>-1.0</td>\n",
       "      <td>-1.0</td>\n",
       "    </tr>\n",
       "    <tr>\n",
       "      <th>2</th>\n",
       "      <td>-1.0</td>\n",
       "      <td>-1.0</td>\n",
       "      <td>-1.0</td>\n",
       "      <td>-0.593</td>\n",
       "      <td>0.7</td>\n",
       "      <td>1.000</td>\n",
       "      <td>1.000</td>\n",
       "      <td>1.000</td>\n",
       "      <td>1.000</td>\n",
       "      <td>0.853</td>\n",
       "      <td>...</td>\n",
       "      <td>1.000</td>\n",
       "      <td>0.717</td>\n",
       "      <td>0.333</td>\n",
       "      <td>0.162</td>\n",
       "      <td>-0.393</td>\n",
       "      <td>-1.000</td>\n",
       "      <td>-1.0</td>\n",
       "      <td>-1.0</td>\n",
       "      <td>-1.0</td>\n",
       "      <td>-1.0</td>\n",
       "    </tr>\n",
       "    <tr>\n",
       "      <th>3</th>\n",
       "      <td>-1.0</td>\n",
       "      <td>-1.0</td>\n",
       "      <td>-1.0</td>\n",
       "      <td>-1.000</td>\n",
       "      <td>-1.0</td>\n",
       "      <td>-1.000</td>\n",
       "      <td>-1.000</td>\n",
       "      <td>-1.000</td>\n",
       "      <td>-1.000</td>\n",
       "      <td>-1.000</td>\n",
       "      <td>...</td>\n",
       "      <td>-1.000</td>\n",
       "      <td>-1.000</td>\n",
       "      <td>-1.000</td>\n",
       "      <td>-1.000</td>\n",
       "      <td>-1.000</td>\n",
       "      <td>-1.000</td>\n",
       "      <td>-1.0</td>\n",
       "      <td>-1.0</td>\n",
       "      <td>-1.0</td>\n",
       "      <td>-1.0</td>\n",
       "    </tr>\n",
       "    <tr>\n",
       "      <th>4</th>\n",
       "      <td>-1.0</td>\n",
       "      <td>-1.0</td>\n",
       "      <td>-1.0</td>\n",
       "      <td>-1.000</td>\n",
       "      <td>-1.0</td>\n",
       "      <td>-1.000</td>\n",
       "      <td>-1.000</td>\n",
       "      <td>-0.858</td>\n",
       "      <td>-0.106</td>\n",
       "      <td>0.802</td>\n",
       "      <td>...</td>\n",
       "      <td>0.901</td>\n",
       "      <td>0.901</td>\n",
       "      <td>0.901</td>\n",
       "      <td>0.290</td>\n",
       "      <td>-0.369</td>\n",
       "      <td>-0.867</td>\n",
       "      <td>-1.0</td>\n",
       "      <td>-1.0</td>\n",
       "      <td>-1.0</td>\n",
       "      <td>-1.0</td>\n",
       "    </tr>\n",
       "  </tbody>\n",
       "</table>\n",
       "<p>5 rows × 256 columns</p>\n",
       "</div>"
      ],
      "text/plain": [
       "   pixel1  pixel2  pixel3  pixel4  pixel5  pixel6  pixel7  pixel8  pixel9  \\\n",
       "0    -1.0    -1.0    -1.0  -1.000    -1.0  -0.948  -0.561   0.148   0.384   \n",
       "1    -1.0    -1.0    -1.0  -1.000    -1.0  -1.000  -1.000  -1.000  -1.000   \n",
       "2    -1.0    -1.0    -1.0  -0.593     0.7   1.000   1.000   1.000   1.000   \n",
       "3    -1.0    -1.0    -1.0  -1.000    -1.0  -1.000  -1.000  -1.000  -1.000   \n",
       "4    -1.0    -1.0    -1.0  -1.000    -1.0  -1.000  -1.000  -0.858  -0.106   \n",
       "\n",
       "   pixel10  ...  pixel247  pixel248  pixel249  pixel250  pixel251  pixel252  \\\n",
       "0    0.904  ...    -1.000    -0.908     0.430     0.622    -0.973    -1.000   \n",
       "1   -1.000  ...    -1.000    -1.000    -1.000    -1.000    -1.000    -1.000   \n",
       "2    0.853  ...     1.000     0.717     0.333     0.162    -0.393    -1.000   \n",
       "3   -1.000  ...    -1.000    -1.000    -1.000    -1.000    -1.000    -1.000   \n",
       "4    0.802  ...     0.901     0.901     0.901     0.290    -0.369    -0.867   \n",
       "\n",
       "   pixel253  pixel254  pixel255  pixel256  \n",
       "0      -1.0      -1.0      -1.0      -1.0  \n",
       "1      -1.0      -1.0      -1.0      -1.0  \n",
       "2      -1.0      -1.0      -1.0      -1.0  \n",
       "3      -1.0      -1.0      -1.0      -1.0  \n",
       "4      -1.0      -1.0      -1.0      -1.0  \n",
       "\n",
       "[5 rows x 256 columns]"
      ]
     },
     "execution_count": 216,
     "metadata": {},
     "output_type": "execute_result"
    }
   ],
   "source": [
    "X_test.head()"
   ]
  },
  {
   "cell_type": "code",
   "execution_count": 235,
   "id": "industrial-breakdown",
   "metadata": {},
   "outputs": [
    {
     "data": {
      "text/plain": [
       "<matplotlib.image.AxesImage at 0x7fdd98ce22e0>"
      ]
     },
     "execution_count": 235,
     "metadata": {},
     "output_type": "execute_result"
    },
    {
     "data": {
      "image/png": "[encoded data removed]",
      "text/plain": [
       "<Figure size 576x396 with 1 Axes>"
      ]
     },
     "metadata": {},
     "output_type": "display_data"
    }
   ],
   "source": [
    "digits = {}\n",
    "for n in range(10):\n",
    "    digits['digit_idx{}'.format(n)] = X_test.loc[[n]].values.reshape(sqrt_M, sqrt_M)\n",
    "plt.imshow(digits['digit_idx0'], cmap = 'gray')"
   ]
  },
  {
   "cell_type": "code",
   "execution_count": 263,
   "id": "inclusive-voice",
   "metadata": {},
   "outputs": [
    {
     "data": {
      "image/png": "[encoded data removed]",
      "text/plain": [
       "<Figure size 1440x144 with 10 Axes>"
      ]
     },
     "metadata": {},
     "output_type": "display_data"
    }
   ],
   "source": [
    "plt.figure(figsize = (20,2))\n",
    "\n",
    "# iteration to plot all subplots\n",
    "for i, digit in enumerate(digits.values()):\n",
    "    plt.subplot(1, len(digits), i+1)\n",
    "    plt.imshow(digits['digit_idx{}'.format(i)], cmap = 'gray')\n",
    "    "
   ]
  },
  {
   "cell_type": "code",
   "execution_count": 253,
   "id": "numeric-activity",
   "metadata": {},
   "outputs": [
    {
     "data": {
      "text/plain": [
       "11"
      ]
     },
     "execution_count": 253,
     "metadata": {},
     "output_type": "execute_result"
    }
   ],
   "source": [
    "len(digits)+1"
   ]
  }
 ],
 "metadata": {
  "kernelspec": {
   "display_name": "Python 3",
   "language": "python",
   "name": "python3"
  },
  "language_info": {
   "codemirror_mode": {
    "name": "ipython",
    "version": 3
   },
   "file_extension": ".py",
   "mimetype": "text/x-python",
   "name": "python",
   "nbconvert_exporter": "python",
   "pygments_lexer": "ipython3",
   "version": "3.8.2"
  }
 },
 "nbformat": 4,
 "nbformat_minor": 5
}
