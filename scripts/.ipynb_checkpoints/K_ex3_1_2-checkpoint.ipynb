{
 "cells": [
  {
   "cell_type": "code",
   "execution_count": null,
   "id": "hindu-vacation",
   "metadata": {},
   "outputs": [],
   "source": [
    "# %load K_ex2_3_1.py\n",
    "# exercise 2.3.1"
   ]
  },
  {
   "cell_type": "markdown",
   "id": "innocent-reliance",
   "metadata": {},
   "source": [
    "# Script Description\n",
    "---\n",
    "This script  ..\n",
    "\n",
    "\n",
    "## Tags\n",
    "### Machine Learning\n",
    "\n",
    "* Supervised Learning\n",
    "\n",
    "### Pandas \n",
    "\n",
    "* drop\n",
    "* between\n",
    "* unique\n",
    "* describe\n",
    "* value_counts()\n",
    "* sort()\n",
    "* to_dataframe()\n",
    "* sort_index()\n",
    "* index.astype()\n",
    "\n",
    "### Other\n",
    "\n",
    "* image data\n",
    "\n",
    "## Structure\n",
    "1. Load .mat data, convert to pandas dataframe and get an overview of data\n",
    "2. Assign useful and imporant variables\n",
    "3. Different pandas operations on the data\n",
    "\n",
    "## About\n",
    "**Contact Info** 2021 celiacailloux@gmail.com\n",
    " \n",
    "**Exercise Name** exercise 2.3.1 (course 02450 DTU 2018)\n",
    "\n",
    "---"
   ]
  },
  {
   "cell_type": "code",
   "execution_count": null,
   "id": "innocent-international",
   "metadata": {},
   "outputs": [],
   "source": [
    "# import standard modules\n",
    "from matplotlib.pyplot import figure, plot, xlabel, ylabel, show, bar\n",
    "from scipy.io import loadmat\n",
    "from sklearn.neighbors import KNeighborsClassifier\n",
    "import scipy.linalg as linalg\n",
    "import numpy as np\n",
    "import pandas as pd"
   ]
  },
  {
   "cell_type": "markdown",
   "id": "automatic-whole",
   "metadata": {},
   "source": [
    "# 1. Load .mat data, convert to pandas dataframe and get an overview of data"
   ]
  },
  {
   "cell_type": "code",
   "execution_count": null,
   "id": "union-torture",
   "metadata": {},
   "outputs": [],
   "source": [
    "# Load Matlab data file and extract training set and test set\n",
    "mat_data = loadmat('../Data/zipdata.mat')\n",
    "mat_data"
   ]
  },
  {
   "cell_type": "code",
   "execution_count": null,
   "id": "mysterious-petersburg",
   "metadata": {},
   "outputs": [],
   "source": [
    "# Compute the of the dictionary containing .mat data\n",
    "mat_data.keys()"
   ]
  },
  {
   "cell_type": "code",
   "execution_count": null,
   "id": "quality-vertex",
   "metadata": {},
   "outputs": [],
   "source": [
    "# Convert to pandas dataframe and add column names\n",
    "n_cols       = mat_data['testdata'].shape[1]\n",
    "col_name_y   = ['class']\n",
    "col_names_X  = ['pixel{}'.format(i) for i in range(1, n_cols)] # 0th column is the y, ie. the class\n",
    "col_names    = col_name_y + col_names_X               \n",
    "test_data    = pd.DataFrame(mat_data['testdata'], columns = col_names )\n",
    "train_data   = pd.DataFrame(mat_data['traindata'], columns = col_names )"
   ]
  },
  {
   "cell_type": "code",
   "execution_count": null,
   "id": "angry-printing",
   "metadata": {},
   "outputs": [],
   "source": [
    "test_data.head(5)"
   ]
  },
  {
   "cell_type": "code",
   "execution_count": null,
   "id": "treated-pregnancy",
   "metadata": {},
   "outputs": [],
   "source": [
    "train_data.head(5)"
   ]
  },
  {
   "cell_type": "code",
   "execution_count": null,
   "id": "hungarian-turkey",
   "metadata": {},
   "outputs": [],
   "source": [
    "train_data.describe()"
   ]
  },
  {
   "cell_type": "code",
   "execution_count": null,
   "id": "suited-globe",
   "metadata": {},
   "outputs": [],
   "source": [
    "test_data.describe()"
   ]
  },
  {
   "cell_type": "markdown",
   "id": "radio-prisoner",
   "metadata": {},
   "source": [
    "# 2. Assign useful and imporant variables"
   ]
  },
  {
   "cell_type": "code",
   "execution_count": null,
   "id": "blank-subsection",
   "metadata": {},
   "outputs": [],
   "source": [
    "# Assign X by dropping the first column\n",
    "# axis=1 referes to it dropping a column (ie. axis=0 is dropping a row)\n",
    "# inplace=True means that it works of the original df\n",
    "X = train_data.drop('class', axis = 1) \n",
    "y = train_data[['class']] # importan to use double []\n",
    "X_test = test_data.drop('class', axis = 1)\n",
    "y_test = test_data[['class']]\n",
    "N, M = X.shape\n",
    "Ntest, Mtest = X_test.shape"
   ]
  },
  {
   "cell_type": "code",
   "execution_count": null,
   "id": "statistical-saturday",
   "metadata": {},
   "outputs": [],
   "source": [
    "X.head(5)"
   ]
  },
  {
   "cell_type": "code",
   "execution_count": null,
   "id": "upset-error",
   "metadata": {},
   "outputs": [],
   "source": [
    "y.head()"
   ]
  },
  {
   "cell_type": "markdown",
   "id": "optical-specification",
   "metadata": {},
   "source": [
    "# 3. Different pandas operations on the data"
   ]
  },
  {
   "cell_type": "code",
   "execution_count": null,
   "id": "retained-pendant",
   "metadata": {},
   "outputs": [],
   "source": [
    "# show only classes between i and j\n",
    "i = 0\n",
    "j = 9\n",
    "test_between = train_data[train_data['class'].between(i,j)]\n",
    "test_between.head()"
   ]
  },
  {
   "cell_type": "code",
   "execution_count": null,
   "id": "removed-wright",
   "metadata": {},
   "outputs": [],
   "source": [
    "# Returns the uniques without sorting is\n",
    "uniques = test_between['class'].unique()\n",
    "uniques.sort()  # uncomment to sort\n",
    "uniques"
   ]
  },
  {
   "cell_type": "code",
   "execution_count": null,
   "id": "sharp-going",
   "metadata": {},
   "outputs": [],
   "source": [
    "# Count how many times you the unique values in 'class' apears\n",
    "unique_counts = test_between['class'].value_counts().to_frame('counts')\n",
    "# unique_counts.index.name = 'class'\n",
    "unique_counts.sort_index(inplace = True)\n",
    "unique_counts['class'] = unique_counts.index.astype('int32')"
   ]
  },
  {
   "cell_type": "code",
   "execution_count": null,
   "id": "cooked-thompson",
   "metadata": {},
   "outputs": [],
   "source": [
    "unique_counts"
   ]
  },
  {
   "cell_type": "code",
   "execution_count": null,
   "id": "excellent-brazil",
   "metadata": {},
   "outputs": [],
   "source": [
    "plot(unique_counts['class'], unique_counts['counts'])"
   ]
  },
  {
   "cell_type": "code",
   "execution_count": null,
   "id": "approximate-invention",
   "metadata": {},
   "outputs": [],
   "source": [
    "# unique_counts.index"
   ]
  },
  {
   "cell_type": "markdown",
   "id": "unexpected-testimony",
   "metadata": {},
   "source": [
    "## Return all digits values that appear less than 600 times"
   ]
  },
  {
   "cell_type": "code",
   "execution_count": null,
   "id": "similar-challenge",
   "metadata": {},
   "outputs": [],
   "source": [
    "# find \"anomaly\" find that class, where the counts are less than 600\n",
    "[_class for _class in unique_counts.index if len(test_between[test_between['class'] == _class]) <= 600]"
   ]
  },
  {
   "cell_type": "markdown",
   "id": "municipal-mortgage",
   "metadata": {},
   "source": [
    "## Visualize Data to get acquainted with it"
   ]
  },
  {
   "cell_type": "code",
   "execution_count": null,
   "id": "prerequisite-thickness",
   "metadata": {},
   "outputs": [],
   "source": []
  },
  {
   "cell_type": "code",
   "execution_count": null,
   "id": "armed-raising",
   "metadata": {},
   "outputs": [],
   "source": [
    "# Number of principal components to use for classification,\n",
    "# i.e. the reduced dimensionality\n",
    "K = [8,10,15,20,30,40,50,60,100,150]\n",
    "\n"
   ]
  },
  {
   "cell_type": "code",
   "execution_count": null,
   "id": "pleasant-fifty",
   "metadata": {},
   "outputs": [],
   "source": [
    "# Subtract the mean from the data\n",
    "Y = X - np.ones((N,1))*X.mean(0)\n",
    "Ytest = Xtest - np.ones((Ntest,1))*X.mean(0)\n",
    "\n"
   ]
  },
  {
   "cell_type": "code",
   "execution_count": null,
   "id": "endless-highland",
   "metadata": {},
   "outputs": [],
   "source": [
    "# Obtain the PCA solution  by calculate the SVD of Y\n",
    "U,S,V = linalg.svd(Y,full_matrices=False)\n",
    "V = V.T\n",
    "\n",
    "\n"
   ]
  },
  {
   "cell_type": "code",
   "execution_count": null,
   "id": "municipal-suite",
   "metadata": {},
   "outputs": [],
   "source": [
    "# Repeat classification for different values of K\n",
    "error_rates = []\n",
    "for k in K:\n",
    "    # Project data onto principal component space,\n",
    "    Z = Y @ V[:,:k]\n",
    "    Ztest = Ytest @ V[:,:k]\n",
    "\n",
    "    # Classify data with knn classifier\n",
    "    knn_classifier = KNeighborsClassifier(n_neighbors=1)\n",
    "    knn_classifier.fit(Z,y.ravel())\n",
    "    y_estimated = knn_classifier.predict(Ztest)\n",
    "\n",
    "    # Compute classification error rates\n",
    "    y_estimated = y_estimated.T\n",
    "    er = (sum(ytest!=y_estimated)/float(len(ytest)))*100\n",
    "    error_rates.append(er)\n",
    "    print('K={0}: Error rate: {1:.1f}%'.format(k, er))"
   ]
  },
  {
   "cell_type": "code",
   "execution_count": null,
   "id": "worthy-assembly",
   "metadata": {},
   "outputs": [],
   "source": [
    "# Visualize error rates vs. number of principal components considered\n",
    "figure()\n",
    "plot(K,error_rates,'o-')\n",
    "xlabel('Number of principal components K')\n",
    "ylabel('Error rate [%]')\n",
    "show()\n",
    "\n"
   ]
  },
  {
   "cell_type": "code",
   "execution_count": null,
   "id": "alpine-hobby",
   "metadata": {},
   "outputs": [],
   "source": [
    "print('Ran Exercise 2.3.1')"
   ]
  },
  {
   "cell_type": "code",
   "execution_count": null,
   "id": "united-malpractice",
   "metadata": {},
   "outputs": [],
   "source": []
  },
  {
   "cell_type": "code",
   "execution_count": null,
   "id": "democratic-singer",
   "metadata": {},
   "outputs": [],
   "source": []
  },
  {
   "cell_type": "code",
   "execution_count": null,
   "id": "compressed-inside",
   "metadata": {},
   "outputs": [],
   "source": []
  },
  {
   "cell_type": "code",
   "execution_count": null,
   "id": "portable-frame",
   "metadata": {},
   "outputs": [],
   "source": []
  },
  {
   "cell_type": "code",
   "execution_count": null,
   "id": "embedded-transcription",
   "metadata": {},
   "outputs": [],
   "source": []
  },
  {
   "cell_type": "code",
   "execution_count": null,
   "id": "young-berkeley",
   "metadata": {},
   "outputs": [],
   "source": []
  },
  {
   "cell_type": "code",
   "execution_count": null,
   "id": "ordinary-spanking",
   "metadata": {},
   "outputs": [],
   "source": []
  }
 ],
 "metadata": {
  "kernelspec": {
   "display_name": "Python 3",
   "language": "python",
   "name": "python3"
  },
  "language_info": {
   "codemirror_mode": {
    "name": "ipython",
    "version": 3
   },
   "file_extension": ".py",
   "mimetype": "text/x-python",
   "name": "python",
   "nbconvert_exporter": "python",
   "pygments_lexer": "ipython3",
   "version": "3.8.2"
  }
 },
 "nbformat": 4,
 "nbformat_minor": 5
}
