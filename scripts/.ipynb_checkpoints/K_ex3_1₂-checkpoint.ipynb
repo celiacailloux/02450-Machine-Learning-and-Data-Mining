{
 "cells": [
  {
   "cell_type": "code",
   "execution_count": null,
   "id": "excellent-riverside",
   "metadata": {},
   "outputs": [],
   "source": [
    "# Outcomment to import and convert .py file to .ipynb\n",
    "# %load K_ex3_1_2.py"
   ]
  }
 ],
 "metadata": {
  "kernelspec": {
   "display_name": "Python 3",
   "language": "python",
   "name": "python3"
  },
  "language_info": {
   "codemirror_mode": {
    "name": "ipython",
    "version": 3
   },
   "file_extension": ".py",
   "mimetype": "text/x-python",
   "name": "python",
   "nbconvert_exporter": "python",
   "pygments_lexer": "ipython3",
   "version": "3.8.2"
  }
 },
 "nbformat": 4,
 "nbformat_minor": 5
}
