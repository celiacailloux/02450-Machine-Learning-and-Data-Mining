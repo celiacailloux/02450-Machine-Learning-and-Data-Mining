{
 "cells": [
  {
   "cell_type": "markdown",
   "id": "micro-praise",
   "metadata": {},
   "source": [
    "## Tags\n",
    "\n",
    "### Pandas \n",
    "\n",
    "* drop\n",
    "* between\n",
    "* unique\n",
    "* describe\n",
    "* value_counts()\n",
    "* sort()\n",
    "* to_dataframe()\n",
    "* sort_index()\n",
    "* index.astype()\n",
    "\n",
    "### Matplotlib.pyplot\n",
    "\n",
    "\n",
    "\n",
    "### Python / Jupyter\n",
    "* %whos \n",
    "* %load - load aux scripts, functions, modules\n",
    "* ?\n",
    "* image data\n",
    "* load matlab (.mat) data file## Tags\n",
    "\n"
   ]
  },
  {
   "cell_type": "code",
   "execution_count": 49,
   "id": "saving-pepper",
   "metadata": {},
   "outputs": [],
   "source": [
    "import matplotlib.pyplot as plt"
   ]
  },
  {
   "cell_type": "code",
   "execution_count": 50,
   "id": "theoretical-scott",
   "metadata": {},
   "outputs": [
    {
     "data": {
      "image/png": "[encoded data removed]",
      "text/plain": [
       "<Figure size 432x288 with 1 Axes>"
      ]
     },
     "metadata": {
      "needs_background": "light"
     },
     "output_type": "display_data"
    }
   ],
   "source": [
    "# Load zipdata.mat (X_train, Y_train, etc)\n",
    "%run Load_zipdata.ipynb\n"
   ]
  },
  {
   "cell_type": "markdown",
   "id": "nonprofit-facility",
   "metadata": {},
   "source": [
    "## Print all imported variables"
   ]
  },
  {
   "cell_type": "code",
   "execution_count": 52,
   "id": "economic-employer",
   "metadata": {},
   "outputs": [
    {
     "name": "stdout",
     "output_type": "stream",
     "text": [
      "Variable               Type         Data/Info\n",
      "---------------------------------------------\n",
      "KNeighborsClassifier   ABCMeta      <class 'sklearn.neighbors<...>on.KNeighborsClassifier'>\n",
      "M_train                int          256\n",
      "Mtest                  int          256\n",
      "N_test                 int          2007\n",
      "N_train                int          7291\n",
      "X_test                 DataFrame          pixel1  pixel2  pix<...>[2007 rows x 256 columns]\n",
      "X_train                DataFrame          pixel1  pixel2  pix<...>[7291 rows x 256 columns]\n",
      "bar                    function     <function bar at 0x7fb80085ed30>\n",
      "col_name_y             list         n=1\n",
      "col_names              list         n=257\n",
      "col_names_X            list         n=256\n",
      "figure                 function     <function figure at 0x7fb80083d9d0>\n",
      "get_dropbox_location   function     <function get_dropbox_location at 0x7fb808e9d700>\n",
      "i                      int          0\n",
      "j                      int          9\n",
      "json                   module       <module 'json' from '/Use<...>hon3.8/json/__init__.py'>\n",
      "linalg                 module       <module 'scipy.linalg' fr<...>cipy/linalg/__init__.py'>\n",
      "loadmat                function     <function loadmat at 0x7fb8009adee0>\n",
      "mat_data               dict         n=5\n",
      "n_cols                 int          257\n",
      "np                     module       <module 'numpy' from '/Us<...>kages/numpy/__init__.py'>\n",
      "os                     module       <module 'os' from '/Users<...>da3/lib/python3.8/os.py'>\n",
      "pd                     module       <module 'pandas' from '/U<...>ages/pandas/__init__.py'>\n",
      "plot                   function     <function plot at 0x7fb800862040>\n",
      "plt                    module       <module 'matplotlib.pyplo<...>es/matplotlib/pyplot.py'>\n",
      "show                   function     <function show at 0x7fb80083d310>\n",
      "test_between           DataFrame          class  pixel1  pixe<...>[7291 rows x 257 columns]\n",
      "test_data              DataFrame          class  pixel1  pixe<...>[2007 rows x 257 columns]\n",
      "train_data             DataFrame          class  pixel1  pixe<...>[7291 rows x 257 columns]\n",
      "unique_counts          DataFrame         counts  class\\n0.0  <...>    8\\n9.0     644      9\n",
      "uniques                ndarray      10: 10 elems, type `float64`, 80 bytes\n",
      "xlabel                 function     <function xlabel at 0x7fb800862f70>\n",
      "y_test                 DataFrame          class\\n0       9.0\\<...>\\n[2007 rows x 1 columns]\n",
      "y_train                DataFrame          class\\n0       6.0\\<...>\\n[7291 rows x 1 columns]\n",
      "ylabel                 function     <function ylabel at 0x7fb800864040>\n"
     ]
    }
   ],
   "source": [
    "# print all imported variable\n",
    "%whos"
   ]
  },
  {
   "cell_type": "code",
   "execution_count": 64,
   "id": "occupied-label",
   "metadata": {},
   "outputs": [],
   "source": [
    "?plt.plot"
   ]
  },
  {
   "cell_type": "markdown",
   "id": "fourth-laptop",
   "metadata": {},
   "source": [
    "## How to load a module"
   ]
  },
  {
   "cell_type": "code",
   "execution_count": null,
   "id": "headed-policy",
   "metadata": {},
   "outputs": [],
   "source": [
    "# %load ../mainbranch/get_function\n",
    "# %load submodules/api_appdata.py\n",
    "# %cat submodules/api_appdata.py"
   ]
  },
  {
   "cell_type": "code",
   "execution_count": null,
   "id": "undefined-carolina",
   "metadata": {},
   "outputs": [],
   "source": [
    "%cat Load_zipcode_digits_data.ipynb"
   ]
  },
  {
   "cell_type": "markdown",
   "id": "optical-specification",
   "metadata": {},
   "source": [
    "## Select specfic classes"
   ]
  },
  {
   "cell_type": "code",
   "execution_count": null,
   "id": "retained-pendant",
   "metadata": {},
   "outputs": [],
   "source": [
    "# show only classes between i and j\n",
    "i = 0\n",
    "j = 9"
   ]
  },
  {
   "cell_type": "code",
   "execution_count": null,
   "id": "bright-sport",
   "metadata": {},
   "outputs": [],
   "source": [
    "test_between = train_data[train_data['class'].between(i,j)]\n",
    "test_between.head()"
   ]
  },
  {
   "cell_type": "code",
   "execution_count": null,
   "id": "removed-wright",
   "metadata": {},
   "outputs": [],
   "source": [
    "# Returns the uniques without sorting is\n",
    "uniques = test_between['class'].unique()\n",
    "uniques.sort()  # uncomment to sort\n",
    "uniques"
   ]
  },
  {
   "cell_type": "code",
   "execution_count": null,
   "id": "sharp-going",
   "metadata": {},
   "outputs": [],
   "source": [
    "# Count how many times you the unique values in 'class' apears\n",
    "unique_counts = test_between['class'].value_counts().to_frame('counts')\n",
    "# unique_counts.index.name = 'class'\n",
    "unique_counts.sort_index(inplace = True)\n",
    "unique_counts['class'] = unique_counts.index.astype('int32')"
   ]
  },
  {
   "cell_type": "code",
   "execution_count": 54,
   "id": "cooked-thompson",
   "metadata": {},
   "outputs": [
    {
     "data": {
      "text/html": [
       "<div>\n",
       "<style scoped>\n",
       "    .dataframe tbody tr th:only-of-type {\n",
       "        vertical-align: middle;\n",
       "    }\n",
       "\n",
       "    .dataframe tbody tr th {\n",
       "        vertical-align: top;\n",
       "    }\n",
       "\n",
       "    .dataframe thead th {\n",
       "        text-align: right;\n",
       "    }\n",
       "</style>\n",
       "<table border=\"1\" class=\"dataframe\">\n",
       "  <thead>\n",
       "    <tr style=\"text-align: right;\">\n",
       "      <th></th>\n",
       "      <th>counts</th>\n",
       "      <th>class</th>\n",
       "    </tr>\n",
       "  </thead>\n",
       "  <tbody>\n",
       "    <tr>\n",
       "      <th>0.0</th>\n",
       "      <td>1194</td>\n",
       "      <td>0</td>\n",
       "    </tr>\n",
       "    <tr>\n",
       "      <th>1.0</th>\n",
       "      <td>1005</td>\n",
       "      <td>1</td>\n",
       "    </tr>\n",
       "    <tr>\n",
       "      <th>2.0</th>\n",
       "      <td>731</td>\n",
       "      <td>2</td>\n",
       "    </tr>\n",
       "    <tr>\n",
       "      <th>3.0</th>\n",
       "      <td>658</td>\n",
       "      <td>3</td>\n",
       "    </tr>\n",
       "    <tr>\n",
       "      <th>4.0</th>\n",
       "      <td>652</td>\n",
       "      <td>4</td>\n",
       "    </tr>\n",
       "    <tr>\n",
       "      <th>5.0</th>\n",
       "      <td>556</td>\n",
       "      <td>5</td>\n",
       "    </tr>\n",
       "    <tr>\n",
       "      <th>6.0</th>\n",
       "      <td>664</td>\n",
       "      <td>6</td>\n",
       "    </tr>\n",
       "    <tr>\n",
       "      <th>7.0</th>\n",
       "      <td>645</td>\n",
       "      <td>7</td>\n",
       "    </tr>\n",
       "    <tr>\n",
       "      <th>8.0</th>\n",
       "      <td>542</td>\n",
       "      <td>8</td>\n",
       "    </tr>\n",
       "    <tr>\n",
       "      <th>9.0</th>\n",
       "      <td>644</td>\n",
       "      <td>9</td>\n",
       "    </tr>\n",
       "  </tbody>\n",
       "</table>\n",
       "</div>"
      ],
      "text/plain": [
       "     counts  class\n",
       "0.0    1194      0\n",
       "1.0    1005      1\n",
       "2.0     731      2\n",
       "3.0     658      3\n",
       "4.0     652      4\n",
       "5.0     556      5\n",
       "6.0     664      6\n",
       "7.0     645      7\n",
       "8.0     542      8\n",
       "9.0     644      9"
      ]
     },
     "execution_count": 54,
     "metadata": {},
     "output_type": "execute_result"
    }
   ],
   "source": [
    "unique_counts"
   ]
  },
  {
   "cell_type": "code",
   "execution_count": 67,
   "id": "excellent-brazil",
   "metadata": {},
   "outputs": [
    {
     "data": {
      "text/plain": [
       "Text(0.5, 1.0, 'Train Data')"
      ]
     },
     "execution_count": 67,
     "metadata": {},
     "output_type": "execute_result"
    },
    {
     "data": {
      "image/png": "[encoded data removed]",
      "text/plain": [
       "<Figure size 432x288 with 1 Axes>"
      ]
     },
     "metadata": {
      "needs_background": "light"
     },
     "output_type": "display_data"
    }
   ],
   "source": [
    "plt.bar(unique_counts['class'], unique_counts['counts'])\n",
    "plt.plot(unique_counts['class'], unique_counts['counts'], 'bo-' )\n",
    "xlabel('Zip Code Digits')\n",
    "ylabel('Occurence')\n",
    "plt.xticks(unique_counts['class'])\n",
    "plt.title('Train Data')"
   ]
  },
  {
   "cell_type": "code",
   "execution_count": null,
   "id": "approximate-invention",
   "metadata": {},
   "outputs": [],
   "source": [
    "# unique_counts.index"
   ]
  },
  {
   "cell_type": "markdown",
   "id": "convertible-campaign",
   "metadata": {},
   "source": [
    "## Return all digits values that appear less than 600 times"
   ]
  },
  {
   "cell_type": "code",
   "execution_count": null,
   "id": "similar-challenge",
   "metadata": {},
   "outputs": [],
   "source": [
    "# find \"anomaly\" find that class, where the counts are less than 600\n",
    "[_class for _class in unique_counts.index if len(test_between[test_between['class'] == _class]) <= 600]"
   ]
  },
  {
   "cell_type": "markdown",
   "id": "abstract-trout",
   "metadata": {},
   "source": [
    "## Visualize Data to get acquainted with it"
   ]
  },
  {
   "cell_type": "code",
   "execution_count": null,
   "id": "coordinated-supervision",
   "metadata": {},
   "outputs": [],
   "source": []
  },
  {
   "cell_type": "markdown",
   "id": "structural-thought",
   "metadata": {},
   "source": [
    "## Exporting Notebook\n",
    "\n",
    "1. jupyter nbconvert _filename_.ipynm --to --template (default is full)\n",
    "2. pdf - download as -> nbconvert io webpage"
   ]
  },
  {
   "cell_type": "code",
   "execution_count": null,
   "id": "floral-bikini",
   "metadata": {},
   "outputs": [],
   "source": []
  }
 ],
 "metadata": {
  "kernelspec": {
   "display_name": "Python 3",
   "language": "python",
   "name": "python3"
  },
  "language_info": {
   "codemirror_mode": {
    "name": "ipython",
    "version": 3
   },
   "file_extension": ".py",
   "mimetype": "text/x-python",
   "name": "python",
   "nbconvert_exporter": "python",
   "pygments_lexer": "ipython3",
   "version": "3.8.2"
  }
 },
 "nbformat": 4,
 "nbformat_minor": 5
}
