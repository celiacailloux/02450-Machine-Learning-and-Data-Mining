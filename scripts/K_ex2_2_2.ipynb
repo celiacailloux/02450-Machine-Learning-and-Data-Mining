{
 "cells": [
  {
   "cell_type": "code",
   "execution_count": 14,
   "id": "civic-moment",
   "metadata": {},
   "outputs": [],
   "source": [
    "# %load K_ex2_2_2.py\n",
    "# ----------------------------------------------------------------------------\n",
    "# This script computes and plots the variance explained and projects data \n",
    "# onto principal component space. It also plots the a reconstruction of the\n",
    "# data to its original space with the chosen number of principal components.\n",
    "# \n",
    "# ML tags: Variance Explained, Inverse Transformation, PC\n",
    "#\n",
    "# 2021 celiacailloux@gmail.com\n",
    "#\n",
    "# \n",
    "# exercise 2.2.2 (course 02450 DTU 2018)\n",
    "# ----------------------------------------------------------------------------"
   ]
  },
  {
   "cell_type": "code",
   "execution_count": null,
   "id": "fiscal-terrorist",
   "metadata": {},
   "outputs": [],
   "source": []
  },
  {
   "cell_type": "code",
   "execution_count": 15,
   "id": "partial-instruction",
   "metadata": {},
   "outputs": [],
   "source": [
    "# custom-made modules\n",
    "from submodules.file_manage_pickle import save_as_pickle, get_saved_pickle\n",
    "from submodules.plot_ML_course import save_figure_w_comment, save_figure_as_script_title"
   ]
  },
  {
   "cell_type": "code",
   "execution_count": 16,
   "id": "aware-mailman",
   "metadata": {},
   "outputs": [],
   "source": [
    "# standard modules\n",
    "from matplotlib.pyplot import (figure, subplot, plot, xlabel, ylabel, title, \\\n",
    "                               yticks, show,legend,imshow, cm)\n",
    "from scipy.io import loadmat\n",
    "from os.path import basename, splitext, join\n",
    "from os import getcwd\n",
    "# import scipy.linalg as linalg\n",
    "import numpy as np\n",
    "import pandas as pd\n",
    "from sklearn.decomposition import PCA"
   ]
  },
  {
   "cell_type": "code",
   "execution_count": 17,
   "id": "worldwide-dispute",
   "metadata": {},
   "outputs": [],
   "source": [
    "# %%\n",
    "import_data             = False\n",
    "\n",
    "plot_variance_explained = False\n",
    "plot_PCi_vs_PCj         = False\n",
    "plot_PC_reconstruction  = True \n",
    "save_figure             = True\n",
    "\n",
    "exerciseName = 'K_ex2_2_2'"
   ]
  },
  {
   "cell_type": "code",
   "execution_count": 18,
   "id": "hollow-median",
   "metadata": {},
   "outputs": [],
   "source": [
    "# Selection of classes, aka in this case digits to include in analysis and\n",
    "# plotting (to include all, n = range(10)) and number of classes (C)\n",
    "c = [0,1]\n",
    "C = len(c)\n",
    "# Number of principal components for reconstruction and number of digits \n",
    "# (observations N) to visualize, aka number of digits\n",
    "K = 16\n",
    "n = range(6)"
   ]
  },
  {
   "cell_type": "code",
   "execution_count": 19,
   "id": "informal-hamburg",
   "metadata": {},
   "outputs": [],
   "source": [
    "# %%\n",
    "if import_data:\n",
    "    from K_ex2_2_1 import X, y\n",
    "    data = {'X' : X, \n",
    "            'y' : y}\n",
    "    save_as_pickle(pkl_data = data, pkl_name = 'data')\n",
    "else:\n",
    "    data = get_saved_pickle(pkl_name = 'data')\n",
    "    \n",
    "    X = data['X']\n",
    "    y = data['y']     \n",
    "    "
   ]
  },
  {
   "cell_type": "code",
   "execution_count": 20,
   "id": "turkish-lambda",
   "metadata": {},
   "outputs": [],
   "source": [
    "# Classes represented by values, strings and paired in a dict\n",
    "classValues     = c\n",
    "classNames      = [str(class_i) for class_i in c]\n",
    "classDict       = dict(zip(classNames,classValues))\n",
    "\n",
    "#%%\n",
    "# Select subset of digits classes (c) to be inspected, by\n",
    "# making a mask of booleans\n",
    "class_mask  = y['class'].isin(c) # pandas masking with regards to a list\n",
    "X           = X[class_mask] # masking rows in pandas\n",
    "y           = y[class_mask]\n",
    "# number of observations of the subset and number of pixels (sqrt_Mxsqrt_M)\n",
    "N, M        = X.shape\n",
    "sqrt_M = int(np.sqrt(M))\n",
    "\n",
    "# Get the variance explained and the data projected onto principal component \n",
    "# space (B or Z)\n",
    "pca             = PCA(n_components = K).fit(X)\n",
    "exp_var_pca     = pca.explained_variance_ratio_ \n",
    "B_array         = pca.fit_transform(X)\n",
    "Z = pd.DataFrame(data = B_array, #B_std_array\n",
    "                 index = range(0,len(B_array)),\n",
    "                 columns = ['PC{}'.format(i) for i in range(1, K+1)])#B_array.shape[1]+1)])\n",
    "X_proj          = pd.DataFrame(pca.inverse_transform(Z), columns = X.columns)\n",
    "# %%"
   ]
  },
  {
   "cell_type": "code",
   "execution_count": 21,
   "id": "welcome-jersey",
   "metadata": {},
   "outputs": [],
   "source": [
    "if plot_variance_explained:\n",
    "    # Plot variance explained\n",
    "    figure()\n",
    "    plot(range(1, K+1), exp_var_pca,'o-')# percentage of variance explained\n",
    "    # plot(pca.explained_variance_, 'o-')\n",
    "    title('Variance explained by principal components\\nDigits data');\n",
    "    xlabel('Principal component');\n",
    "    ylabel('Variance explained value');\n",
    "    if save_figure:\n",
    "        save_figure_as_script_title(__file__,\n",
    "                                    comment = \\\n",
    "                                        'USPS_handwritten_Variance_explained_by_PC_w_{}_PCs'.format(K))"
   ]
  },
  {
   "cell_type": "code",
   "execution_count": 22,
   "id": "polish-debate",
   "metadata": {},
   "outputs": [],
   "source": [
    "if plot_PCi_vs_PCj:\n",
    "    # Plot PCA of the data\n",
    "    f = figure()\n",
    "    title('pixel vectors of handwr. digits projected on PCs')\n",
    "    for _class in c:\n",
    "        # select indices belonging to class c:\n",
    "        class_mask_plot = (y['class'] == _class).reset_index(drop = True)\n",
    "        plot(Z['PC1'][class_mask_plot], Z['PC2'][class_mask_plot], 'o')\n",
    "    legend(classNames)\n",
    "    xlabel('PC1')\n",
    "    ylabel('PC2')\n",
    "    if save_figure:\n",
    "            save_figure_as_script_title(__file__,\n",
    "                                        comment = \\\n",
    "                                            'USPS_handwritten_digits_PC1vsPC2')    "
   ]
  },
  {
   "cell_type": "code",
   "execution_count": 23,
   "id": "fiscal-abraham",
   "metadata": {
    "scrolled": true
   },
   "outputs": [
    {
     "name": "stdout",
     "output_type": "stream",
     "text": [
      "'K_ex2_2_2_USPS_handwritten_original_vs_reconstructed_digit_w_16_PCs' saved as figure\n"
     ]
    },
    {
     "data": {
      "image/png": "[encoded data removed]",
      "text/plain": [
       "<Figure size 720x216 with 12 Axes>"
      ]
     },
     "metadata": {
      "needs_background": "light"
     },
     "output_type": "display_data"
    }
   ],
   "source": [
    "if plot_PC_reconstruction:\n",
    "    # Visualize the reconstructed data (X_reconstructured) from the first K\n",
    "    # principal components by selectecting D number of observations (or D\n",
    "    # number of random observations x_idx)\n",
    "    figure(figsize=(10,3))\n",
    "    D = len(n)\n",
    "    for d in range(D):\n",
    "        x_idx = np.random.randint(0,N)\n",
    "        subplot(2, D, d+1)\n",
    "        \n",
    "        # I = X.iloc[x_idx,:].values.reshape(16,16)\n",
    "        I = X.iloc[d,:].values.reshape(sqrt_M,sqrt_M)        \n",
    "        imshow(I, cmap=cm.gray_r)\n",
    "        title('Original')\n",
    "        \n",
    "        subplot(2, D, D+d+1)\n",
    "        # I = np.reshape(X_proj[d,:], (sqrt_M,sqrt_M))\n",
    "        I = X_proj.iloc[d,:].values.reshape(sqrt_M,sqrt_M) \n",
    "        imshow(I, cmap=cm.gray_r)\n",
    "        title('Reconstr.')\n",
    "    if save_figure:\n",
    "        save_figure_w_comment(figTitle = exerciseName,\n",
    "                    comment = \\\n",
    "                    'USPS_handwritten_original_vs_reconstructed_digit_w_{}_PCs'.format(K))  "
   ]
  },
  {
   "cell_type": "code",
   "execution_count": 24,
   "id": "narrative-orbit",
   "metadata": {},
   "outputs": [
    {
     "data": {
      "text/plain": [
       "True"
      ]
     },
     "execution_count": 24,
     "metadata": {},
     "output_type": "execute_result"
    }
   ],
   "source": [
    "save_figure"
   ]
  },
  {
   "cell_type": "code",
   "execution_count": 25,
   "id": "ordered-wound",
   "metadata": {},
   "outputs": [
    {
     "data": {
      "text/plain": [
       "'K_ex2_2_2'"
      ]
     },
     "execution_count": 25,
     "metadata": {},
     "output_type": "execute_result"
    }
   ],
   "source": [
    "exerciseName"
   ]
  },
  {
   "cell_type": "code",
   "execution_count": 26,
   "id": "right-tribute",
   "metadata": {},
   "outputs": [],
   "source": [
    "        \n",
    "    \n",
    "\n",
    "# # Visualize the pricipal components\n",
    "# figure(figsize=(8,6))\n",
    "# for k in range(K):\n",
    "#     N1 = np.ceil(np.sqrt(K)); N2 = np.ceil(K/N1)\n",
    "#     subplot(N2, N1, k+1)\n",
    "#     I = np.reshape(V[:,k], (16,16))\n",
    "#     imshow(I, cmap=cm.hot)\n",
    "#     title('PC{0}'.format(k+1));\n",
    "\n",
    "# # output to screen\n",
    "# show()\n",
    "\n",
    "# '''\n",
    "# print('Ran Exercise 2.2.2')"
   ]
  },
  {
   "cell_type": "code",
   "execution_count": null,
   "id": "described-group",
   "metadata": {},
   "outputs": [],
   "source": []
  },
  {
   "cell_type": "code",
   "execution_count": null,
   "id": "unable-deadline",
   "metadata": {},
   "outputs": [],
   "source": []
  }
 ],
 "metadata": {
  "kernelspec": {
   "display_name": "Python 3",
   "language": "python",
   "name": "python3"
  },
  "language_info": {
   "codemirror_mode": {
    "name": "ipython",
    "version": 3
   },
   "file_extension": ".py",
   "mimetype": "text/x-python",
   "name": "python",
   "nbconvert_exporter": "python",
   "pygments_lexer": "ipython3",
   "version": "3.8.2"
  }
 },
 "nbformat": 4,
 "nbformat_minor": 5
}
